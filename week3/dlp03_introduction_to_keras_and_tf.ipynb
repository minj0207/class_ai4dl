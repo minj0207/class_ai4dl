{
  "cells": [
    {
      "cell_type": "markdown",
      "metadata": {
        "id": "jHY6sbTdyIFE"
      },
      "source": [
        "# 3장 케라스와 텐서플로우"
      ]
    },
    {
      "cell_type": "markdown",
      "metadata": {
        "id": "ZQWgumguyIFG"
      },
      "source": [
        "__감사말__: 프랑소와 숄레의 [Deep Learning with Python, Second Edition](https://www.manning.com/books/deep-learning-with-python-second-edition?a_aid=keras&a_bid=76564dff) 3장에 사용된 코드에 대한 설명을 담고 있으며 텐서플로우 2.6 버전에서 작성되었습니다. 소스코드를 공개한 저자에게 감사드립니다."
      ]
    },
    {
      "cell_type": "markdown",
      "metadata": {
        "id": "abupkOe1yIFG"
      },
      "source": [
        "__구글 코랩 설정__: '런타임 -> 런타임 유형 변경' 메뉴에서 GPU를 지정한다.\n",
        "이후 아래 명령어를 실행했을 때 오류가 발생하지 않으면 필요할 때 GPU가 자동 사용된다.\n",
        "\n",
        "```\n",
        "!nvidia-smi\n",
        "```\n",
        "\n",
        "구글 코랩에서 사용되는 tensorflow 버전을 확인하려면 아래 명령문을 실행한다.\n",
        "\n",
        "```python\n",
        "import tensorflow as tf\n",
        "tf.__version__\n",
        "```\n",
        "\n",
        "tensorflow가 GPU를 사용하는지 여부를 알고 싶으면 \n",
        "주피터 노트북 등 사용하는 편집기 및 파이썬 터미널에서 아래 명령문을 실행한다.\n",
        "\n",
        "```python\n",
        "import tensorflow as tf\n",
        "tf.config.list_physical_devices('GPU')\n",
        "```"
      ]
    },
    {
      "cell_type": "markdown",
      "metadata": {
        "id": "JXZOA143yIFH"
      },
      "source": [
        "## 주요 내용"
      ]
    },
    {
      "cell_type": "markdown",
      "metadata": {
        "id": "UQzDxbT1yIFH"
      },
      "source": [
        "- 딥러닝 필수 요소\n",
        "- 케라스와 텐서플로우 간략 소개\n",
        "- 텐서플로우, 케라스, GPU를 활용한 딥러닝 작업환경\n",
        "- 케라스와 텐서플로우를 이용한 신경망의 핵심 구성요소 구현"
      ]
    },
    {
      "cell_type": "markdown",
      "metadata": {
        "id": "ZmB4YK6PyIFH"
      },
      "source": [
        "## 3.5 텐서플로우 기본 사용법"
      ]
    },
    {
      "cell_type": "markdown",
      "metadata": {
        "id": "s8gCCiVmyIFI"
      },
      "source": [
        "### 신경망 모델 훈련 핵심 1\n",
        "\n",
        "1. 상수 텐서와 변수 텐서\n",
        "    - 상수 텐서(constant tensor): 입출력 데이터 등 변하지 않는 텐서\n",
        "    - 변수 텐서(variable): 모델 가중치, 편향 등 업데이트 되는 텐서\n",
        "1. 텐서 연산: 덧셈, relu, 점곱 등\n",
        "1. 역전파(backpropagation): \n",
        "    - 손실함수의 그레이디언트 계산 후 모델 가중치 업데이트\n",
        "    - 그레이디언트 테이프(`GradientTape`) 이용"
      ]
    },
    {
      "cell_type": "markdown",
      "metadata": {
        "id": "ma-kn1mryIFI"
      },
      "source": [
        "### 텐서플로우 기본 API 활용법"
      ]
    },
    {
      "cell_type": "code",
      "execution_count": 1,
      "metadata": {
        "id": "72Nma6w9yIFI"
      },
      "outputs": [],
      "source": [
        "import tensorflow as tf"
      ]
    },
    {
      "cell_type": "markdown",
      "metadata": {
        "id": "DPJv8TjTyIFJ"
      },
      "source": [
        "#### 상수 텐서\n",
        "\n",
        "상수 텐서는 한 번 생성되면 값을 수정할 수 없다.\n",
        "딥러닝 연산에 많이 사용되는 상수 텐서는 다음과 같다."
      ]
    },
    {
      "cell_type": "markdown",
      "metadata": {
        "id": "kflSpFAtyIFJ"
      },
      "source": [
        "- 상수 텐서 수동 생성"
      ]
    },
    {
      "cell_type": "code",
      "execution_count": 2,
      "metadata": {
        "colab": {
          "base_uri": "https://localhost:8080/"
        },
        "id": "XiByhneKyIFJ",
        "outputId": "8bb903de-a8ce-4d5c-e1ff-513653375bc7"
      },
      "outputs": [
        {
          "output_type": "stream",
          "name": "stdout",
          "text": [
            "tf.Tensor(\n",
            "[[1. 2.]\n",
            " [3. 4.]], shape=(2, 2), dtype=float32)\n"
          ]
        }
      ],
      "source": [
        "x = tf.constant([[1., 2.], [3., 4.]])\n",
        "print(x)"
      ]
    },
    {
      "cell_type": "markdown",
      "metadata": {
        "id": "EwDY50hFyIFK"
      },
      "source": [
        "- 1로만 이루어진 텐서"
      ]
    },
    {
      "cell_type": "code",
      "execution_count": 3,
      "metadata": {
        "colab": {
          "base_uri": "https://localhost:8080/"
        },
        "id": "9155t3zqyIFL",
        "outputId": "b61eddfd-a898-4d2b-c9cd-d30c75848081"
      },
      "outputs": [
        {
          "output_type": "stream",
          "name": "stdout",
          "text": [
            "tf.Tensor(\n",
            "[[1.]\n",
            " [1.]], shape=(2, 1), dtype=float32)\n"
          ]
        }
      ],
      "source": [
        "x = tf.ones(shape=(2, 1))\n",
        "print(x)"
      ]
    },
    {
      "cell_type": "markdown",
      "metadata": {
        "id": "iLKDECeFyIFL"
      },
      "source": [
        "- 0으로만 이루어진 텐서"
      ]
    },
    {
      "cell_type": "code",
      "execution_count": 4,
      "metadata": {
        "colab": {
          "base_uri": "https://localhost:8080/"
        },
        "id": "ncRwfh51yIFL",
        "outputId": "2080ef22-3cc0-452a-b624-cba3ce5d0b6c"
      },
      "outputs": [
        {
          "output_type": "stream",
          "name": "stdout",
          "text": [
            "tf.Tensor(\n",
            "[[0.]\n",
            " [0.]], shape=(2, 1), dtype=float32)\n"
          ]
        }
      ],
      "source": [
        "x = tf.zeros(shape=(2, 1))\n",
        "print(x)"
      ]
    },
    {
      "cell_type": "markdown",
      "metadata": {
        "id": "jrOjC68AyIFL"
      },
      "source": [
        "- `normal()` 함수: 0과 1사이의 부동소수점을 정규분포를 따르도록 무작위적으로 선택\n",
        "    - `mean`: 평균값\n",
        "    - `stddev`: 표준편차"
      ]
    },
    {
      "cell_type": "code",
      "execution_count": 5,
      "metadata": {
        "colab": {
          "base_uri": "https://localhost:8080/"
        },
        "id": "uVuajPJsyIFM",
        "outputId": "a6b11092-5e66-474e-9b84-c6960cc200ac"
      },
      "outputs": [
        {
          "output_type": "stream",
          "name": "stdout",
          "text": [
            "tf.Tensor(\n",
            "[[-0.6783121 ]\n",
            " [ 0.18633555]\n",
            " [-0.5999797 ]], shape=(3, 1), dtype=float32)\n"
          ]
        }
      ],
      "source": [
        "x = tf.random.normal(shape=(3, 1), mean=0., stddev=1.)\n",
        "print(x)"
      ]
    },
    {
      "cell_type": "markdown",
      "metadata": {
        "id": "UaOxG4oSyIFM"
      },
      "source": [
        "- `uniform()` 함수: 지정된 구간에서 부동소수점을 균등분포를 따르도록 무작위적으로 선택\n",
        "    - `minval`: 구간 최솟값\n",
        "    - `maxval`: 구간 최댓값"
      ]
    },
    {
      "cell_type": "code",
      "execution_count": 6,
      "metadata": {
        "colab": {
          "base_uri": "https://localhost:8080/"
        },
        "id": "ktk5RV0eyIFM",
        "outputId": "a2267136-09e8-4f7d-a1c4-a282e3b5194c"
      },
      "outputs": [
        {
          "output_type": "stream",
          "name": "stdout",
          "text": [
            "tf.Tensor(\n",
            "[[0.3240168 ]\n",
            " [0.73688054]\n",
            " [0.71323216]], shape=(3, 1), dtype=float32)\n"
          ]
        }
      ],
      "source": [
        "x = tf.random.uniform(shape=(3, 1), minval=0., maxval=1.)\n",
        "print(x)"
      ]
    },
    {
      "cell_type": "markdown",
      "metadata": {
        "id": "v3xeFCDmyIFM"
      },
      "source": [
        "한 번 생성된 상수 텐서는 수정이 불가능하다. "
      ]
    },
    {
      "cell_type": "markdown",
      "metadata": {
        "id": "zRgc3bq6yIFM"
      },
      "source": [
        "```python\n",
        ">>> x[0, 0] = 1.0\n",
        "\n",
        "---------------------------------------------------------------------------\n",
        "TypeError                                 Traceback (most recent call last)\n",
        "<ipython-input-7-242a5d4d3c4a> in <module>\n",
        "----> 1 x[0, 0] = 1.0\n",
        "\n",
        "TypeError: 'tensorflow.python.framework.ops.EagerTensor' object does not support item assignment\n",
        "```"
      ]
    },
    {
      "cell_type": "code",
      "execution_count": 7,
      "metadata": {
        "colab": {
          "base_uri": "https://localhost:8080/"
        },
        "id": "aeMNzbnpyIFN",
        "outputId": "6c9bb6b8-a6d7-44bd-e7a9-e35a65be0733"
      },
      "outputs": [
        {
          "output_type": "execute_result",
          "data": {
            "text/plain": [
              "<tf.Tensor: shape=(), dtype=float32, numpy=0.3240168>"
            ]
          },
          "metadata": {},
          "execution_count": 7
        }
      ],
      "source": [
        "x[0, 0]"
      ]
    },
    {
      "cell_type": "code",
      "execution_count": 8,
      "metadata": {
        "colab": {
          "base_uri": "https://localhost:8080/"
        },
        "id": "lRwgJ93-yIFN",
        "outputId": "ed46aa65-419a-40db-9049-851de6d5c33f"
      },
      "outputs": [
        {
          "output_type": "execute_result",
          "data": {
            "text/plain": [
              "tensorflow.python.framework.ops.EagerTensor"
            ]
          },
          "metadata": {},
          "execution_count": 8
        }
      ],
      "source": [
        "type(x[0, 0])"
      ]
    },
    {
      "cell_type": "markdown",
      "metadata": {
        "id": "5jEwfVLYyIFN"
      },
      "source": [
        "넘파이 어레이는 반면에 수정 가능하다."
      ]
    },
    {
      "cell_type": "code",
      "execution_count": 9,
      "metadata": {
        "colab": {
          "base_uri": "https://localhost:8080/"
        },
        "id": "L72C201lyIFN",
        "outputId": "59732e77-e451-41eb-c458-16cb76b2bbdb"
      },
      "outputs": [
        {
          "output_type": "stream",
          "name": "stdout",
          "text": [
            "[[0. 1.]\n",
            " [1. 1.]]\n"
          ]
        }
      ],
      "source": [
        "import numpy as np\n",
        "\n",
        "x = np.ones(shape=(2, 2))\n",
        "\n",
        "x[0, 0] = 0.0\n",
        "print(x)"
      ]
    },
    {
      "cell_type": "markdown",
      "metadata": {
        "id": "P51-0YLDyIFN"
      },
      "source": [
        "#### 변수 텐서"
      ]
    },
    {
      "cell_type": "markdown",
      "metadata": {
        "id": "U2UrJi-1yIFO"
      },
      "source": [
        "신경망 모델 훈련 도중에 가중치 텐서는 업데이트될 수 있어야 한다.\n",
        "이런 텐서는 변수 텐서로 선언해야 하며, \n",
        "`Variaible` 클래스로 감싼다."
      ]
    },
    {
      "cell_type": "code",
      "execution_count": 10,
      "metadata": {
        "colab": {
          "base_uri": "https://localhost:8080/"
        },
        "id": "jq2OYAohyIFO",
        "outputId": "3d351d3e-f683-4b9f-d2a3-d9b3d1216ce1"
      },
      "outputs": [
        {
          "output_type": "stream",
          "name": "stdout",
          "text": [
            "<tf.Variable 'Variable:0' shape=(3, 1) dtype=float32, numpy=\n",
            "array([[-1.7497668 ],\n",
            "       [ 0.16484366],\n",
            "       [ 1.8440264 ]], dtype=float32)>\n"
          ]
        }
      ],
      "source": [
        "v = tf.Variable(initial_value=tf.random.normal(shape=(3, 1)))\n",
        "print(v)"
      ]
    },
    {
      "cell_type": "markdown",
      "metadata": {
        "id": "qgVK-1a7yIFO"
      },
      "source": [
        "`Variable` 클래스의 `assign()` 메서드를 활용하여 텐서 항목 전체 또는 \n",
        "일부를 수정할 수 있다."
      ]
    },
    {
      "cell_type": "code",
      "execution_count": 11,
      "metadata": {
        "colab": {
          "base_uri": "https://localhost:8080/"
        },
        "id": "FgkMytVpyIFO",
        "outputId": "3d688238-d2ec-4141-b497-778be42a2e12"
      },
      "outputs": [
        {
          "output_type": "execute_result",
          "data": {
            "text/plain": [
              "<tf.Variable 'UnreadVariable' shape=(3, 1) dtype=float32, numpy=\n",
              "array([[1.],\n",
              "       [1.],\n",
              "       [1.]], dtype=float32)>"
            ]
          },
          "metadata": {},
          "execution_count": 11
        }
      ],
      "source": [
        "v.assign(tf.ones((3, 1)))"
      ]
    },
    {
      "cell_type": "markdown",
      "metadata": {
        "id": "n3eoTlsbyIFO"
      },
      "source": [
        "__주의사항__: 모양(shape)이 동일한 텐서를 사용해야 한다.\n",
        "\n",
        "```python\n",
        ">>> v.assign(tf.ones((3, 2)))\n",
        "\n",
        "---------------------------------------------------------------------------\n",
        "ValueError                                Traceback (most recent call last)\n",
        "<ipython-input-13-e381ab0c94e6> in <module>\n",
        "----> 1 v.assign(tf.ones((3, 2)))\n",
        "\n",
        "~\\anaconda3\\lib\\site-packages\\tensorflow\\python\\ops\\resource_variable_ops.py in assign(self, value, use_locking, name, read_value)\n",
        "    886         else:\n",
        "    887           tensor_name = \" \" + str(self.name)\n",
        "--> 888         raise ValueError(\n",
        "    889             (\"Cannot assign to variable%s due to variable shape %s and value \"\n",
        "    890              \"shape %s are incompatible\") %\n",
        "\n",
        "ValueError: Cannot assign to variable Variable:0 due to variable shape (3, 1) and value shape (3, 2) are incompatible\n",
        "```"
      ]
    },
    {
      "cell_type": "markdown",
      "metadata": {
        "id": "DwK4LV5DyIFP"
      },
      "source": [
        "특정 항목을 수정하려면 인덱싱과 함께 사용한다."
      ]
    },
    {
      "cell_type": "code",
      "execution_count": 12,
      "metadata": {
        "colab": {
          "base_uri": "https://localhost:8080/"
        },
        "id": "8vSxOUHByIFP",
        "outputId": "e660465a-c319-4386-ae50-88295471f23d"
      },
      "outputs": [
        {
          "output_type": "execute_result",
          "data": {
            "text/plain": [
              "<tf.Tensor: shape=(), dtype=float32, numpy=1.0>"
            ]
          },
          "metadata": {},
          "execution_count": 12
        }
      ],
      "source": [
        "v[0, 0]"
      ]
    },
    {
      "cell_type": "code",
      "execution_count": 13,
      "metadata": {
        "colab": {
          "base_uri": "https://localhost:8080/"
        },
        "id": "i1YDTDHByIFP",
        "outputId": "d818be9e-3afb-43a7-f3f8-6de5cef881b0"
      },
      "outputs": [
        {
          "output_type": "execute_result",
          "data": {
            "text/plain": [
              "tensorflow.python.framework.ops.EagerTensor"
            ]
          },
          "metadata": {},
          "execution_count": 13
        }
      ],
      "source": [
        "type(v[0, 0])"
      ]
    },
    {
      "cell_type": "markdown",
      "metadata": {
        "id": "JQe0N1A6yIFP"
      },
      "source": [
        "상수 텐서의 경우처럼 각 항목은 `EagerTensor` 객체이지만 이번엔 항목 변환이 가능하다.\n",
        "텐서플로우 내부에서 변수 텐서인 경우와 아닌 경우를 구분해서 `assign()` 메서드의 지원여부를 \n",
        "판단하는 것으로 보인다."
      ]
    },
    {
      "cell_type": "code",
      "execution_count": 14,
      "metadata": {
        "colab": {
          "base_uri": "https://localhost:8080/"
        },
        "id": "ZuHrncUUyIFP",
        "outputId": "f0bda808-abbe-414a-c9a3-3267d1734a14"
      },
      "outputs": [
        {
          "output_type": "execute_result",
          "data": {
            "text/plain": [
              "<tf.Variable 'UnreadVariable' shape=(3, 1) dtype=float32, numpy=\n",
              "array([[3.],\n",
              "       [1.],\n",
              "       [1.]], dtype=float32)>"
            ]
          },
          "metadata": {},
          "execution_count": 14
        }
      ],
      "source": [
        "v[0, 0].assign(3.)"
      ]
    },
    {
      "cell_type": "markdown",
      "metadata": {
        "id": "odaQJXm5yIFP"
      },
      "source": [
        "`assign_add()` 메서드는 변수 텐서에 대한 덧셈 연산을 수행한다.\n",
        "단, 해당 객체의 항목이 업데이트된다."
      ]
    },
    {
      "cell_type": "code",
      "execution_count": 15,
      "metadata": {
        "colab": {
          "base_uri": "https://localhost:8080/"
        },
        "id": "mhtbeka7yIFP",
        "outputId": "39ae64fe-2ca0-4401-82a5-487e9a717e2d"
      },
      "outputs": [
        {
          "output_type": "execute_result",
          "data": {
            "text/plain": [
              "<tf.Variable 'UnreadVariable' shape=(3, 1) dtype=float32, numpy=\n",
              "array([[4.],\n",
              "       [2.],\n",
              "       [2.]], dtype=float32)>"
            ]
          },
          "metadata": {},
          "execution_count": 15
        }
      ],
      "source": [
        "v.assign_add(tf.ones((3, 1)))"
      ]
    },
    {
      "cell_type": "markdown",
      "metadata": {
        "id": "zpR3l4GayIFQ"
      },
      "source": [
        "#### 텐서 연산"
      ]
    },
    {
      "cell_type": "markdown",
      "metadata": {
        "id": "8cFwOekMyIFQ"
      },
      "source": [
        "텐서 연산은 넘파이 어레이에 대한 연산과 거의 같다.\n",
        "다음은 몇 가지 예제를 보여준다.\n",
        "\n",
        "__참고__: 보다 다양한 텐서와 텐서 연산에 대한 자세한 설명은 [텐서플로우 가이드(TensorFlow Guide)](https://www.tensorflow.org/guide/tensor) 영어판을 참고하라."
      ]
    },
    {
      "cell_type": "code",
      "execution_count": 16,
      "metadata": {
        "id": "55YCpey1yIFQ"
      },
      "outputs": [],
      "source": [
        "import numpy as np\n",
        "\n",
        "a = np.array([[2., 1.],\n",
        "              [3., -2.]], dtype=np.float32)"
      ]
    },
    {
      "cell_type": "code",
      "execution_count": 17,
      "metadata": {
        "colab": {
          "base_uri": "https://localhost:8080/"
        },
        "id": "NgRMEFjQyIFQ",
        "outputId": "57c1d3b6-fda8-43c2-a483-6e438133ab2e"
      },
      "outputs": [
        {
          "output_type": "stream",
          "name": "stdout",
          "text": [
            "tf.Tensor(\n",
            "[[ 3.  2.]\n",
            " [ 4. -1.]], shape=(2, 2), dtype=float32)\n"
          ]
        }
      ],
      "source": [
        "a = tf.convert_to_tensor(a)\n",
        "a += tf.ones((2, 2))\n",
        "print(a)"
      ]
    },
    {
      "cell_type": "code",
      "execution_count": 18,
      "metadata": {
        "colab": {
          "base_uri": "https://localhost:8080/"
        },
        "id": "wGWOEGINyIFQ",
        "outputId": "97f2090d-9f44-467e-ca77-9bb9a590b364"
      },
      "outputs": [
        {
          "output_type": "stream",
          "name": "stdout",
          "text": [
            "tf.Tensor(\n",
            "[[ 9.  4.]\n",
            " [16.  1.]], shape=(2, 2), dtype=float32)\n"
          ]
        }
      ],
      "source": [
        "b = tf.square(a)\n",
        "print(b)"
      ]
    },
    {
      "cell_type": "code",
      "execution_count": 19,
      "metadata": {
        "colab": {
          "base_uri": "https://localhost:8080/"
        },
        "id": "08HQjF9HyIFQ",
        "outputId": "01a0c379-8c3d-4842-fd98-cf4f4b94fef1"
      },
      "outputs": [
        {
          "output_type": "stream",
          "name": "stdout",
          "text": [
            "tf.Tensor(\n",
            "[[1.7320508 1.4142135]\n",
            " [2.              nan]], shape=(2, 2), dtype=float32)\n"
          ]
        }
      ],
      "source": [
        "c = tf.sqrt(a)\n",
        "print(c)"
      ]
    },
    {
      "cell_type": "code",
      "execution_count": 20,
      "metadata": {
        "colab": {
          "base_uri": "https://localhost:8080/"
        },
        "id": "lcd7bnXFyIFQ",
        "outputId": "34235a3d-2424-48a1-f22e-0dc0030072d5"
      },
      "outputs": [
        {
          "output_type": "stream",
          "name": "stdout",
          "text": [
            "tf.Tensor(\n",
            "[[3. 2.]\n",
            " [4. 0.]], shape=(2, 2), dtype=float32)\n"
          ]
        }
      ],
      "source": [
        "a = tf.nn.relu(a)\n",
        "print(a)"
      ]
    },
    {
      "cell_type": "code",
      "execution_count": 21,
      "metadata": {
        "colab": {
          "base_uri": "https://localhost:8080/"
        },
        "id": "b0HwGpP6yIFR",
        "outputId": "1a183c55-4bbb-42db-aeaf-b9bbc644a884"
      },
      "outputs": [
        {
          "output_type": "stream",
          "name": "stdout",
          "text": [
            "tf.Tensor(\n",
            "[[1.7320508 1.4142135]\n",
            " [2.        0.       ]], shape=(2, 2), dtype=float32)\n"
          ]
        }
      ],
      "source": [
        "c = tf.sqrt(a)\n",
        "print(c)"
      ]
    },
    {
      "cell_type": "code",
      "execution_count": 22,
      "metadata": {
        "colab": {
          "base_uri": "https://localhost:8080/"
        },
        "id": "1HJwTaUfyIFR",
        "outputId": "af0d49d4-a80f-47bb-efff-3cb1451f45cb"
      },
      "outputs": [
        {
          "output_type": "stream",
          "name": "stdout",
          "text": [
            "tf.Tensor(\n",
            "[[10.732051   5.4142137]\n",
            " [18.         1.       ]], shape=(2, 2), dtype=float32)\n"
          ]
        }
      ],
      "source": [
        "d = b + c\n",
        "print(d)"
      ]
    },
    {
      "cell_type": "markdown",
      "metadata": {
        "id": "5qXQBE5uyIFR"
      },
      "source": [
        "`matmul()` 곱셈은 넘파이의 점곱(dot) 연산자와 유사하게 작동하며\n",
        "2차원 행렬모양의 텐서의 경우 행렬 곱으로 실행된다."
      ]
    },
    {
      "cell_type": "code",
      "execution_count": 23,
      "metadata": {
        "colab": {
          "base_uri": "https://localhost:8080/"
        },
        "id": "mHxnPqBKyIFR",
        "outputId": "82ed5ff6-0a7d-4b9b-d1a8-e3d03fd3f206"
      },
      "outputs": [
        {
          "output_type": "stream",
          "name": "stdout",
          "text": [
            "tf.Tensor(\n",
            "[[59. 14.]\n",
            " [36. 16.]], shape=(2, 2), dtype=float32)\n"
          ]
        }
      ],
      "source": [
        "e = tf.matmul(a, b)\n",
        "print(e)"
      ]
    },
    {
      "cell_type": "markdown",
      "metadata": {
        "id": "r9YK8-T8yIFR"
      },
      "source": [
        "곱셈 연산자(`*`)는 항목별 곱셈으로 처리된다."
      ]
    },
    {
      "cell_type": "code",
      "execution_count": 24,
      "metadata": {
        "colab": {
          "base_uri": "https://localhost:8080/"
        },
        "id": "D5zuyIH0yIFR",
        "outputId": "474da6fb-c702-43eb-e420-8b2a70de03be"
      },
      "outputs": [
        {
          "output_type": "stream",
          "name": "stdout",
          "text": [
            "tf.Tensor(\n",
            "[[177.  28.]\n",
            " [144.   0.]], shape=(2, 2), dtype=float32)\n"
          ]
        }
      ],
      "source": [
        "e *= a\n",
        "print(e)"
      ]
    },
    {
      "cell_type": "markdown",
      "metadata": {
        "id": "kgty9DYjyIFR"
      },
      "source": [
        "### `GradientTape` API (다시 살펴 보기)"
      ]
    },
    {
      "cell_type": "markdown",
      "metadata": {
        "id": "Ke4BKDPEyIFR"
      },
      "source": [
        "그레이디언트 테이프는 텐서 변수에 의존하는 미분함수의 그레이디언트를 자동 계산해준다.\n",
        "아래 코드는 제곱 함수의 미분을 계산한다.\n",
        "\n",
        "$$\n",
        "f(x) = x^2 \\quad \\Longrightarrow \\quad \\nabla f(x) = \\frac{df(x)}{dx} = 2x\n",
        "$$"
      ]
    },
    {
      "cell_type": "code",
      "execution_count": 25,
      "metadata": {
        "colab": {
          "base_uri": "https://localhost:8080/"
        },
        "id": "cVjqaloryIFS",
        "outputId": "fa7b4665-6d86-4dbc-ec3d-a2e6135bb408"
      },
      "outputs": [
        {
          "output_type": "stream",
          "name": "stdout",
          "text": [
            "tf.Tensor(6.0, shape=(), dtype=float32)\n"
          ]
        }
      ],
      "source": [
        "input_var = tf.Variable(initial_value=3.)\n",
        "\n",
        "with tf.GradientTape() as tape:\n",
        "    result = tf.square(input_var)\n",
        "\n",
        "gradient = tape.gradient(result, input_var)\n",
        "\n",
        "print(gradient)"
      ]
    },
    {
      "cell_type": "markdown",
      "metadata": {
        "id": "TSjQHifOyIFS"
      },
      "source": [
        "그레이디언트 테이프 기능을 이용하여 신경망 모델 훈련 중에\n",
        "손실 함수의 그레이디언트를 계산한다.\n",
        "\n",
        "```python\n",
        "gradient = tape.gradient(loss, weights)\n",
        "```\n",
        "\n",
        "- `loss`: `weights` 텐서 변수에 의존하는 손실 함수\n",
        "- `weights`: 가중치 어레이"
      ]
    },
    {
      "cell_type": "markdown",
      "metadata": {
        "id": "47PFhnf7yIFS"
      },
      "source": [
        "상수 텐서에 대해 그레이디언트 테이프를 이용하려면 `tape.watch()` 메서드로 감싸야 한다."
      ]
    },
    {
      "cell_type": "code",
      "execution_count": 26,
      "metadata": {
        "colab": {
          "base_uri": "https://localhost:8080/"
        },
        "id": "OtG7aMX8yIFS",
        "outputId": "a713c8f1-6ea8-4b4e-ac17-3299fe602df4"
      },
      "outputs": [
        {
          "output_type": "stream",
          "name": "stdout",
          "text": [
            "tf.Tensor(6.0, shape=(), dtype=float32)\n"
          ]
        }
      ],
      "source": [
        "input_const = tf.constant(3.)\n",
        "\n",
        "with tf.GradientTape() as tape:\n",
        "    tape.watch(input_const)\n",
        "    result = tf.square(input_const)\n",
        "\n",
        "gradient = tape.gradient(result, input_const)\n",
        "\n",
        "print(gradient)"
      ]
    },
    {
      "cell_type": "markdown",
      "metadata": {
        "id": "3go0TWl1yIFS"
      },
      "source": [
        "__참고__: 2차 미분도 가능하지만 여기서는 관심 대상이 아니다.\n",
        "\n",
        "```python\n",
        "time = tf.Variable(0.)\n",
        "\n",
        "with tf.GradientTape() as outer_tape:\n",
        "    with tf.GradientTape() as inner_tape:\n",
        "        position =  4.9 * time ** 2\n",
        "    speed = inner_tape.gradient(position, time)\n",
        "\n",
        "acceleration = outer_tape.gradient(speed, time)\n",
        "```"
      ]
    },
    {
      "cell_type": "markdown",
      "metadata": {
        "id": "1MLhYi7nyIFS"
      },
      "source": [
        "### 저수준 선형 분류 신경망 구현"
      ]
    },
    {
      "cell_type": "markdown",
      "metadata": {
        "id": "7iO5MDiOyIFS"
      },
      "source": [
        "순수 텐서플로우 API만을 이용하여 선형 분류 신경망을 구현한다."
      ]
    },
    {
      "cell_type": "markdown",
      "metadata": {
        "id": "4JrpyElvyIFS"
      },
      "source": [
        "#### 데이터셋 생성"
      ]
    },
    {
      "cell_type": "markdown",
      "metadata": {
        "id": "aGT-meO7yIFS"
      },
      "source": [
        "- `np.random.multivariate_normal()`\n",
        "    - 다변량 정규분포를 따르는 데이터 생성\n",
        "    - 평균값과 공분산 지정 필요\n",
        "- 음성 데이터셋\n",
        "    - 샘플 수: 1,000\n",
        "    - 평균값: `[0, 3]`\n",
        "    - 공분산: `[[1, 0.5],[0.5, 1]]`\n",
        "- 양성 데이터셋\n",
        "    - 샘플 수: 1,000\n",
        "    - 평균값: `[3, 0]`\n",
        "    - 공분산: `[[1, 0.5],[0.5, 1]]`"
      ]
    },
    {
      "cell_type": "code",
      "execution_count": 27,
      "metadata": {
        "id": "LpfGVZz1yIFT"
      },
      "outputs": [],
      "source": [
        "num_samples_per_class = 1000\n",
        "\n",
        "# 음성 데이터셋\n",
        "negative_samples = np.random.multivariate_normal(\n",
        "    mean=[0, 3], cov=[[1, 0.5],[0.5, 1]], size=num_samples_per_class)\n",
        "\n",
        "# 양성 데이터셋\n",
        "positive_samples = np.random.multivariate_normal(\n",
        "    mean=[3, 0], cov=[[1, 0.5],[0.5, 1]], size=num_samples_per_class)"
      ]
    },
    {
      "cell_type": "markdown",
      "metadata": {
        "id": "X5MeIaq_yIFT"
      },
      "source": [
        "두 개의 `(1000, 2)` 모양의 양성, 음성 데이터셋을 하나의 `(2000, 2)` 모양의 데이터셋으로 합치면서\n",
        "동시에 자료형을 `np.float32`로 지정한다. \n",
        "자료형을 지정하지 않으면 `np.float64`로 지정되어 보다 많은 메모리와 실행시간을 요구한다."
      ]
    },
    {
      "cell_type": "code",
      "execution_count": 28,
      "metadata": {
        "id": "7-t43tZOyIFT"
      },
      "outputs": [],
      "source": [
        "inputs = np.vstack((negative_samples, positive_samples)).astype(np.float32)"
      ]
    },
    {
      "cell_type": "markdown",
      "metadata": {
        "id": "DP3A3h7fyIFT"
      },
      "source": [
        "음성 샘플의 타깃은 0, 양성 샘플의 타깃은 1로 지정한다."
      ]
    },
    {
      "cell_type": "code",
      "execution_count": 29,
      "metadata": {
        "id": "Mg9fW59syIFT"
      },
      "outputs": [],
      "source": [
        "targets = np.vstack((np.zeros((num_samples_per_class, 1), dtype=\"float32\"),\n",
        "                     np.ones((num_samples_per_class, 1), dtype=\"float32\")))"
      ]
    },
    {
      "cell_type": "markdown",
      "metadata": {
        "id": "AewYs1z5yIFU"
      },
      "source": [
        "양성, 음성 샘플을 색깔로 구분하면 다음과 같다.\n",
        "\n",
        "- `inputs[:, 0]`: x 좌표\n",
        "- `inputs[:, 1]`: x 좌표\n",
        "- `c=targets[:, 0]`: 0 또는 1에 따른 색상 지정"
      ]
    },
    {
      "cell_type": "code",
      "execution_count": 30,
      "metadata": {
        "colab": {
          "base_uri": "https://localhost:8080/",
          "height": 430
        },
        "id": "yQ09579WyIFU",
        "outputId": "a40a0932-87ce-4709-88b2-0727be25f52b"
      },
      "outputs": [
        {
          "output_type": "display_data",
          "data": {
            "text/plain": [
              "<Figure size 640x480 with 1 Axes>"
            ],
            "image/png": "[encoded data removed]"
          },
          "metadata": {}
        }
      ],
      "source": [
        "import matplotlib.pyplot as plt\n",
        "\n",
        "plt.scatter(inputs[:, 0], inputs[:, 1], c=targets[:, 0])\n",
        "plt.show()"
      ]
    },
    {
      "cell_type": "markdown",
      "metadata": {
        "id": "O0C7Ta36yIFU"
      },
      "source": [
        "#### 가중치 변수 텐서 생성"
      ]
    },
    {
      "cell_type": "code",
      "execution_count": 31,
      "metadata": {
        "id": "d9iIaGglyIFU"
      },
      "outputs": [],
      "source": [
        "input_dim = 2     # 입력 샘플의 특성이 2개\n",
        "output_dim = 1    # 하나의 값으로 출력\n",
        "\n",
        "# 가중치: 무작위 초기화\n",
        "W = tf.Variable(initial_value=tf.random.uniform(shape=(input_dim, output_dim)))\n",
        "\n",
        "# 편향: 0으로 초기화\n",
        "b = tf.Variable(initial_value=tf.zeros(shape=(output_dim,)))"
      ]
    },
    {
      "cell_type": "markdown",
      "metadata": {
        "id": "0_6CObO4yIFU"
      },
      "source": [
        "#### 예측 모델(함수) 선언\n",
        "\n",
        "아래 함수는 하나의 층만 사용하는 모델이 출력값을 계산하는 과정이다."
      ]
    },
    {
      "cell_type": "code",
      "execution_count": 32,
      "metadata": {
        "id": "Gw5CSdmzyIFU"
      },
      "outputs": [],
      "source": [
        "def model(inputs):\n",
        "    return tf.matmul(inputs, W) + b"
      ]
    },
    {
      "cell_type": "markdown",
      "metadata": {
        "id": "ST2Nrp_0yIFV"
      },
      "source": [
        "#### 손실 함수: 평균 제곱 오차(MSE)\n",
        "\n",
        "- `tf.reduce_mean()`: 텐서에 포함된 항목들의 평균값 계산.\n",
        "    넘파이의 `np.mean()`과 결과는 동일하지만 텐서플로우의 텐서를 대상으로 함."
      ]
    },
    {
      "cell_type": "code",
      "execution_count": 33,
      "metadata": {
        "id": "E_QVkP0nyIFV"
      },
      "outputs": [],
      "source": [
        "def square_loss(targets, predictions):\n",
        "    per_sample_losses = tf.square(targets - predictions)\n",
        "    return tf.reduce_mean(per_sample_losses)"
      ]
    },
    {
      "cell_type": "markdown",
      "metadata": {
        "id": "YB5t8bDnyIFV"
      },
      "source": [
        "#### 훈련 단계\n",
        "\n",
        "하나의 배치에 대해 예측값을 계산한 후에 손실 함수의 그레이디언트를 이용하여 가중치와 편향을 업데이트한다. "
      ]
    },
    {
      "cell_type": "code",
      "execution_count": 34,
      "metadata": {
        "id": "Z_PQ_aJsyIFV"
      },
      "outputs": [],
      "source": [
        "learning_rate = 0.1\n",
        "\n",
        "def training_step(inputs, targets):\n",
        "    with tf.GradientTape() as tape:\n",
        "        predictions = model(inputs)\n",
        "        loss = square_loss(targets, predictions)\n",
        "    grad_loss_wrt_W, grad_loss_wrt_b = tape.gradient(loss, [W, b])\n",
        "    W.assign_sub(grad_loss_wrt_W * learning_rate)\n",
        "    b.assign_sub(grad_loss_wrt_b * learning_rate)\n",
        "    return loss"
      ]
    },
    {
      "cell_type": "markdown",
      "metadata": {
        "id": "sQhhkQ16yIFV"
      },
      "source": [
        "#### 배치 훈련\n",
        "\n",
        "배치 훈련을 총 40번 반복한다."
      ]
    },
    {
      "cell_type": "code",
      "execution_count": 35,
      "metadata": {
        "colab": {
          "base_uri": "https://localhost:8080/"
        },
        "id": "nvKq6InHyIFW",
        "outputId": "8155794c-cd22-4ff5-cea4-7a87e260d725"
      },
      "outputs": [
        {
          "output_type": "stream",
          "name": "stdout",
          "text": [
            "Loss at step 0: 5.0175\n",
            "Loss at step 1: 0.7282\n",
            "Loss at step 2: 0.2230\n",
            "Loss at step 3: 0.1544\n",
            "Loss at step 4: 0.1371\n",
            "Loss at step 5: 0.1265\n",
            "Loss at step 6: 0.1175\n",
            "Loss at step 7: 0.1093\n",
            "Loss at step 8: 0.1019\n",
            "Loss at step 9: 0.0951\n",
            "Loss at step 10: 0.0889\n",
            "Loss at step 11: 0.0832\n",
            "Loss at step 12: 0.0780\n",
            "Loss at step 13: 0.0733\n",
            "Loss at step 14: 0.0690\n",
            "Loss at step 15: 0.0650\n",
            "Loss at step 16: 0.0615\n",
            "Loss at step 17: 0.0582\n",
            "Loss at step 18: 0.0552\n",
            "Loss at step 19: 0.0525\n",
            "Loss at step 20: 0.0500\n",
            "Loss at step 21: 0.0477\n",
            "Loss at step 22: 0.0456\n",
            "Loss at step 23: 0.0437\n",
            "Loss at step 24: 0.0420\n",
            "Loss at step 25: 0.0404\n",
            "Loss at step 26: 0.0390\n",
            "Loss at step 27: 0.0377\n",
            "Loss at step 28: 0.0365\n",
            "Loss at step 29: 0.0354\n",
            "Loss at step 30: 0.0344\n",
            "Loss at step 31: 0.0334\n",
            "Loss at step 32: 0.0326\n",
            "Loss at step 33: 0.0318\n",
            "Loss at step 34: 0.0312\n",
            "Loss at step 35: 0.0305\n",
            "Loss at step 36: 0.0299\n",
            "Loss at step 37: 0.0294\n",
            "Loss at step 38: 0.0289\n",
            "Loss at step 39: 0.0285\n"
          ]
        }
      ],
      "source": [
        "for step in range(40):\n",
        "    loss = training_step(inputs, targets)\n",
        "    print(f\"Loss at step {step}: {loss:.4f}\")"
      ]
    },
    {
      "cell_type": "markdown",
      "metadata": {
        "id": "nZHO5WGvyIFW"
      },
      "source": [
        "훈련상태를 보면 여전히 개선의 여지가 보인다. 따라서 학습을 좀 더 시켜본다. "
      ]
    },
    {
      "cell_type": "code",
      "execution_count": 36,
      "metadata": {
        "colab": {
          "base_uri": "https://localhost:8080/"
        },
        "id": "eF5tFyqpyIFW",
        "outputId": "240924e9-38a5-433c-900c-1c22c2377bc7"
      },
      "outputs": [
        {
          "output_type": "stream",
          "name": "stdout",
          "text": [
            "Loss at step 0: 0.0281\n",
            "Loss at step 10: 0.0256\n",
            "Loss at step 20: 0.0246\n",
            "Loss at step 30: 0.0242\n",
            "Loss at step 40: 0.0240\n",
            "Loss at step 50: 0.0239\n",
            "Loss at step 60: 0.0239\n",
            "Loss at step 70: 0.0239\n",
            "Loss at step 80: 0.0239\n",
            "Loss at step 90: 0.0239\n"
          ]
        }
      ],
      "source": [
        "for step in range(100):\n",
        "    loss = training_step(inputs, targets)\n",
        "    if step % 10 == 0:\n",
        "        print(f\"Loss at step {step}: {loss:.4f}\")"
      ]
    },
    {
      "cell_type": "markdown",
      "metadata": {
        "id": "mvVySkTcyIFW"
      },
      "source": [
        "#### 예측"
      ]
    },
    {
      "cell_type": "code",
      "execution_count": 37,
      "metadata": {
        "id": "pOr1NfUkyIFX"
      },
      "outputs": [],
      "source": [
        "predictions = model(inputs)"
      ]
    },
    {
      "cell_type": "markdown",
      "metadata": {
        "id": "_XNaVTs6yIFX"
      },
      "source": [
        "예측 결과를 확인하면 다음과 같다.\n",
        "예측값이 0.5보다 클 때 양성으로 판정하는 것이 좋은데\n",
        "이유는 샘플들의 레이블이 0 또는 1이기 때문이다.\n",
        "모델은 훈련과정 중에 음성 샘플은 최대한 0에, \n",
        "양성 샘플은 최대한 1에 가까운 값으로 예측하여 손실값이 줄도록 \n",
        "노력하며, 옵티마이저가 그렇게 유도한다.\n",
        "따라서 0과 1의 중간값인 0.5가 판단 기준으로 적절하다."
      ]
    },
    {
      "cell_type": "code",
      "execution_count": 38,
      "metadata": {
        "colab": {
          "base_uri": "https://localhost:8080/",
          "height": 430
        },
        "id": "c6a7ENRtyIFX",
        "outputId": "39244f53-5b26-43d5-afd6-8be2a7330ae9"
      },
      "outputs": [
        {
          "output_type": "display_data",
          "data": {
            "text/plain": [
              "<Figure size 640x480 with 1 Axes>"
            ],
            "image/png": "[encoded data removed]"
          },
          "metadata": {}
        }
      ],
      "source": [
        "plt.scatter(inputs[:, 0], inputs[:, 1], c=predictions[:, 0] > 0.5)\n",
        "plt.show()"
      ]
    },
    {
      "cell_type": "markdown",
      "metadata": {
        "id": "S7yTZXAoyIFX"
      },
      "source": [
        "결정 경계를 직선으로 그리려면 아래 식을 이용한다.\n",
        "\n",
        "```python\n",
        "y = - W[0] /  W[1] * x + (0.5 - b) / W[1]\n",
        "```\n",
        "\n",
        "이유는 위 모델의 예측값이 다음과 같이 계산되며,\n",
        "\n",
        "```python\n",
        "W[0]*x + W[1]*y + b\n",
        "```\n",
        "\n",
        "위 예측값이 0.5보다 큰지 여부에 따라 음성, 양성이 판단되기 때문이다."
      ]
    },
    {
      "cell_type": "code",
      "execution_count": 39,
      "metadata": {
        "colab": {
          "base_uri": "https://localhost:8080/",
          "height": 448
        },
        "id": "m3tVDhwwyIFX",
        "outputId": "4f2b1423-3fb0-4a78-9ce4-61e25ded7202"
      },
      "outputs": [
        {
          "output_type": "execute_result",
          "data": {
            "text/plain": [
              "<matplotlib.collections.PathCollection at 0x7f60cacd14f0>"
            ]
          },
          "metadata": {},
          "execution_count": 39
        },
        {
          "output_type": "display_data",
          "data": {
            "text/plain": [
              "<Figure size 640x480 with 1 Axes>"
            ],
            "image/png": "[encoded data removed]"
          },
          "metadata": {}
        }
      ],
      "source": [
        "x = np.linspace(-1, 4, 100)\n",
        "y = - W[0] /  W[1] * x + (0.5 - b) / W[1]\n",
        "\n",
        "plt.plot(x, y, \"-r\")\n",
        "plt.scatter(inputs[:, 0], inputs[:, 1], c=predictions[:, 0] > 0.5)"
      ]
    },
    {
      "cell_type": "markdown",
      "metadata": {
        "id": "5r18c33nyIFX"
      },
      "source": [
        "## 3.6 케라스의 핵심 API 이해"
      ]
    },
    {
      "cell_type": "markdown",
      "metadata": {
        "id": "dO8XbU88yIFX"
      },
      "source": [
        "### 신경망 모델 훈련 핵심 2\n",
        "\n",
        "1. 층(layer)과 모델: 층을 적절하게 쌓아 모델 구성\n",
        "1. 손실 함수(loss function): 학습 방향을 유도하는 피드백 역할 수행\n",
        "1. 옵티마이저(optimizer): 학습 방향을 정하는 기능 수행\n",
        "1. 메트릭(metric): 정확도 등 모델 성능 평가 용도\n",
        "1. 훈련 반복(training loop): 미니 배치 경사하강법 실행"
      ]
    },
    {
      "cell_type": "markdown",
      "metadata": {
        "id": "qBR_PrhPyIFY"
      },
      "source": [
        "### 층"
      ]
    },
    {
      "cell_type": "markdown",
      "metadata": {
        "id": "hMByfIkEyIFY"
      },
      "source": [
        "층(layer)의 역할은 다음과 같다.\n",
        "\n",
        "- 모델의 상태(지식)로 사용되는 가중치(weight)와 편향(bias) 저장\n",
        "- 데이터 표현 변환(forward pass)\n",
        "\n",
        "층은 사용되는 클래스에 따라 다양한 형식의 텐서를 취급한다.\n",
        "\n",
        "- `Dense` 클래스를 사용하는 밀집층(dense layer): \n",
        "    `(샘플수, 특성수)` 모양의 2D 텐서로 제공된 데이터셋\n",
        "- `LSTM` 클래스, `Conv1D` 클래스 등을 사용하는 순환층(recurrent layer): \n",
        "    `(샘플수, 타임스텝수, 특성수)` 모양의 3D 텐서로 제공된 순차 데이터셋\n",
        "- `Conv2D` 클래스 등을 사용하는 층: \n",
        "    `(샘플수, 가로, 세로, 채널수)` 모양의 4D 텐서로 제공된 이미지 데이터셋\n",
        "    \n",
        "케라스를 활용하여 딥러닝 모델을 구성하는 것은 호환 가능한 층들을 적절하게 연결하여 층을 쌓는 것을 의미한다."
      ]
    },
    {
      "cell_type": "markdown",
      "metadata": {
        "id": "NZoviPxAyIFY"
      },
      "source": [
        "#### `Layer` 클래스"
      ]
    },
    {
      "cell_type": "markdown",
      "metadata": {
        "id": "r0gh300jyIFY"
      },
      "source": [
        "케라스에서 사용되는 모든 층 클래스는 `Layer` 클래스를 상속하며,\n",
        "이를 통해 상속받는 `__call__()` 메서드가 \n",
        "가중치와 편향 벡터를 생성 및 초기화하고 입력 데이터를 출력 데이터로 변환하는 일을 수행한다.\n",
        "\n",
        "`Layer` 클래스에서 선언된 `__call__()` 메서드가 하는 일을 간략하게 나타내면 다음과 같다. \n",
        "\n",
        "--- \n",
        "```python\n",
        "def __call__(self, inputs):\n",
        "    if not self.built:\n",
        "        self.build(inputs.shape)\n",
        "        self.built = True\n",
        "return self.call(inputs)\n",
        "```\n",
        "---"
      ]
    },
    {
      "cell_type": "markdown",
      "metadata": {
        "id": "CtbAHXmEyIFY"
      },
      "source": [
        "위 코드에 사용된 인스턴스 변수와 메서드는 다음과 같다. \n",
        "\n",
        "- `self.built`: 가중치와 편향 벡터가 초기화가 되어 있는지 여부 기억\n",
        "- `self.build(inputs.shape)`: 입력 배치 데이터셋(`inputs`)의 모양(shape) 정보를 이용하여 \n",
        "    적절한 모양의 가중치 텐서와 편향 텐서를 생성하고 초기화한다.\n",
        "    - 가중치 텐서 초기화: 무작위적(`random_normal`)\n",
        "    - 편향 텐서 초기화: 0 벡터(`zeros`)\n",
        "- `self.call(inputs)`: 출력값 계산(forward pass)\n",
        "    - 아핀 변환 및 활성화 함수 적용\n",
        "    \n",
        "즉, 층은 입력값이 들어오면 가장 먼저 입력값의 모양을 확인한 다음에 \n",
        "가중치 텐서와 편향 텐서를 생성 및 초기화하며,\n",
        "그 다음에 아핀 변환과 활성화 함수를 이용하여 출력값을 계산한다. "
      ]
    },
    {
      "cell_type": "markdown",
      "metadata": {
        "id": "7-HqWtkvyIFY"
      },
      "source": [
        "층은 입렵값을 확인하면서 동시에 입력값의 모양을 확인하기 때문에 \n",
        "2장에서 살펴본 MNIST 모델 사용된 `Dense` 클래스처럼 입력 데이터에 정보를 \n",
        "미리 요구하지 않는다.\n",
        "\n",
        "---\n",
        "```python\n",
        "from tensorflow import keras\n",
        "from tensorflow.keras import layers\n",
        "\n",
        "model = keras.Sequential([\n",
        "    layers.Dense(512, activation=\"relu\"),\n",
        "    layers.Dense(10, activation=\"softmax\")\n",
        "])\n",
        "```\n",
        "---"
      ]
    },
    {
      "cell_type": "markdown",
      "metadata": {
        "id": "ha5ZgsnmyIFY"
      },
      "source": [
        "#### `Dense` 클래스 직접 구현하기"
      ]
    },
    {
      "cell_type": "markdown",
      "metadata": {
        "id": "uzen0pfYyIFY"
      },
      "source": [
        "위 설명을 바탕으로 해서 `Dense` 클래스와 유사하게 작동하는 \n",
        "`SimpleDense` 클래스를 직접 정의하려면 \n",
        "`build()` 메서드와 `call()` 메서드를 아래와 같이 구현하면 된다.\n",
        "두 메서드의 정의에 사용된 매개변수와 메서드는 다음과 같다.\n",
        "\n",
        "- `units`: 출력 샘플의 특성수 지정\n",
        "- `activation`: 활성화 함수 지정\n",
        "- `input_shape`: 입력값(`inputs`)으로 얻은 입력 배치의 2D 모양 정보. 둘째 항목이 입력 샘플의 특성 수.\n",
        "- `add_weight(모양, 초기화방법)`: 지정된 모양의 텐서 생성 및 초기화. `Layer` 클래스에서 상속."
      ]
    },
    {
      "cell_type": "code",
      "execution_count": 40,
      "metadata": {
        "id": "gcb-66eOyIFZ"
      },
      "outputs": [],
      "source": [
        "from tensorflow import keras\n",
        "\n",
        "class SimpleDense(keras.layers.Layer):\n",
        "\n",
        "    def __init__(self, units, activation=None):\n",
        "        super().__init__()\n",
        "        self.units = units\n",
        "        self.activation = activation\n",
        "\n",
        "    def build(self, input_shape):\n",
        "        input_dim = input_shape[-1]   # 입력 샘플의 특성 수\n",
        "        self.W = self.add_weight(shape=(input_dim, self.units),\n",
        "                                 initializer=\"random_normal\")\n",
        "        self.b = self.add_weight(shape=(self.units,),\n",
        "                                 initializer=\"zeros\")\n",
        "\n",
        "    def call(self, inputs):\n",
        "        y = tf.matmul(inputs, self.W) + self.b\n",
        "        if self.activation is not None:\n",
        "            y = self.activation(y)\n",
        "        return y"
      ]
    },
    {
      "cell_type": "markdown",
      "metadata": {
        "id": "OtQxk_HCyIFZ"
      },
      "source": [
        "`SimpleDense` 층 하나로 이루어진 모델이 작동하는 방식은 다음과 같다."
      ]
    },
    {
      "cell_type": "markdown",
      "metadata": {
        "id": "RK7LVKGGyIFZ"
      },
      "source": [
        "- 모델 구성: 생성자에 의해 출력 샘플의 특성수와 활성화 함수 지정.\n",
        "    - 입력 데이터셋 샘플의 특성수는 지정할 필요 없음."
      ]
    },
    {
      "cell_type": "code",
      "execution_count": 41,
      "metadata": {
        "id": "FFDAXV1VyIFZ"
      },
      "outputs": [],
      "source": [
        "my_dense = SimpleDense(units=32, activation=tf.nn.relu)"
      ]
    },
    {
      "cell_type": "markdown",
      "metadata": {
        "id": "0Hz4FAU8yIFZ"
      },
      "source": [
        "- 입력 데이터셋 지정: 입력 샘플 하나의 특성수는 784. 샘플 수는 1000."
      ]
    },
    {
      "cell_type": "code",
      "execution_count": 42,
      "metadata": {
        "id": "lKr6ypJ6yIFZ"
      },
      "outputs": [],
      "source": [
        "input_tensor = tf.ones(shape=(1000, 784))"
      ]
    },
    {
      "cell_type": "markdown",
      "metadata": {
        "id": "Y7aX94leyIFZ"
      },
      "source": [
        "출력값 생성: `__call__()` 메서드를  실행하면 다음 사항들이 연속적으로 처리된다. \n",
        "\n",
        "- 가중치 텐서 `W` 생성 및 초기호: `(784, 32)`\n",
        "- 편향 텐서 `b` 생성 및 초기호: `(32, )`\n",
        "- 생성된 가중치와 편향을 이용하여 출력값 계산(아핀 변환 및 활성화 함수 적용)"
      ]
    },
    {
      "cell_type": "code",
      "execution_count": 43,
      "metadata": {
        "colab": {
          "base_uri": "https://localhost:8080/"
        },
        "id": "gjAAyAz1yIFZ",
        "outputId": "f2d40db2-e4ac-43a2-ad5c-7410bc22e437"
      },
      "outputs": [
        {
          "output_type": "stream",
          "name": "stdout",
          "text": [
            "(1000, 32)\n"
          ]
        }
      ],
      "source": [
        "output_tensor = my_dense(input_tensor)\n",
        "\n",
        "print(output_tensor.shape)"
      ]
    },
    {
      "cell_type": "markdown",
      "metadata": {
        "id": "qGOxkLpfyIFa"
      },
      "source": [
        "### 층에서 모델로"
      ]
    },
    {
      "cell_type": "markdown",
      "metadata": {
        "id": "EDWC74ChyIFa"
      },
      "source": [
        "딥러닝 모델은 층으로 구성된 그래프라고 할 수 있다.\n",
        "앞서 살펴 본 `Sequential` 모델은 층을 일렬로 쌓아 신경망을 구성하며,\n",
        "층층이 쌓인 층은 아래 층에서 전달한 값을 받아 변환한 후 위 층으로 전달하는\n",
        "방식으로 작동한다.\n",
        "예를 들어, 아래 모델은 4개의 `SimpleDense` 층으로 구성되었다.\n",
        "각 층의 역할은 앞서 설명한 `my_dense` 모델의 그것과 동일하다.\n",
        "즉, 32, 64, 32, 10 개의 특성을 갖는 출력값을 계산한 후 다음 층으로 전달한다."
      ]
    },
    {
      "cell_type": "code",
      "metadata": {
        "colab": {
          "base_uri": "https://localhost:8080/",
          "height": 136
        },
        "id": "Nxag8vC2yIFa",
        "outputId": "e314d1e5-8548-47ab-b296-83505c74cbcb"
      },
      "source": [
        "```python\n",
        "model = keras.Sequential([\n",
        "    SimpleDense(32, activation=\"relu\"),\n",
        "    SimpleDense(64, activation=\"relu\"),\n",
        "    SimpleDense(32, activation=\"relu\"),\n",
        "    SimpleDense(10, activation=\"softmax\")\n",
        "])\n",
        "```"
      ],
      "execution_count": 47,
      "outputs": [
        {
          "output_type": "error",
          "ename": "SyntaxError",
          "evalue": "ignored",
          "traceback": [
            "\u001b[0;36m  File \u001b[0;32m\"<ipython-input-47-83ea67c1c566>\"\u001b[0;36m, line \u001b[0;32m1\u001b[0m\n\u001b[0;31m    ```python\u001b[0m\n\u001b[0m    ^\u001b[0m\n\u001b[0;31mSyntaxError\u001b[0m\u001b[0;31m:\u001b[0m invalid syntax\n"
          ]
        }
      ]
    },
    {
      "cell_type": "markdown",
      "metadata": {
        "id": "KQKjuozYyIFa"
      },
      "source": [
        "앞으로 층을 구성하는 다양한 방식을 살펴볼 것이다.\n",
        "예를 들어, 아래 그림은 나중에 살펴 볼 트랜스포머(Transformer) 모델에\n",
        "사용된 층들의 복잡한 관계를 보여준다."
      ]
    },
    {
      "cell_type": "markdown",
      "metadata": {
        "id": "SeNJ52nryIFa"
      },
      "source": [
        "<div align=\"center\"><img src=\"https://drek4537l1klr.cloudfront.net/chollet2/v-7/Figures/transformer0001.png\" style=\"width:500px;\"></div>\n",
        "\n",
        "그림 출처: [Deep Learning with Python(Manning MEAP)](https://www.manning.com/books/deep-learning-with-python-second-edition)"
      ]
    },
    {
      "cell_type": "markdown",
      "metadata": {
        "id": "D5ktRK8zyIFa"
      },
      "source": [
        "#### 가설 공간"
      ]
    },
    {
      "cell_type": "markdown",
      "metadata": {
        "id": "j_jznttzyIFa"
      },
      "source": [
        "모델의 학습과정은 층을 어떻게 구성하였는가에 전적으로 의존한다. \n",
        "앞서 살펴 보았듯이 각각의 층에서 이루어지는 일은 기본적으로 아핀 변환과 활성화 함수 적용이다. \n",
        "여러 개의 `Dense` 층을 `Sequential` 모델을 이용하여 층을 구성하면 \n",
        "아핀 변환,`relu()` 등의 활성화 함수를 연속적으로 적용하여\n",
        "입력 텐서를 특정 모양의 텐서로 변환한다.\n",
        "반면에 다른 방식으로 구성된 모델은 다른 방식으로 텐서를 \n",
        "하나의 표현에서 다른 표현으로 변환시킨다. \n",
        "\n",
        "이렇듯 층을 구성하는 방식에 따라 텐서들이 가질 수 있는 표현들의 공간이 정해진다.\n",
        "이런 의미에서 '**망 구성방식(network topology)에 따른 표현 가설 공간(hypothesis space)**'이란 \n",
        "표현을 사용한다."
      ]
    },
    {
      "cell_type": "markdown",
      "metadata": {
        "id": "W_myu3X0yIFa"
      },
      "source": [
        "#### 망 구성방식"
      ]
    },
    {
      "cell_type": "markdown",
      "metadata": {
        "id": "uukr_JJbyIFa"
      },
      "source": [
        "신경망의 구성은 주어진 데이터셋과 모델의 목적에 따라 결정되며 특별한 규칙이 따로 있지는 않다.\n",
        "주어진 문제를 해결하는 모델의 구성은 이론 보다는 많은 실습을 통한 경험에 의존한다.\n",
        "앞으로 다양한 예제를 통해 다양한 모델을 구성하는 방식을 다룬다. "
      ]
    },
    {
      "cell_type": "markdown",
      "metadata": {
        "id": "CjMW-nvmyIFb"
      },
      "source": [
        "### 모델 컴파일"
      ]
    },
    {
      "cell_type": "markdown",
      "metadata": {
        "id": "dndRotfuyIFb"
      },
      "source": [
        "모델의 구조를 정의한 후에 아래 세 가지 설정을 추가로 지정해야 한다.\n",
        "\n",
        "- 옵티마이저(optimizer): 모델의 성능을 향상시키는 방향으로 가중치를 업데이트하는 알고리즘\n",
        "- 손실함수(loss function): 훈련 중 모델의 성능 얼마 나쁜가를 측정하는 기준. \n",
        "    미분가능이어야 하며 옵티마이저가 경사하강법을 활용하여 손실함숫값을 줄이는 방향으로 작동함.\n",
        "- 평가지표(metrics):: 훈련과 테스트 과정을 모니터링 할 때 사용되는 모델 평가 지표. \n",
        "    옵티마이저 또는 손실함수와 일반적으로 상관 없음."
      ]
    },
    {
      "cell_type": "code",
      "execution_count": 48,
      "metadata": {
        "id": "BD6_rTs2yIFb"
      },
      "outputs": [],
      "source": [
        "model = keras.Sequential([keras.layers.Dense(1)])"
      ]
    },
    {
      "cell_type": "code",
      "execution_count": 49,
      "metadata": {
        "id": "e7-0tjuayIFb"
      },
      "outputs": [],
      "source": [
        "model.compile(optimizer=\"rmsprop\",\n",
        "              loss=\"mean_squared_error\",\n",
        "              metrics=[\"accuracy\"])"
      ]
    },
    {
      "cell_type": "markdown",
      "metadata": {
        "id": "oJgmMPs1yIFb"
      },
      "source": [
        "세 가지 설정에 사용된 문자열은 지정된 함수를 가리키도록 준비되어 있다.\n",
        "예를 들어 아래 코드는 앞서의 컴파일과 동일한\n",
        "결과가 나오도록 옵티마이저, 손실함수, 평가지표에 필요한 객체들을 직접 지정하였다."
      ]
    },
    {
      "cell_type": "code",
      "execution_count": 50,
      "metadata": {
        "id": "sA6vPQ_YyIFb"
      },
      "outputs": [],
      "source": [
        "model.compile(optimizer=keras.optimizers.RMSprop(),\n",
        "              loss=keras.losses.MeanSquaredError(),\n",
        "              metrics=[keras.metrics.BinaryAccuracy()])"
      ]
    },
    {
      "cell_type": "markdown",
      "metadata": {
        "id": "un4WoYv6yIFb"
      },
      "source": [
        "앞으로 다양한 예제를 통해 옵티마이저, 손실함수, 평가지표를 적절하게 선택하는 방법을 살펴볼 것이다."
      ]
    },
    {
      "cell_type": "markdown",
      "metadata": {
        "id": "9DRbHS7OyIFb"
      },
      "source": [
        "### `fit()` 메서드 작동법"
      ]
    },
    {
      "cell_type": "markdown",
      "metadata": {
        "id": "OjQtrMGTyIFc"
      },
      "source": [
        "모델을 훈련시키려면 `fit()` 메서드를 적절한 인자들과 함께 호출해야 한다.\n",
        "\n",
        "- 훈련 세트: 보통 넘파이 어레이 또는 텐서플로우의 `Dataset` 객체 사용\n",
        "- 에포크(`epochs`): 전체 훈련 세트를 몇 번 훈련할 지 지정\n",
        "- 배치 크기(`batch_size`): 배치 경사하강법에 적용될 배치(묶음) 크기 지정\n",
        "\n",
        "아래 코드는 앞서 넘파이 어레이로 생성한 (2000, 2) 모양의 양성, 음성 데이터셋을 대상으로 훈련한다. "
      ]
    },
    {
      "cell_type": "code",
      "execution_count": 51,
      "metadata": {
        "colab": {
          "base_uri": "https://localhost:8080/"
        },
        "id": "1Tpw9OPhyIFc",
        "outputId": "51ae2915-9bbb-4efe-fea5-535787b9ff67"
      },
      "outputs": [
        {
          "output_type": "stream",
          "name": "stdout",
          "text": [
            "Epoch 1/5\n",
            "16/16 [==============================] - 2s 3ms/step - loss: 19.8730 - binary_accuracy: 0.0035\n",
            "Epoch 2/5\n",
            "16/16 [==============================] - 0s 2ms/step - loss: 19.3449 - binary_accuracy: 0.0035\n",
            "Epoch 3/5\n",
            "16/16 [==============================] - 0s 2ms/step - loss: 18.8946 - binary_accuracy: 0.0035\n",
            "Epoch 4/5\n",
            "16/16 [==============================] - 0s 2ms/step - loss: 18.4543 - binary_accuracy: 0.0035\n",
            "Epoch 5/5\n",
            "16/16 [==============================] - 0s 2ms/step - loss: 18.0194 - binary_accuracy: 0.0035\n"
          ]
        }
      ],
      "source": [
        "history = model.fit(\n",
        "    inputs,\n",
        "    targets,\n",
        "    epochs=5,\n",
        "    batch_size=128\n",
        ")"
      ]
    },
    {
      "cell_type": "markdown",
      "metadata": {
        "id": "TA1rEb8qyIFc"
      },
      "source": [
        "훈련이 종료되면 `fit()` 메서드는 `History` 객체를 반환하며,\n",
        "`history` 속성에 훈련 과정 중에 측정된 손실값, 평가지표를 에포크 단위로 기억한다."
      ]
    },
    {
      "cell_type": "code",
      "execution_count": 52,
      "metadata": {
        "colab": {
          "base_uri": "https://localhost:8080/"
        },
        "id": "lZQcKoL4yIFc",
        "outputId": "ec4f81f4-3798-4b57-b907-64d7ea99700c"
      },
      "outputs": [
        {
          "output_type": "execute_result",
          "data": {
            "text/plain": [
              "{'loss': [19.87301254272461,\n",
              "  19.3448543548584,\n",
              "  18.894643783569336,\n",
              "  18.454336166381836,\n",
              "  18.019441604614258],\n",
              " 'binary_accuracy': [0.0035000001080334187,\n",
              "  0.0035000001080334187,\n",
              "  0.0035000001080334187,\n",
              "  0.0035000001080334187,\n",
              "  0.0035000001080334187]}"
            ]
          },
          "metadata": {},
          "execution_count": 52
        }
      ],
      "source": [
        "history.history"
      ]
    },
    {
      "cell_type": "markdown",
      "metadata": {
        "id": "lu5tB90MyIFc"
      },
      "source": [
        "### 검증 세트 활용"
      ]
    },
    {
      "cell_type": "markdown",
      "metadata": {
        "id": "A4aHr2J5yIFc"
      },
      "source": [
        "훈련된 모델이 완전히 새로운 데이터에 대해 예측을 잘하는지 여부를 판단하려면\n",
        "전체 데이터셋을 훈련 세트와 **검증 세트**로 구분해야 한다.\n",
        "\n",
        "- 훈련 세트: 모델 훈련에 사용되는 데이터셋\n",
        "- 검증 세트: 훈련된 모델 평가에 사용되는 데이터셋\n",
        "\n",
        "아래 코드는 훈련 세트와 검증 세트를 수동으로 구분하는 방법을 보여준다."
      ]
    },
    {
      "cell_type": "markdown",
      "metadata": {
        "id": "KXoRZFxRyIFc"
      },
      "source": [
        "- `np.random.permutation()` 함수는 숫자들을 무작위로 섞는다.\n",
        "    이를 이용하여 훈련세트의 인덱스를 무작위로 섞는다."
      ]
    },
    {
      "cell_type": "code",
      "execution_count": 53,
      "metadata": {
        "id": "cfz5FwpIyIFc"
      },
      "outputs": [],
      "source": [
        "indices_permutation = np.random.permutation(len(inputs))"
      ]
    },
    {
      "cell_type": "markdown",
      "metadata": {
        "id": "uiDyqAYAyIFd"
      },
      "source": [
        "- 무작위로 섞인 인덱스를 이용하여 데이터셋으르 재정렬 한다."
      ]
    },
    {
      "cell_type": "code",
      "execution_count": 54,
      "metadata": {
        "id": "7J3HvPrzyIFd"
      },
      "outputs": [],
      "source": [
        "shuffled_inputs = inputs[indices_permutation]\n",
        "shuffled_targets = targets[indices_permutation]"
      ]
    },
    {
      "cell_type": "markdown",
      "metadata": {
        "id": "eIVZ2tYZyIFd"
      },
      "source": [
        "- 재정렬된 데이터셋의 30%를 검증 세트로 분류한다."
      ]
    },
    {
      "cell_type": "code",
      "execution_count": 55,
      "metadata": {
        "id": "mV8Uy2zGyIFd"
      },
      "outputs": [],
      "source": [
        "num_validation_samples = int(0.3 * len(inputs))\n",
        "\n",
        "val_inputs = shuffled_inputs[:num_validation_samples]\n",
        "val_targets = shuffled_targets[:num_validation_samples]"
      ]
    },
    {
      "cell_type": "markdown",
      "metadata": {
        "id": "GKlvCkn-yIFd"
      },
      "source": [
        "- 나머지는 훈련 세트로 지정한다."
      ]
    },
    {
      "cell_type": "code",
      "execution_count": 56,
      "metadata": {
        "id": "nTWKtNbGyIFd"
      },
      "outputs": [],
      "source": [
        "training_inputs = shuffled_inputs[num_validation_samples:]\n",
        "training_targets = shuffled_targets[num_validation_samples:]"
      ]
    },
    {
      "cell_type": "markdown",
      "metadata": {
        "id": "eZGb5VHYyIFd"
      },
      "source": [
        "- 훈련 세트를 대상으로 하는 훈련과 검증 세트를 대상으로 하는 평가를 동시에 진행할 수 있다."
      ]
    },
    {
      "cell_type": "code",
      "execution_count": 57,
      "metadata": {
        "colab": {
          "base_uri": "https://localhost:8080/"
        },
        "id": "rtXou_cqyIFd",
        "outputId": "138db155-3f92-4c6e-b875-92c7bf4193e6"
      },
      "outputs": [
        {
          "output_type": "stream",
          "name": "stdout",
          "text": [
            "Epoch 1/5\n",
            "88/88 [==============================] - 0s 5ms/step - loss: 16.8592 - binary_accuracy: 0.0029 - val_loss: 15.3373 - val_binary_accuracy: 0.0050\n",
            "Epoch 2/5\n",
            "88/88 [==============================] - 0s 3ms/step - loss: 14.7731 - binary_accuracy: 0.0029 - val_loss: 13.3772 - val_binary_accuracy: 0.0050\n",
            "Epoch 3/5\n",
            "88/88 [==============================] - 0s 3ms/step - loss: 12.7917 - binary_accuracy: 0.0029 - val_loss: 11.5170 - val_binary_accuracy: 0.0050\n",
            "Epoch 4/5\n",
            "88/88 [==============================] - 0s 3ms/step - loss: 10.9658 - binary_accuracy: 0.0029 - val_loss: 9.8198 - val_binary_accuracy: 0.0050\n",
            "Epoch 5/5\n",
            "88/88 [==============================] - 0s 3ms/step - loss: 9.2783 - binary_accuracy: 0.0029 - val_loss: 8.2546 - val_binary_accuracy: 0.0050\n"
          ]
        }
      ],
      "source": [
        "history = model.fit(\n",
        "    training_inputs,\n",
        "    training_targets,\n",
        "    epochs=5,\n",
        "    batch_size=16,\n",
        "    validation_data=(val_inputs, val_targets)\n",
        ")"
      ]
    },
    {
      "cell_type": "markdown",
      "metadata": {
        "id": "hEEjURJayIFd"
      },
      "source": [
        "`History` 객체는 훈련 세트 뿐만 아니라 검증 세트를 대상으로도 손실값과 평가지표를 기억한다."
      ]
    },
    {
      "cell_type": "code",
      "execution_count": 58,
      "metadata": {
        "colab": {
          "base_uri": "https://localhost:8080/"
        },
        "id": "Zm59Q7RfyIFe",
        "outputId": "e6ecaf45-3e8c-4736-803e-e5430ca2be05"
      },
      "outputs": [
        {
          "output_type": "execute_result",
          "data": {
            "text/plain": [
              "{'loss': [16.859216690063477,\n",
              "  14.773094177246094,\n",
              "  12.7916898727417,\n",
              "  10.965782165527344,\n",
              "  9.278319358825684],\n",
              " 'binary_accuracy': [0.0028571428265422583,\n",
              "  0.0028571428265422583,\n",
              "  0.0028571428265422583,\n",
              "  0.0028571428265422583,\n",
              "  0.0028571428265422583],\n",
              " 'val_loss': [15.337301254272461,\n",
              "  13.377154350280762,\n",
              "  11.517024993896484,\n",
              "  9.81978988647461,\n",
              "  8.254618644714355],\n",
              " 'val_binary_accuracy': [0.004999999888241291,\n",
              "  0.004999999888241291,\n",
              "  0.004999999888241291,\n",
              "  0.004999999888241291,\n",
              "  0.004999999888241291]}"
            ]
          },
          "metadata": {},
          "execution_count": 58
        }
      ],
      "source": [
        "history.history"
      ]
    },
    {
      "cell_type": "markdown",
      "metadata": {
        "id": "VvzaQedkyIFe"
      },
      "source": [
        "훈련 후에 검증 세트를 이용하여 평가하려면 `evaluate()` 메서드를 이용한다."
      ]
    },
    {
      "cell_type": "code",
      "execution_count": 59,
      "metadata": {
        "colab": {
          "base_uri": "https://localhost:8080/"
        },
        "id": "RQnpsG4PyIFe",
        "outputId": "e79a2ee7-37da-41f6-e1f3-317e868ef7f3"
      },
      "outputs": [
        {
          "output_type": "stream",
          "name": "stdout",
          "text": [
            "5/5 [==============================] - 0s 3ms/step - loss: 8.2546 - binary_accuracy: 0.0050\n"
          ]
        }
      ],
      "source": [
        "loss_and_metrics = model.evaluate(val_inputs, val_targets, batch_size=128)"
      ]
    },
    {
      "cell_type": "markdown",
      "metadata": {
        "id": "9zk8TQokyIFe"
      },
      "source": [
        "### 모델 활용"
      ]
    },
    {
      "cell_type": "markdown",
      "metadata": {
        "id": "pRM_O9styIFe"
      },
      "source": [
        "훈련된 모델을 활용하는 두 가지 방법이 있다.\n",
        "\n",
        "먼저, `__call__()` 메서드를 활용한다. 즉,\n",
        "데이터셋을 모델과 함께 직접 호출한다."
      ]
    },
    {
      "cell_type": "code",
      "execution_count": 60,
      "metadata": {
        "colab": {
          "base_uri": "https://localhost:8080/"
        },
        "id": "eenztk3yyIFe",
        "outputId": "94eebfe0-9b6b-4218-ef92-cf5d150da27f"
      },
      "outputs": [
        {
          "output_type": "stream",
          "name": "stdout",
          "text": [
            "tf.Tensor(\n",
            "[[-1.6740848]\n",
            " [-1.6370394]\n",
            " [ 3.033706 ]\n",
            " [-2.941755 ]\n",
            " [ 3.021795 ]\n",
            " [ 1.5357085]\n",
            " [ 2.4054773]\n",
            " [-2.4762065]\n",
            " [ 2.463745 ]\n",
            " [-1.8610119]], shape=(10, 1), dtype=float32)\n"
          ]
        }
      ],
      "source": [
        "predictions = model(val_inputs)\n",
        "print(predictions[:10])"
      ]
    },
    {
      "cell_type": "markdown",
      "metadata": {
        "id": "YfJzJ3xCyIFe"
      },
      "source": [
        "하지만 이 방식은 데이터셋이 매우 크면 적절하지 않을 수 있다. \n",
        "따라서 `predict()` 메서드를 이용하여 배치를 활용하는 것을 추천한다."
      ]
    },
    {
      "cell_type": "code",
      "execution_count": 61,
      "metadata": {
        "colab": {
          "base_uri": "https://localhost:8080/"
        },
        "id": "qkVqfkyCyIFe",
        "outputId": "96766d9d-7a04-4a58-fa28-759b0490afd8"
      },
      "outputs": [
        {
          "output_type": "stream",
          "name": "stdout",
          "text": [
            "5/5 [==============================] - 0s 2ms/step\n",
            "[[-1.6740848]\n",
            " [-1.6370394]\n",
            " [ 3.033706 ]\n",
            " [-2.941755 ]\n",
            " [ 3.021795 ]\n",
            " [ 1.5357085]\n",
            " [ 2.4054773]\n",
            " [-2.4762065]\n",
            " [ 2.463745 ]\n",
            " [-1.8610119]]\n"
          ]
        }
      ],
      "source": [
        "predictions = model.predict(val_inputs, batch_size=128)\n",
        "print(predictions[:10])"
      ]
    }
  ],
  "metadata": {
    "colab": {
      "name": "dlp03_introduction_to_keras_and_tf",
      "provenance": [],
      "toc_visible": true
    },
    "kernelspec": {
      "display_name": "Python 3",
      "language": "python",
      "name": "python3"
    },
    "language_info": {
      "codemirror_mode": {
        "name": "ipython",
        "version": 3
      },
      "file_extension": ".py",
      "mimetype": "text/x-python",
      "name": "python",
      "nbconvert_exporter": "python",
      "pygments_lexer": "ipython3",
      "version": "3.8.8"
    },
    "accelerator": "GPU",
    "gpuClass": "standard"
  },
  "nbformat": 4,
  "nbformat_minor": 0
}