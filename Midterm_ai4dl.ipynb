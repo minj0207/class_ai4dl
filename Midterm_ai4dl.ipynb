{
  "nbformat": 4,
  "nbformat_minor": 0,
  "metadata": {
    "accelerator": "GPU",
    "colab": {
      "provenance": [],
      "include_colab_link": true
    },
    "kernelspec": {
      "display_name": "Python 3",
      "language": "python",
      "name": "python3"
    },
    "language_info": {
      "codemirror_mode": {
        "name": "ipython",
        "version": 3
      },
      "file_extension": ".py",
      "mimetype": "text/x-python",
      "name": "python",
      "nbconvert_exporter": "python",
      "pygments_lexer": "ipython3",
      "version": "3.6.8"
    },
    "gpuClass": "standard"
  },
  "cells": [
    {
      "cell_type": "markdown",
      "metadata": {
        "id": "view-in-github",
        "colab_type": "text"
      },
      "source": [
        "<a href=\"https://colab.research.google.com/github/minj0207/class_ai4dl/blob/main/Midterm_ai4dl.ipynb\" target=\"_parent\"><img src=\"https://colab.research.google.com/assets/colab-badge.svg\" alt=\"Open In Colab\"/></a>"
      ]
    },
    {
      "cell_type": "markdown",
      "metadata": {
        "id": "ZPi3ACwumNQV"
      },
      "source": [
        "# Mid-term exam on AI for Deep Learning\n",
        "\n",
        "- Name:  장민정\n",
        "- ID Number:  20216173\n",
        "\n",
        "------------------------------------------\n",
        "Firstly, copy this notebook to your google drive.  \n",
        "Secondly, click 'Runtime' tab, 'Change runtime type' tab, and change 'Hardware accelerator' as 'GPU.'  \n",
        "Now you are ready to go, good luck! :) \n"
      ]
    },
    {
      "cell_type": "code",
      "metadata": {
        "colab": {
          "base_uri": "https://localhost:8080/",
          "height": 35
        },
        "id": "-6p6VRmTmAPZ",
        "outputId": "65b5dbbf-78e3-4b9c-c795-88688f7668bc"
      },
      "source": [
        "import tensorflow as tf\n",
        "tf.keras.__version__"
      ],
      "execution_count": null,
      "outputs": [
        {
          "output_type": "execute_result",
          "data": {
            "text/plain": [
              "'2.8.0'"
            ],
            "application/vnd.google.colaboratory.intrinsic+json": {
              "type": "string"
            }
          },
          "metadata": {},
          "execution_count": 2
        }
      ]
    },
    {
      "cell_type": "markdown",
      "metadata": {
        "id": "APqepHCVmnbd"
      },
      "source": [
        "## Q1 We will use mnist data for Q1\n"
      ]
    },
    {
      "cell_type": "code",
      "metadata": {
        "id": "g2lNQsZzmLsE",
        "colab": {
          "base_uri": "https://localhost:8080/"
        },
        "outputId": "e0851009-8456-4d2c-d52e-1cdf5e0696e1"
      },
      "source": [
        "from tensorflow.keras.datasets import mnist\n",
        "from tensorflow.keras.utils import to_categorical\n",
        "\n",
        "(x_train, y_train), (x_test, y_test) = mnist.load_data()\n",
        "x_train = x_train.reshape((60000, 28 * 28))\n",
        "x_test = x_test.reshape((10000, 28 * 28))\n",
        "x_train, x_test = x_train / 255.0, x_test / 255.0\n",
        "\n",
        "train_labels = to_categorical(y_train)\n",
        "test_labels = to_categorical(y_test)"
      ],
      "execution_count": 1,
      "outputs": [
        {
          "output_type": "stream",
          "name": "stdout",
          "text": [
            "Downloading data from https://storage.googleapis.com/tensorflow/tf-keras-datasets/mnist.npz\n",
            "11490434/11490434 [==============================] - 2s 0us/step\n"
          ]
        }
      ]
    },
    {
      "cell_type": "markdown",
      "source": [
        "#### (Q1-1) [15 points] Design your neural network model with the structure below\n",
        "\n",
        "- We have three Dense layers. Follow the description below.\n",
        "  - [10] Setup output sizes as 512, 100 and 10 for all three Dense layers.\n",
        "  - [5] Setup appropriate activation layers such as relu, sigmoid, and softmax.\n",
        "\n",
        "![image.png](data:image/png;base64,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)"
      ],
      "metadata": {
        "id": "qo4GvKAk9rO7"
      }
    },
    {
      "cell_type": "code",
      "source": [
        "from tensorflow.keras import layers, models\n",
        "from tensorflow import keras\n",
        "## Define your model here\n",
        "model =  keras.Sequential([\n",
        "    layers.Dense(512, activation=\"relu\"),\n",
        "    layers.Dense(100, activation=\"sigmoid\"),\n",
        "    layers.Dense(10, activation=\"softmax\")\n",
        "])"
      ],
      "metadata": {
        "id": "PbdhlrtO91k9"
      },
      "execution_count": 3,
      "outputs": []
    },
    {
      "cell_type": "markdown",
      "source": [
        "#### (Q1-2) [10 points] Compile your model.  \n",
        " - Setup optimizer as 'RMSprop optimizer.'\n",
        " - Use categorical cross entropy loss.\n",
        " - Set your evaluation metric as 'accuracy.'"
      ],
      "metadata": {
        "id": "fTA82tHk-QJX"
      }
    },
    {
      "cell_type": "code",
      "source": [
        "\n",
        "### Define optimizer, loss, and metrics here\n",
        "\n",
        "model.compile(optimizer=\"rmsprop\",\n",
        "              loss=\"sparse_categorical_crossentropy\",\n",
        "              metrics=[\"accuracy\"])"
      ],
      "metadata": {
        "id": "yfVRDOB9-Pma"
      },
      "execution_count": 4,
      "outputs": []
    },
    {
      "cell_type": "markdown",
      "source": [
        "\n",
        "#### (Q1-3) [5 points] Seperate validation data from your training data. Set the number of validation data as 10000. Complete the code below."
      ],
      "metadata": {
        "id": "6RArvmXR-w0Q"
      }
    },
    {
      "cell_type": "code",
      "source": [
        "import numpy as np \n",
        "\n",
        "indices_permutation = np.random.permutation(60000)\n",
        "shuffled_x_train = x_train[indices_permutation]\n",
        "shuffled_train_labels = train_labels[indices_permutation]\n",
        "\n",
        "num_validation_samples = 20000\n",
        "\n",
        "## Complete the code below: \n",
        "val_x =   shuffled_x_train[:num_validation_samples]\n",
        "val_labels = shuffled_train_labels[:num_validation_samples]\n",
        "\n",
        "\n",
        "trn_x = shuffled_x_train[num_validation_samples:]\n",
        "trn_labels = shuffled_train_labels[num_validation_samples:]"
      ],
      "metadata": {
        "id": "VTHJrrJ8-v1J"
      },
      "execution_count": 8,
      "outputs": []
    },
    {
      "cell_type": "code",
      "source": [],
      "metadata": {
        "id": "0N22mecRBMxk"
      },
      "execution_count": null,
      "outputs": []
    },
    {
      "cell_type": "markdown",
      "source": [
        "#### (Q1-4) [10 points] Fit your model. \n",
        "- Use epoch size of 10, and batch size of 100.\n",
        "- Use trn_x and trn_labels as training data\n",
        "- Use val_x and val_labels as validation data "
      ],
      "metadata": {
        "id": "miELZswGBNii"
      }
    },
    {
      "cell_type": "code",
      "source": [
        "### Define how you fit your model\n",
        "## Specify training data, validation data, epoch and batch size\n",
        "\n",
        "history = model.fit(trn_x, trn_targets, validation_data=(val_x, val_targets), epochs=10, batch_size=100)"
      ],
      "metadata": {
        "colab": {
          "base_uri": "https://localhost:8080/"
        },
        "id": "iyNiG2Qz-N68",
        "outputId": "a53675f6-487d-416f-bba1-a4f9940fe236"
      },
      "execution_count": 29,
      "outputs": [
        {
          "output_type": "stream",
          "name": "stdout",
          "text": [
            "Epoch 1/10\n",
            "4/4 [==============================] - 3s 66ms/step - loss: 552.3773 - mae: 21.5574 - val_loss: 477.5109 - val_mae: 20.3426\n",
            "Epoch 2/10\n",
            "4/4 [==============================] - 0s 11ms/step - loss: 552.3773 - mae: 21.5574 - val_loss: 477.5109 - val_mae: 20.3426\n",
            "Epoch 3/10\n",
            "4/4 [==============================] - 0s 11ms/step - loss: 552.3773 - mae: 21.5574 - val_loss: 477.5109 - val_mae: 20.3426\n",
            "Epoch 4/10\n",
            "4/4 [==============================] - 0s 12ms/step - loss: 552.3773 - mae: 21.5574 - val_loss: 477.5109 - val_mae: 20.3426\n",
            "Epoch 5/10\n",
            "4/4 [==============================] - 0s 12ms/step - loss: 552.3773 - mae: 21.5574 - val_loss: 477.5109 - val_mae: 20.3426\n",
            "Epoch 6/10\n",
            "4/4 [==============================] - 0s 11ms/step - loss: 552.3773 - mae: 21.5574 - val_loss: 477.5109 - val_mae: 20.3426\n",
            "Epoch 7/10\n",
            "4/4 [==============================] - 0s 11ms/step - loss: 552.3773 - mae: 21.5574 - val_loss: 477.5109 - val_mae: 20.3426\n",
            "Epoch 8/10\n",
            "4/4 [==============================] - 0s 12ms/step - loss: 552.3773 - mae: 21.5574 - val_loss: 477.5109 - val_mae: 20.3426\n",
            "Epoch 9/10\n",
            "4/4 [==============================] - 0s 11ms/step - loss: 552.3773 - mae: 21.5574 - val_loss: 477.5109 - val_mae: 20.3426\n",
            "Epoch 10/10\n",
            "4/4 [==============================] - 0s 11ms/step - loss: 552.3773 - mae: 21.5574 - val_loss: 477.5109 - val_mae: 20.3426\n"
          ]
        }
      ]
    },
    {
      "cell_type": "code",
      "source": [
        "import matplotlib.pyplot as plt\n",
        "val_loss = history.history[\"val_accuracy\"]\n",
        "trn_loss = history.history[\"accuracy\"]\n",
        "epochs = range(1, 21)\n",
        "plt.plot(epochs, val_loss, \"b--\",\n",
        "         label=\"Validation Accuracy\")\n",
        "plt.plot(epochs, trn_loss, \"r-\",\n",
        "         label=\"Training Accuracy\")\n",
        "plt.title(\"Accuracy\")\n",
        "plt.xlabel(\"Epochs\")\n",
        "plt.ylabel(\"Accuracy\")\n",
        "plt.legend()"
      ],
      "metadata": {
        "id": "8vLehfCGEzpI",
        "outputId": "92a9c93a-484b-4640-bfe8-dcf0821e4dee",
        "colab": {
          "base_uri": "https://localhost:8080/",
          "height": 251
        }
      },
      "execution_count": 30,
      "outputs": [
        {
          "output_type": "error",
          "ename": "KeyError",
          "evalue": "ignored",
          "traceback": [
            "\u001b[0;31m---------------------------------------------------------------------------\u001b[0m",
            "\u001b[0;31mKeyError\u001b[0m                                  Traceback (most recent call last)",
            "\u001b[0;32m<ipython-input-30-36c611e2498c>\u001b[0m in \u001b[0;36m<cell line: 2>\u001b[0;34m()\u001b[0m\n\u001b[1;32m      1\u001b[0m \u001b[0;32mimport\u001b[0m \u001b[0mmatplotlib\u001b[0m\u001b[0;34m.\u001b[0m\u001b[0mpyplot\u001b[0m \u001b[0;32mas\u001b[0m \u001b[0mplt\u001b[0m\u001b[0;34m\u001b[0m\u001b[0;34m\u001b[0m\u001b[0m\n\u001b[0;32m----> 2\u001b[0;31m \u001b[0mval_loss\u001b[0m \u001b[0;34m=\u001b[0m \u001b[0mhistory\u001b[0m\u001b[0;34m.\u001b[0m\u001b[0mhistory\u001b[0m\u001b[0;34m[\u001b[0m\u001b[0;34m\"val_accuracy\"\u001b[0m\u001b[0;34m]\u001b[0m\u001b[0;34m\u001b[0m\u001b[0;34m\u001b[0m\u001b[0m\n\u001b[0m\u001b[1;32m      3\u001b[0m \u001b[0mtrn_loss\u001b[0m \u001b[0;34m=\u001b[0m \u001b[0mhistory\u001b[0m\u001b[0;34m.\u001b[0m\u001b[0mhistory\u001b[0m\u001b[0;34m[\u001b[0m\u001b[0;34m\"accuracy\"\u001b[0m\u001b[0;34m]\u001b[0m\u001b[0;34m\u001b[0m\u001b[0;34m\u001b[0m\u001b[0m\n\u001b[1;32m      4\u001b[0m \u001b[0mepochs\u001b[0m \u001b[0;34m=\u001b[0m \u001b[0mrange\u001b[0m\u001b[0;34m(\u001b[0m\u001b[0;36m1\u001b[0m\u001b[0;34m,\u001b[0m \u001b[0;36m21\u001b[0m\u001b[0;34m)\u001b[0m\u001b[0;34m\u001b[0m\u001b[0;34m\u001b[0m\u001b[0m\n\u001b[1;32m      5\u001b[0m plt.plot(epochs, val_loss, \"b--\",\n",
            "\u001b[0;31mKeyError\u001b[0m: 'val_accuracy'"
          ]
        }
      ]
    },
    {
      "cell_type": "markdown",
      "source": [
        "#### (Q1-5) [5 points] Code below listing five written digits from the test data. Use our trained model to test those images. (Hint: use model.predict )"
      ],
      "metadata": {
        "id": "sULwrZ6KE01e"
      }
    },
    {
      "cell_type": "code",
      "source": [
        "tst_imgs = x_test[10:15,].reshape(5, 28,28)\n",
        "\n",
        "import matplotlib.pyplot as plt\n",
        "\n",
        "for i in range(5):\n",
        "  ax = plt.subplot(1, 5, i + 1)\n",
        "  plt.imshow(tst_imgs[i] , cmap=plt.cm.binary)\n",
        "  plt.axis(\"off\")\n"
      ],
      "metadata": {
        "colab": {
          "base_uri": "https://localhost:8080/",
          "height": 122
        },
        "id": "T2NVBfqVDdd9",
        "outputId": "94f3723f-7567-45a7-cdc2-da72bbb466ed"
      },
      "execution_count": 11,
      "outputs": [
        {
          "output_type": "display_data",
          "data": {
            "text/plain": [
              "<Figure size 640x480 with 5 Axes>"
            ],
            "image/png": "[encoded data removed]"
          },
          "metadata": {}
        }
      ]
    },
    {
      "cell_type": "code",
      "source": [
        "## Define your prediction code here\n",
        "import tensorflow as tf\n",
        "import numpy as np\n",
        "import matplotlib.pyplot as plt\n",
        "\n",
        "\n",
        "\n",
        "# Select five handwritten digits from the test data\n",
        "tst_imgs = x_test[10:15,].reshape(5, 784)\n",
        "\n",
        "# Predict the labels of the five images using the model\n",
        "predictions = model.predict(tst_imgs)\n",
        "\n",
        "# Display the five images and their predicted labels\n",
        "plt.figure(figsize=(15, 3))\n",
        "for i in range(5):\n",
        "  ax = plt.subplot(1, 5, i + 1)\n",
        "  plt.imshow(tst_imgs[i].reshape(28, 28), cmap=plt.cm.binary)\n",
        "  plt.title(f'Label: {np.argmax(predictions[i])}')\n",
        "  plt.axis(\"off\")\n",
        "plt.show()"
      ],
      "metadata": {
        "id": "srDlxnTkFMEe",
        "outputId": "88418ef2-87ae-4e05-860c-f255265b2a49",
        "colab": {
          "base_uri": "https://localhost:8080/",
          "height": 278
        }
      },
      "execution_count": 19,
      "outputs": [
        {
          "output_type": "stream",
          "name": "stdout",
          "text": [
            "1/1 [==============================] - 4s 4s/step\n"
          ]
        },
        {
          "output_type": "display_data",
          "data": {
            "text/plain": [
              "<Figure size 1500x300 with 5 Axes>"
            ],
            "image/png": "[encoded data removed]"
          },
          "metadata": {}
        }
      ]
    },
    {
      "cell_type": "code",
      "source": [],
      "metadata": {
        "id": "cD13-XijC4YD"
      },
      "execution_count": null,
      "outputs": []
    },
    {
      "cell_type": "code",
      "source": [],
      "metadata": {
        "id": "e74aczjVdWks"
      },
      "execution_count": null,
      "outputs": []
    },
    {
      "cell_type": "markdown",
      "source": [
        "## Q2 We will use the Boston housing data for Q2"
      ],
      "metadata": {
        "id": "tmpc6ZENdZk8"
      }
    },
    {
      "cell_type": "code",
      "source": [
        "from tensorflow.keras.datasets import boston_housing\n",
        "(train_data, train_targets), (test_data, test_targets) = boston_housing.load_data()"
      ],
      "metadata": {
        "id": "feQmBCeVdWQP",
        "outputId": "979496b2-80c3-43e4-f5d7-3f6c234daf54",
        "colab": {
          "base_uri": "https://localhost:8080/"
        }
      },
      "execution_count": 20,
      "outputs": [
        {
          "output_type": "stream",
          "name": "stdout",
          "text": [
            "Downloading data from https://storage.googleapis.com/tensorflow/tf-keras-datasets/boston_housing.npz\n",
            "57026/57026 [==============================] - 0s 0us/step\n"
          ]
        }
      ]
    },
    {
      "cell_type": "code",
      "source": [
        "mean = train_data.mean(axis=0)\n",
        "train_data -= mean\n",
        "std = train_data.std(axis=0)\n",
        "train_data /= std\n",
        "test_data -= mean\n",
        "test_data /= std"
      ],
      "metadata": {
        "id": "xZH10TyDGJTP"
      },
      "execution_count": 21,
      "outputs": []
    },
    {
      "cell_type": "code",
      "source": [
        "train_data.shape"
      ],
      "metadata": {
        "colab": {
          "base_uri": "https://localhost:8080/"
        },
        "id": "G55ErfVyf6m_",
        "outputId": "a60f14f6-ae23-48d8-c854-dc0e96a055d8"
      },
      "execution_count": 22,
      "outputs": [
        {
          "output_type": "execute_result",
          "data": {
            "text/plain": [
              "(404, 13)"
            ]
          },
          "metadata": {},
          "execution_count": 22
        }
      ]
    },
    {
      "cell_type": "markdown",
      "source": [
        "#### (Q2-1) [5 points] Seperate validation data from your training data. Set the number of validation data as 54. Complete the code below."
      ],
      "metadata": {
        "id": "hRepEFSypXR0"
      }
    },
    {
      "cell_type": "code",
      "source": [
        "import numpy as np \n",
        "\n",
        "indices_permutation = np.random.permutation(404)\n",
        "shuffled_x_train = train_data[indices_permutation]\n",
        "shuffled_train_targets = train_targets[indices_permutation]\n",
        "\n",
        "num_validation_samples = 54\n",
        "\n",
        "## Complete the code below: \n",
        "val_x = shuffled_x_train[:num_validation_samples]\n",
        "val_targets = shuffled_train_targets[:num_validation_samples]\n",
        "\n",
        "\n",
        "trn_x = shuffled_x_train[num_validation_samples:]\n",
        "trn_targets = shuffled_train_targets[num_validation_samples:]\n"
      ],
      "metadata": {
        "id": "XVpQKatGf_9Y"
      },
      "execution_count": 25,
      "outputs": []
    },
    {
      "cell_type": "markdown",
      "source": [
        "#### (Q2-2) [10 points] Design your neural network model with the structure below\n",
        "\n",
        "- We have three Dense layers. Follow the description below.\n",
        "  - Setup output sizes as 300, 200 and 1 for all three Dense layers.\n",
        "  - Setup appropriate activation layers (such as relu, sigmoid, softmax and None).\n",
        "\n",
        "![image.png](data:image/png;base64,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)"
      ],
      "metadata": {
        "id": "LAeRLXXJeSPj"
      }
    },
    {
      "cell_type": "markdown",
      "source": [
        "This time we will make a function (build_model) to define our model."
      ],
      "metadata": {
        "id": "_60-YmHXp63f"
      }
    },
    {
      "cell_type": "code",
      "source": [
        "def build_model():\n",
        "    model = keras.Sequential([\n",
        "    layers.Dense(300, activation=\"relu\"),\n",
        "    layers.Dense(300, activation=\"sigmoid\"),\n",
        "    layers.Dense(1, activation=\"softmax\")\n",
        "])\n",
        "## Define your layers here     \n",
        "\n",
        "\n",
        "    model.compile(optimizer=\"rmsprop\", loss=\"mse\", metrics=[\"mae\"])\n",
        "    return model"
      ],
      "metadata": {
        "id": "eT9ACPzadxjT"
      },
      "execution_count": 27,
      "outputs": []
    },
    {
      "cell_type": "code",
      "source": [
        "model = build_model()"
      ],
      "metadata": {
        "id": "Aa56QwVMgYJC"
      },
      "execution_count": 28,
      "outputs": []
    },
    {
      "cell_type": "markdown",
      "source": [
        "#### (Q2-2) [10 points] Fit your model. \n",
        "- Use epoch size of 200, and batch size of 30.\n",
        "- Use trn_x and trn_targets as training data\n",
        "- Use val_x and val_targets as validation data "
      ],
      "metadata": {
        "id": "UvJ4lWrYjnRn"
      }
    },
    {
      "cell_type": "code",
      "source": [
        "history = model.fit(trn_x, trn_targets, validation_data=(val_x, val_targets), epochs=200, batch_size=30)"
      ],
      "metadata": {
        "id": "76C-flpPgdjx",
        "outputId": "90ea5ce0-72d2-4554-d3ec-9599da4a3c6c",
        "colab": {
          "base_uri": "https://localhost:8080/"
        }
      },
      "execution_count": 31,
      "outputs": [
        {
          "output_type": "stream",
          "name": "stdout",
          "text": [
            "Epoch 1/200\n",
            "12/12 [==============================] - 0s 10ms/step - loss: 552.3773 - mae: 21.5574 - val_loss: 477.5109 - val_mae: 20.3426\n",
            "Epoch 2/200\n",
            "12/12 [==============================] - 0s 5ms/step - loss: 552.3773 - mae: 21.5574 - val_loss: 477.5109 - val_mae: 20.3426\n",
            "Epoch 3/200\n",
            "12/12 [==============================] - 0s 7ms/step - loss: 552.3773 - mae: 21.5574 - val_loss: 477.5109 - val_mae: 20.3426\n",
            "Epoch 4/200\n",
            "12/12 [==============================] - 0s 7ms/step - loss: 552.3773 - mae: 21.5574 - val_loss: 477.5109 - val_mae: 20.3426\n",
            "Epoch 5/200\n",
            "12/12 [==============================] - 0s 6ms/step - loss: 552.3773 - mae: 21.5574 - val_loss: 477.5109 - val_mae: 20.3426\n",
            "Epoch 6/200\n",
            "12/12 [==============================] - 0s 5ms/step - loss: 552.3773 - mae: 21.5574 - val_loss: 477.5109 - val_mae: 20.3426\n",
            "Epoch 7/200\n",
            "12/12 [==============================] - 0s 6ms/step - loss: 552.3773 - mae: 21.5574 - val_loss: 477.5109 - val_mae: 20.3426\n",
            "Epoch 8/200\n",
            "12/12 [==============================] - 0s 5ms/step - loss: 552.3773 - mae: 21.5574 - val_loss: 477.5109 - val_mae: 20.3426\n",
            "Epoch 9/200\n",
            "12/12 [==============================] - 0s 6ms/step - loss: 552.3773 - mae: 21.5574 - val_loss: 477.5109 - val_mae: 20.3426\n",
            "Epoch 10/200\n",
            "12/12 [==============================] - 0s 6ms/step - loss: 552.3773 - mae: 21.5574 - val_loss: 477.5109 - val_mae: 20.3426\n",
            "Epoch 11/200\n",
            "12/12 [==============================] - 0s 8ms/step - loss: 552.3773 - mae: 21.5574 - val_loss: 477.5109 - val_mae: 20.3426\n",
            "Epoch 12/200\n",
            "12/12 [==============================] - 0s 5ms/step - loss: 552.3773 - mae: 21.5574 - val_loss: 477.5109 - val_mae: 20.3426\n",
            "Epoch 13/200\n",
            "12/12 [==============================] - 0s 5ms/step - loss: 552.3773 - mae: 21.5574 - val_loss: 477.5109 - val_mae: 20.3426\n",
            "Epoch 14/200\n",
            "12/12 [==============================] - 0s 8ms/step - loss: 552.3773 - mae: 21.5574 - val_loss: 477.5109 - val_mae: 20.3426\n",
            "Epoch 15/200\n",
            "12/12 [==============================] - 0s 7ms/step - loss: 552.3773 - mae: 21.5574 - val_loss: 477.5109 - val_mae: 20.3426\n",
            "Epoch 16/200\n",
            "12/12 [==============================] - 0s 6ms/step - loss: 552.3773 - mae: 21.5574 - val_loss: 477.5109 - val_mae: 20.3426\n",
            "Epoch 17/200\n",
            "12/12 [==============================] - 0s 6ms/step - loss: 552.3773 - mae: 21.5574 - val_loss: 477.5109 - val_mae: 20.3426\n",
            "Epoch 18/200\n",
            "12/12 [==============================] - 0s 6ms/step - loss: 552.3773 - mae: 21.5574 - val_loss: 477.5109 - val_mae: 20.3426\n",
            "Epoch 19/200\n",
            "12/12 [==============================] - 0s 7ms/step - loss: 552.3773 - mae: 21.5574 - val_loss: 477.5109 - val_mae: 20.3426\n",
            "Epoch 20/200\n",
            "12/12 [==============================] - 0s 6ms/step - loss: 552.3773 - mae: 21.5574 - val_loss: 477.5109 - val_mae: 20.3426\n",
            "Epoch 21/200\n",
            "12/12 [==============================] - 0s 7ms/step - loss: 552.3773 - mae: 21.5574 - val_loss: 477.5109 - val_mae: 20.3426\n",
            "Epoch 22/200\n",
            "12/12 [==============================] - 0s 7ms/step - loss: 552.3773 - mae: 21.5574 - val_loss: 477.5109 - val_mae: 20.3426\n",
            "Epoch 23/200\n",
            "12/12 [==============================] - 0s 5ms/step - loss: 552.3773 - mae: 21.5574 - val_loss: 477.5109 - val_mae: 20.3426\n",
            "Epoch 24/200\n",
            "12/12 [==============================] - 0s 7ms/step - loss: 552.3773 - mae: 21.5574 - val_loss: 477.5109 - val_mae: 20.3426\n",
            "Epoch 25/200\n",
            "12/12 [==============================] - 0s 6ms/step - loss: 552.3773 - mae: 21.5574 - val_loss: 477.5109 - val_mae: 20.3426\n",
            "Epoch 26/200\n",
            "12/12 [==============================] - 0s 7ms/step - loss: 552.3773 - mae: 21.5574 - val_loss: 477.5109 - val_mae: 20.3426\n",
            "Epoch 27/200\n",
            "12/12 [==============================] - 0s 7ms/step - loss: 552.3773 - mae: 21.5574 - val_loss: 477.5109 - val_mae: 20.3426\n",
            "Epoch 28/200\n",
            "12/12 [==============================] - 0s 7ms/step - loss: 552.3773 - mae: 21.5574 - val_loss: 477.5109 - val_mae: 20.3426\n",
            "Epoch 29/200\n",
            "12/12 [==============================] - 0s 6ms/step - loss: 552.3773 - mae: 21.5574 - val_loss: 477.5109 - val_mae: 20.3426\n",
            "Epoch 30/200\n",
            "12/12 [==============================] - 0s 7ms/step - loss: 552.3773 - mae: 21.5574 - val_loss: 477.5109 - val_mae: 20.3426\n",
            "Epoch 31/200\n",
            "12/12 [==============================] - 0s 5ms/step - loss: 552.3772 - mae: 21.5574 - val_loss: 477.5109 - val_mae: 20.3426\n",
            "Epoch 32/200\n",
            "12/12 [==============================] - 0s 8ms/step - loss: 552.3773 - mae: 21.5574 - val_loss: 477.5109 - val_mae: 20.3426\n",
            "Epoch 33/200\n",
            "12/12 [==============================] - 0s 7ms/step - loss: 552.3773 - mae: 21.5574 - val_loss: 477.5109 - val_mae: 20.3426\n",
            "Epoch 34/200\n",
            "12/12 [==============================] - 0s 7ms/step - loss: 552.3773 - mae: 21.5574 - val_loss: 477.5109 - val_mae: 20.3426\n",
            "Epoch 35/200\n",
            "12/12 [==============================] - 0s 7ms/step - loss: 552.3773 - mae: 21.5574 - val_loss: 477.5109 - val_mae: 20.3426\n",
            "Epoch 36/200\n",
            "12/12 [==============================] - 0s 7ms/step - loss: 552.3773 - mae: 21.5574 - val_loss: 477.5109 - val_mae: 20.3426\n",
            "Epoch 37/200\n",
            "12/12 [==============================] - 0s 7ms/step - loss: 552.3773 - mae: 21.5574 - val_loss: 477.5109 - val_mae: 20.3426\n",
            "Epoch 38/200\n",
            "12/12 [==============================] - 0s 5ms/step - loss: 552.3773 - mae: 21.5574 - val_loss: 477.5109 - val_mae: 20.3426\n",
            "Epoch 39/200\n",
            "12/12 [==============================] - 0s 7ms/step - loss: 552.3773 - mae: 21.5574 - val_loss: 477.5109 - val_mae: 20.3426\n",
            "Epoch 40/200\n",
            "12/12 [==============================] - 0s 7ms/step - loss: 552.3773 - mae: 21.5574 - val_loss: 477.5109 - val_mae: 20.3426\n",
            "Epoch 41/200\n",
            "12/12 [==============================] - 0s 5ms/step - loss: 552.3773 - mae: 21.5574 - val_loss: 477.5109 - val_mae: 20.3426\n",
            "Epoch 42/200\n",
            "12/12 [==============================] - 0s 5ms/step - loss: 552.3773 - mae: 21.5574 - val_loss: 477.5109 - val_mae: 20.3426\n",
            "Epoch 43/200\n",
            "12/12 [==============================] - 0s 5ms/step - loss: 552.3773 - mae: 21.5574 - val_loss: 477.5109 - val_mae: 20.3426\n",
            "Epoch 44/200\n",
            "12/12 [==============================] - 0s 5ms/step - loss: 552.3773 - mae: 21.5574 - val_loss: 477.5109 - val_mae: 20.3426\n",
            "Epoch 45/200\n",
            "12/12 [==============================] - 0s 7ms/step - loss: 552.3773 - mae: 21.5574 - val_loss: 477.5109 - val_mae: 20.3426\n",
            "Epoch 46/200\n",
            "12/12 [==============================] - 0s 7ms/step - loss: 552.3773 - mae: 21.5574 - val_loss: 477.5109 - val_mae: 20.3426\n",
            "Epoch 47/200\n",
            "12/12 [==============================] - 0s 5ms/step - loss: 552.3773 - mae: 21.5574 - val_loss: 477.5109 - val_mae: 20.3426\n",
            "Epoch 48/200\n",
            "12/12 [==============================] - 0s 5ms/step - loss: 552.3773 - mae: 21.5574 - val_loss: 477.5109 - val_mae: 20.3426\n",
            "Epoch 49/200\n",
            "12/12 [==============================] - 0s 7ms/step - loss: 552.3773 - mae: 21.5574 - val_loss: 477.5109 - val_mae: 20.3426\n",
            "Epoch 50/200\n",
            "12/12 [==============================] - 0s 5ms/step - loss: 552.3773 - mae: 21.5574 - val_loss: 477.5109 - val_mae: 20.3426\n",
            "Epoch 51/200\n",
            "12/12 [==============================] - 0s 7ms/step - loss: 552.3773 - mae: 21.5574 - val_loss: 477.5109 - val_mae: 20.3426\n",
            "Epoch 52/200\n",
            "12/12 [==============================] - 0s 6ms/step - loss: 552.3773 - mae: 21.5574 - val_loss: 477.5109 - val_mae: 20.3426\n",
            "Epoch 53/200\n",
            "12/12 [==============================] - 0s 7ms/step - loss: 552.3773 - mae: 21.5574 - val_loss: 477.5109 - val_mae: 20.3426\n",
            "Epoch 54/200\n",
            "12/12 [==============================] - 0s 5ms/step - loss: 552.3773 - mae: 21.5574 - val_loss: 477.5109 - val_mae: 20.3426\n",
            "Epoch 55/200\n",
            "12/12 [==============================] - 0s 5ms/step - loss: 552.3773 - mae: 21.5574 - val_loss: 477.5109 - val_mae: 20.3426\n",
            "Epoch 56/200\n",
            "12/12 [==============================] - 0s 7ms/step - loss: 552.3773 - mae: 21.5574 - val_loss: 477.5109 - val_mae: 20.3426\n",
            "Epoch 57/200\n",
            "12/12 [==============================] - 0s 6ms/step - loss: 552.3773 - mae: 21.5574 - val_loss: 477.5109 - val_mae: 20.3426\n",
            "Epoch 58/200\n",
            "12/12 [==============================] - 0s 5ms/step - loss: 552.3773 - mae: 21.5574 - val_loss: 477.5109 - val_mae: 20.3426\n",
            "Epoch 59/200\n",
            "12/12 [==============================] - 0s 7ms/step - loss: 552.3773 - mae: 21.5574 - val_loss: 477.5109 - val_mae: 20.3426\n",
            "Epoch 60/200\n",
            "12/12 [==============================] - 0s 7ms/step - loss: 552.3773 - mae: 21.5574 - val_loss: 477.5109 - val_mae: 20.3426\n",
            "Epoch 61/200\n",
            "12/12 [==============================] - 0s 5ms/step - loss: 552.3773 - mae: 21.5574 - val_loss: 477.5109 - val_mae: 20.3426\n",
            "Epoch 62/200\n",
            "12/12 [==============================] - 0s 5ms/step - loss: 552.3773 - mae: 21.5574 - val_loss: 477.5109 - val_mae: 20.3426\n",
            "Epoch 63/200\n",
            "12/12 [==============================] - 0s 5ms/step - loss: 552.3773 - mae: 21.5574 - val_loss: 477.5109 - val_mae: 20.3426\n",
            "Epoch 64/200\n",
            "12/12 [==============================] - 0s 5ms/step - loss: 552.3773 - mae: 21.5574 - val_loss: 477.5109 - val_mae: 20.3426\n",
            "Epoch 65/200\n",
            "12/12 [==============================] - 0s 7ms/step - loss: 552.3773 - mae: 21.5574 - val_loss: 477.5109 - val_mae: 20.3426\n",
            "Epoch 66/200\n",
            "12/12 [==============================] - 0s 6ms/step - loss: 552.3773 - mae: 21.5574 - val_loss: 477.5109 - val_mae: 20.3426\n",
            "Epoch 67/200\n",
            "12/12 [==============================] - 0s 7ms/step - loss: 552.3773 - mae: 21.5574 - val_loss: 477.5109 - val_mae: 20.3426\n",
            "Epoch 68/200\n",
            "12/12 [==============================] - 0s 7ms/step - loss: 552.3773 - mae: 21.5574 - val_loss: 477.5109 - val_mae: 20.3426\n",
            "Epoch 69/200\n",
            "12/12 [==============================] - 0s 10ms/step - loss: 552.3773 - mae: 21.5574 - val_loss: 477.5109 - val_mae: 20.3426\n",
            "Epoch 70/200\n",
            "12/12 [==============================] - 0s 8ms/step - loss: 552.3773 - mae: 21.5574 - val_loss: 477.5109 - val_mae: 20.3426\n",
            "Epoch 71/200\n",
            "12/12 [==============================] - 0s 8ms/step - loss: 552.3773 - mae: 21.5574 - val_loss: 477.5109 - val_mae: 20.3426\n",
            "Epoch 72/200\n",
            "12/12 [==============================] - 0s 10ms/step - loss: 552.3773 - mae: 21.5574 - val_loss: 477.5109 - val_mae: 20.3426\n",
            "Epoch 73/200\n",
            "12/12 [==============================] - 0s 9ms/step - loss: 552.3773 - mae: 21.5574 - val_loss: 477.5109 - val_mae: 20.3426\n",
            "Epoch 74/200\n",
            "12/12 [==============================] - 0s 8ms/step - loss: 552.3773 - mae: 21.5574 - val_loss: 477.5109 - val_mae: 20.3426\n",
            "Epoch 75/200\n",
            "12/12 [==============================] - 0s 10ms/step - loss: 552.3773 - mae: 21.5574 - val_loss: 477.5109 - val_mae: 20.3426\n",
            "Epoch 76/200\n",
            "12/12 [==============================] - 0s 8ms/step - loss: 552.3773 - mae: 21.5574 - val_loss: 477.5109 - val_mae: 20.3426\n",
            "Epoch 77/200\n",
            "12/12 [==============================] - 0s 9ms/step - loss: 552.3773 - mae: 21.5574 - val_loss: 477.5109 - val_mae: 20.3426\n",
            "Epoch 78/200\n",
            "12/12 [==============================] - 0s 9ms/step - loss: 552.3773 - mae: 21.5574 - val_loss: 477.5109 - val_mae: 20.3426\n",
            "Epoch 79/200\n",
            "12/12 [==============================] - 0s 9ms/step - loss: 552.3773 - mae: 21.5574 - val_loss: 477.5109 - val_mae: 20.3426\n",
            "Epoch 80/200\n",
            "12/12 [==============================] - 0s 9ms/step - loss: 552.3774 - mae: 21.5574 - val_loss: 477.5109 - val_mae: 20.3426\n",
            "Epoch 81/200\n",
            "12/12 [==============================] - 0s 8ms/step - loss: 552.3773 - mae: 21.5574 - val_loss: 477.5109 - val_mae: 20.3426\n",
            "Epoch 82/200\n",
            "12/12 [==============================] - 0s 8ms/step - loss: 552.3773 - mae: 21.5574 - val_loss: 477.5109 - val_mae: 20.3426\n",
            "Epoch 83/200\n",
            "12/12 [==============================] - 0s 7ms/step - loss: 552.3773 - mae: 21.5574 - val_loss: 477.5109 - val_mae: 20.3426\n",
            "Epoch 84/200\n",
            "12/12 [==============================] - 0s 8ms/step - loss: 552.3773 - mae: 21.5574 - val_loss: 477.5109 - val_mae: 20.3426\n",
            "Epoch 85/200\n",
            "12/12 [==============================] - 0s 9ms/step - loss: 552.3773 - mae: 21.5574 - val_loss: 477.5109 - val_mae: 20.3426\n",
            "Epoch 86/200\n",
            "12/12 [==============================] - 0s 9ms/step - loss: 552.3773 - mae: 21.5574 - val_loss: 477.5109 - val_mae: 20.3426\n",
            "Epoch 87/200\n",
            "12/12 [==============================] - 0s 8ms/step - loss: 552.3773 - mae: 21.5574 - val_loss: 477.5109 - val_mae: 20.3426\n",
            "Epoch 88/200\n",
            "12/12 [==============================] - 0s 9ms/step - loss: 552.3773 - mae: 21.5574 - val_loss: 477.5109 - val_mae: 20.3426\n",
            "Epoch 89/200\n",
            "12/12 [==============================] - 0s 9ms/step - loss: 552.3773 - mae: 21.5574 - val_loss: 477.5109 - val_mae: 20.3426\n",
            "Epoch 90/200\n",
            "12/12 [==============================] - 0s 7ms/step - loss: 552.3773 - mae: 21.5574 - val_loss: 477.5109 - val_mae: 20.3426\n",
            "Epoch 91/200\n",
            "12/12 [==============================] - 0s 7ms/step - loss: 552.3774 - mae: 21.5574 - val_loss: 477.5109 - val_mae: 20.3426\n",
            "Epoch 92/200\n",
            "12/12 [==============================] - 0s 6ms/step - loss: 552.3773 - mae: 21.5574 - val_loss: 477.5109 - val_mae: 20.3426\n",
            "Epoch 93/200\n",
            "12/12 [==============================] - 0s 7ms/step - loss: 552.3773 - mae: 21.5574 - val_loss: 477.5109 - val_mae: 20.3426\n",
            "Epoch 94/200\n",
            "12/12 [==============================] - 0s 7ms/step - loss: 552.3773 - mae: 21.5574 - val_loss: 477.5109 - val_mae: 20.3426\n",
            "Epoch 95/200\n",
            "12/12 [==============================] - 0s 6ms/step - loss: 552.3773 - mae: 21.5574 - val_loss: 477.5109 - val_mae: 20.3426\n",
            "Epoch 96/200\n",
            "12/12 [==============================] - 0s 7ms/step - loss: 552.3773 - mae: 21.5574 - val_loss: 477.5109 - val_mae: 20.3426\n",
            "Epoch 97/200\n",
            "12/12 [==============================] - 0s 5ms/step - loss: 552.3773 - mae: 21.5574 - val_loss: 477.5109 - val_mae: 20.3426\n",
            "Epoch 98/200\n",
            "12/12 [==============================] - 0s 7ms/step - loss: 552.3773 - mae: 21.5574 - val_loss: 477.5109 - val_mae: 20.3426\n",
            "Epoch 99/200\n",
            "12/12 [==============================] - 0s 7ms/step - loss: 552.3773 - mae: 21.5574 - val_loss: 477.5109 - val_mae: 20.3426\n",
            "Epoch 100/200\n",
            "12/12 [==============================] - 0s 5ms/step - loss: 552.3773 - mae: 21.5574 - val_loss: 477.5109 - val_mae: 20.3426\n",
            "Epoch 101/200\n",
            "12/12 [==============================] - 0s 7ms/step - loss: 552.3773 - mae: 21.5574 - val_loss: 477.5109 - val_mae: 20.3426\n",
            "Epoch 102/200\n",
            "12/12 [==============================] - 0s 5ms/step - loss: 552.3773 - mae: 21.5574 - val_loss: 477.5109 - val_mae: 20.3426\n",
            "Epoch 103/200\n",
            "12/12 [==============================] - 0s 7ms/step - loss: 552.3773 - mae: 21.5574 - val_loss: 477.5109 - val_mae: 20.3426\n",
            "Epoch 104/200\n",
            "12/12 [==============================] - 0s 7ms/step - loss: 552.3773 - mae: 21.5574 - val_loss: 477.5109 - val_mae: 20.3426\n",
            "Epoch 105/200\n",
            "12/12 [==============================] - 0s 5ms/step - loss: 552.3773 - mae: 21.5574 - val_loss: 477.5109 - val_mae: 20.3426\n",
            "Epoch 106/200\n",
            "12/12 [==============================] - 0s 7ms/step - loss: 552.3773 - mae: 21.5574 - val_loss: 477.5109 - val_mae: 20.3426\n",
            "Epoch 107/200\n",
            "12/12 [==============================] - 0s 5ms/step - loss: 552.3773 - mae: 21.5574 - val_loss: 477.5109 - val_mae: 20.3426\n",
            "Epoch 108/200\n",
            "12/12 [==============================] - 0s 6ms/step - loss: 552.3773 - mae: 21.5574 - val_loss: 477.5109 - val_mae: 20.3426\n",
            "Epoch 109/200\n",
            "12/12 [==============================] - 0s 7ms/step - loss: 552.3773 - mae: 21.5574 - val_loss: 477.5109 - val_mae: 20.3426\n",
            "Epoch 110/200\n",
            "12/12 [==============================] - 0s 5ms/step - loss: 552.3773 - mae: 21.5574 - val_loss: 477.5109 - val_mae: 20.3426\n",
            "Epoch 111/200\n",
            "12/12 [==============================] - 0s 6ms/step - loss: 552.3773 - mae: 21.5574 - val_loss: 477.5109 - val_mae: 20.3426\n",
            "Epoch 112/200\n",
            "12/12 [==============================] - 0s 6ms/step - loss: 552.3773 - mae: 21.5574 - val_loss: 477.5109 - val_mae: 20.3426\n",
            "Epoch 113/200\n",
            "12/12 [==============================] - 0s 5ms/step - loss: 552.3774 - mae: 21.5574 - val_loss: 477.5109 - val_mae: 20.3426\n",
            "Epoch 114/200\n",
            "12/12 [==============================] - 0s 5ms/step - loss: 552.3773 - mae: 21.5574 - val_loss: 477.5109 - val_mae: 20.3426\n",
            "Epoch 115/200\n",
            "12/12 [==============================] - 0s 6ms/step - loss: 552.3773 - mae: 21.5574 - val_loss: 477.5109 - val_mae: 20.3426\n",
            "Epoch 116/200\n",
            "12/12 [==============================] - 0s 5ms/step - loss: 552.3773 - mae: 21.5574 - val_loss: 477.5109 - val_mae: 20.3426\n",
            "Epoch 117/200\n",
            "12/12 [==============================] - 0s 5ms/step - loss: 552.3773 - mae: 21.5574 - val_loss: 477.5109 - val_mae: 20.3426\n",
            "Epoch 118/200\n",
            "12/12 [==============================] - 0s 5ms/step - loss: 552.3773 - mae: 21.5574 - val_loss: 477.5109 - val_mae: 20.3426\n",
            "Epoch 119/200\n",
            "12/12 [==============================] - 0s 7ms/step - loss: 552.3773 - mae: 21.5574 - val_loss: 477.5109 - val_mae: 20.3426\n",
            "Epoch 120/200\n",
            "12/12 [==============================] - 0s 5ms/step - loss: 552.3773 - mae: 21.5574 - val_loss: 477.5109 - val_mae: 20.3426\n",
            "Epoch 121/200\n",
            "12/12 [==============================] - 0s 5ms/step - loss: 552.3773 - mae: 21.5574 - val_loss: 477.5109 - val_mae: 20.3426\n",
            "Epoch 122/200\n",
            "12/12 [==============================] - 0s 7ms/step - loss: 552.3773 - mae: 21.5574 - val_loss: 477.5109 - val_mae: 20.3426\n",
            "Epoch 123/200\n",
            "12/12 [==============================] - 0s 6ms/step - loss: 552.3773 - mae: 21.5574 - val_loss: 477.5109 - val_mae: 20.3426\n",
            "Epoch 124/200\n",
            "12/12 [==============================] - 0s 5ms/step - loss: 552.3773 - mae: 21.5574 - val_loss: 477.5109 - val_mae: 20.3426\n",
            "Epoch 125/200\n",
            "12/12 [==============================] - 0s 6ms/step - loss: 552.3773 - mae: 21.5574 - val_loss: 477.5109 - val_mae: 20.3426\n",
            "Epoch 126/200\n",
            "12/12 [==============================] - 0s 7ms/step - loss: 552.3773 - mae: 21.5574 - val_loss: 477.5109 - val_mae: 20.3426\n",
            "Epoch 127/200\n",
            "12/12 [==============================] - 0s 5ms/step - loss: 552.3773 - mae: 21.5574 - val_loss: 477.5109 - val_mae: 20.3426\n",
            "Epoch 128/200\n",
            "12/12 [==============================] - 0s 6ms/step - loss: 552.3773 - mae: 21.5574 - val_loss: 477.5109 - val_mae: 20.3426\n",
            "Epoch 129/200\n",
            "12/12 [==============================] - 0s 7ms/step - loss: 552.3773 - mae: 21.5574 - val_loss: 477.5109 - val_mae: 20.3426\n",
            "Epoch 130/200\n",
            "12/12 [==============================] - 0s 5ms/step - loss: 552.3773 - mae: 21.5574 - val_loss: 477.5109 - val_mae: 20.3426\n",
            "Epoch 131/200\n",
            "12/12 [==============================] - 0s 5ms/step - loss: 552.3773 - mae: 21.5574 - val_loss: 477.5109 - val_mae: 20.3426\n",
            "Epoch 132/200\n",
            "12/12 [==============================] - 0s 7ms/step - loss: 552.3773 - mae: 21.5574 - val_loss: 477.5109 - val_mae: 20.3426\n",
            "Epoch 133/200\n",
            "12/12 [==============================] - 0s 7ms/step - loss: 552.3773 - mae: 21.5574 - val_loss: 477.5109 - val_mae: 20.3426\n",
            "Epoch 134/200\n",
            "12/12 [==============================] - 0s 6ms/step - loss: 552.3773 - mae: 21.5574 - val_loss: 477.5109 - val_mae: 20.3426\n",
            "Epoch 135/200\n",
            "12/12 [==============================] - 0s 7ms/step - loss: 552.3773 - mae: 21.5574 - val_loss: 477.5109 - val_mae: 20.3426\n",
            "Epoch 136/200\n",
            "12/12 [==============================] - 0s 7ms/step - loss: 552.3773 - mae: 21.5574 - val_loss: 477.5109 - val_mae: 20.3426\n",
            "Epoch 137/200\n",
            "12/12 [==============================] - 0s 7ms/step - loss: 552.3773 - mae: 21.5574 - val_loss: 477.5109 - val_mae: 20.3426\n",
            "Epoch 138/200\n",
            "12/12 [==============================] - 0s 7ms/step - loss: 552.3773 - mae: 21.5574 - val_loss: 477.5109 - val_mae: 20.3426\n",
            "Epoch 139/200\n",
            "12/12 [==============================] - 0s 5ms/step - loss: 552.3773 - mae: 21.5574 - val_loss: 477.5109 - val_mae: 20.3426\n",
            "Epoch 140/200\n",
            "12/12 [==============================] - 0s 7ms/step - loss: 552.3773 - mae: 21.5574 - val_loss: 477.5109 - val_mae: 20.3426\n",
            "Epoch 141/200\n",
            "12/12 [==============================] - 0s 7ms/step - loss: 552.3773 - mae: 21.5574 - val_loss: 477.5109 - val_mae: 20.3426\n",
            "Epoch 142/200\n",
            "12/12 [==============================] - 0s 7ms/step - loss: 552.3773 - mae: 21.5574 - val_loss: 477.5109 - val_mae: 20.3426\n",
            "Epoch 143/200\n",
            "12/12 [==============================] - 0s 7ms/step - loss: 552.3773 - mae: 21.5574 - val_loss: 477.5109 - val_mae: 20.3426\n",
            "Epoch 144/200\n",
            "12/12 [==============================] - 0s 5ms/step - loss: 552.3773 - mae: 21.5574 - val_loss: 477.5109 - val_mae: 20.3426\n",
            "Epoch 145/200\n",
            "12/12 [==============================] - 0s 6ms/step - loss: 552.3774 - mae: 21.5574 - val_loss: 477.5109 - val_mae: 20.3426\n",
            "Epoch 146/200\n",
            "12/12 [==============================] - 0s 7ms/step - loss: 552.3773 - mae: 21.5574 - val_loss: 477.5109 - val_mae: 20.3426\n",
            "Epoch 147/200\n",
            "12/12 [==============================] - 0s 5ms/step - loss: 552.3773 - mae: 21.5574 - val_loss: 477.5109 - val_mae: 20.3426\n",
            "Epoch 148/200\n",
            "12/12 [==============================] - 0s 6ms/step - loss: 552.3774 - mae: 21.5574 - val_loss: 477.5109 - val_mae: 20.3426\n",
            "Epoch 149/200\n",
            "12/12 [==============================] - 0s 7ms/step - loss: 552.3774 - mae: 21.5574 - val_loss: 477.5109 - val_mae: 20.3426\n",
            "Epoch 150/200\n",
            "12/12 [==============================] - 0s 7ms/step - loss: 552.3773 - mae: 21.5574 - val_loss: 477.5109 - val_mae: 20.3426\n",
            "Epoch 151/200\n",
            "12/12 [==============================] - 0s 7ms/step - loss: 552.3773 - mae: 21.5574 - val_loss: 477.5109 - val_mae: 20.3426\n",
            "Epoch 152/200\n",
            "12/12 [==============================] - 0s 5ms/step - loss: 552.3773 - mae: 21.5574 - val_loss: 477.5109 - val_mae: 20.3426\n",
            "Epoch 153/200\n",
            "12/12 [==============================] - 0s 5ms/step - loss: 552.3773 - mae: 21.5574 - val_loss: 477.5109 - val_mae: 20.3426\n",
            "Epoch 154/200\n",
            "12/12 [==============================] - 0s 5ms/step - loss: 552.3773 - mae: 21.5574 - val_loss: 477.5109 - val_mae: 20.3426\n",
            "Epoch 155/200\n",
            "12/12 [==============================] - 0s 5ms/step - loss: 552.3773 - mae: 21.5574 - val_loss: 477.5109 - val_mae: 20.3426\n",
            "Epoch 156/200\n",
            "12/12 [==============================] - 0s 5ms/step - loss: 552.3773 - mae: 21.5574 - val_loss: 477.5109 - val_mae: 20.3426\n",
            "Epoch 157/200\n",
            "12/12 [==============================] - 0s 5ms/step - loss: 552.3773 - mae: 21.5574 - val_loss: 477.5109 - val_mae: 20.3426\n",
            "Epoch 158/200\n",
            "12/12 [==============================] - 0s 5ms/step - loss: 552.3773 - mae: 21.5574 - val_loss: 477.5109 - val_mae: 20.3426\n",
            "Epoch 159/200\n",
            "12/12 [==============================] - 0s 5ms/step - loss: 552.3773 - mae: 21.5574 - val_loss: 477.5109 - val_mae: 20.3426\n",
            "Epoch 160/200\n",
            "12/12 [==============================] - 0s 6ms/step - loss: 552.3773 - mae: 21.5574 - val_loss: 477.5109 - val_mae: 20.3426\n",
            "Epoch 161/200\n",
            "12/12 [==============================] - 0s 6ms/step - loss: 552.3773 - mae: 21.5574 - val_loss: 477.5109 - val_mae: 20.3426\n",
            "Epoch 162/200\n",
            "12/12 [==============================] - 0s 5ms/step - loss: 552.3773 - mae: 21.5574 - val_loss: 477.5109 - val_mae: 20.3426\n",
            "Epoch 163/200\n",
            "12/12 [==============================] - 0s 7ms/step - loss: 552.3773 - mae: 21.5574 - val_loss: 477.5109 - val_mae: 20.3426\n",
            "Epoch 164/200\n",
            "12/12 [==============================] - 0s 7ms/step - loss: 552.3773 - mae: 21.5574 - val_loss: 477.5109 - val_mae: 20.3426\n",
            "Epoch 165/200\n",
            "12/12 [==============================] - 0s 5ms/step - loss: 552.3773 - mae: 21.5574 - val_loss: 477.5109 - val_mae: 20.3426\n",
            "Epoch 166/200\n",
            "12/12 [==============================] - 0s 5ms/step - loss: 552.3773 - mae: 21.5574 - val_loss: 477.5109 - val_mae: 20.3426\n",
            "Epoch 167/200\n",
            "12/12 [==============================] - 0s 5ms/step - loss: 552.3773 - mae: 21.5574 - val_loss: 477.5109 - val_mae: 20.3426\n",
            "Epoch 168/200\n",
            "12/12 [==============================] - 0s 7ms/step - loss: 552.3773 - mae: 21.5574 - val_loss: 477.5109 - val_mae: 20.3426\n",
            "Epoch 169/200\n",
            "12/12 [==============================] - 0s 7ms/step - loss: 552.3773 - mae: 21.5574 - val_loss: 477.5109 - val_mae: 20.3426\n",
            "Epoch 170/200\n",
            "12/12 [==============================] - 0s 7ms/step - loss: 552.3773 - mae: 21.5574 - val_loss: 477.5109 - val_mae: 20.3426\n",
            "Epoch 171/200\n",
            "12/12 [==============================] - 0s 5ms/step - loss: 552.3773 - mae: 21.5574 - val_loss: 477.5109 - val_mae: 20.3426\n",
            "Epoch 172/200\n",
            "12/12 [==============================] - 0s 7ms/step - loss: 552.3773 - mae: 21.5574 - val_loss: 477.5109 - val_mae: 20.3426\n",
            "Epoch 173/200\n",
            "12/12 [==============================] - 0s 6ms/step - loss: 552.3773 - mae: 21.5574 - val_loss: 477.5109 - val_mae: 20.3426\n",
            "Epoch 174/200\n",
            "12/12 [==============================] - 0s 5ms/step - loss: 552.3773 - mae: 21.5574 - val_loss: 477.5109 - val_mae: 20.3426\n",
            "Epoch 175/200\n",
            "12/12 [==============================] - 0s 5ms/step - loss: 552.3773 - mae: 21.5574 - val_loss: 477.5109 - val_mae: 20.3426\n",
            "Epoch 176/200\n",
            "12/12 [==============================] - 0s 5ms/step - loss: 552.3773 - mae: 21.5574 - val_loss: 477.5109 - val_mae: 20.3426\n",
            "Epoch 177/200\n",
            "12/12 [==============================] - 0s 5ms/step - loss: 552.3773 - mae: 21.5574 - val_loss: 477.5109 - val_mae: 20.3426\n",
            "Epoch 178/200\n",
            "12/12 [==============================] - 0s 7ms/step - loss: 552.3773 - mae: 21.5574 - val_loss: 477.5109 - val_mae: 20.3426\n",
            "Epoch 179/200\n",
            "12/12 [==============================] - 0s 7ms/step - loss: 552.3773 - mae: 21.5574 - val_loss: 477.5109 - val_mae: 20.3426\n",
            "Epoch 180/200\n",
            "12/12 [==============================] - 0s 7ms/step - loss: 552.3773 - mae: 21.5574 - val_loss: 477.5109 - val_mae: 20.3426\n",
            "Epoch 181/200\n",
            "12/12 [==============================] - 0s 6ms/step - loss: 552.3773 - mae: 21.5574 - val_loss: 477.5109 - val_mae: 20.3426\n",
            "Epoch 182/200\n",
            "12/12 [==============================] - 0s 5ms/step - loss: 552.3773 - mae: 21.5574 - val_loss: 477.5109 - val_mae: 20.3426\n",
            "Epoch 183/200\n",
            "12/12 [==============================] - 0s 7ms/step - loss: 552.3773 - mae: 21.5574 - val_loss: 477.5109 - val_mae: 20.3426\n",
            "Epoch 184/200\n",
            "12/12 [==============================] - 0s 5ms/step - loss: 552.3773 - mae: 21.5574 - val_loss: 477.5109 - val_mae: 20.3426\n",
            "Epoch 185/200\n",
            "12/12 [==============================] - 0s 5ms/step - loss: 552.3773 - mae: 21.5574 - val_loss: 477.5109 - val_mae: 20.3426\n",
            "Epoch 186/200\n",
            "12/12 [==============================] - 0s 7ms/step - loss: 552.3773 - mae: 21.5574 - val_loss: 477.5109 - val_mae: 20.3426\n",
            "Epoch 187/200\n",
            "12/12 [==============================] - 0s 5ms/step - loss: 552.3773 - mae: 21.5574 - val_loss: 477.5109 - val_mae: 20.3426\n",
            "Epoch 188/200\n",
            "12/12 [==============================] - 0s 6ms/step - loss: 552.3773 - mae: 21.5574 - val_loss: 477.5109 - val_mae: 20.3426\n",
            "Epoch 189/200\n",
            "12/12 [==============================] - 0s 6ms/step - loss: 552.3773 - mae: 21.5574 - val_loss: 477.5109 - val_mae: 20.3426\n",
            "Epoch 190/200\n",
            "12/12 [==============================] - 0s 5ms/step - loss: 552.3773 - mae: 21.5574 - val_loss: 477.5109 - val_mae: 20.3426\n",
            "Epoch 191/200\n",
            "12/12 [==============================] - 0s 5ms/step - loss: 552.3773 - mae: 21.5574 - val_loss: 477.5109 - val_mae: 20.3426\n",
            "Epoch 192/200\n",
            "12/12 [==============================] - 0s 7ms/step - loss: 552.3773 - mae: 21.5574 - val_loss: 477.5109 - val_mae: 20.3426\n",
            "Epoch 193/200\n",
            "12/12 [==============================] - 0s 7ms/step - loss: 552.3773 - mae: 21.5574 - val_loss: 477.5109 - val_mae: 20.3426\n",
            "Epoch 194/200\n",
            "12/12 [==============================] - 0s 12ms/step - loss: 552.3773 - mae: 21.5574 - val_loss: 477.5109 - val_mae: 20.3426\n",
            "Epoch 195/200\n",
            "12/12 [==============================] - 0s 11ms/step - loss: 552.3773 - mae: 21.5574 - val_loss: 477.5109 - val_mae: 20.3426\n",
            "Epoch 196/200\n",
            "12/12 [==============================] - 0s 14ms/step - loss: 552.3773 - mae: 21.5574 - val_loss: 477.5109 - val_mae: 20.3426\n",
            "Epoch 197/200\n",
            "12/12 [==============================] - 0s 17ms/step - loss: 552.3773 - mae: 21.5574 - val_loss: 477.5109 - val_mae: 20.3426\n",
            "Epoch 198/200\n",
            "12/12 [==============================] - 0s 12ms/step - loss: 552.3773 - mae: 21.5574 - val_loss: 477.5109 - val_mae: 20.3426\n",
            "Epoch 199/200\n",
            "12/12 [==============================] - 0s 11ms/step - loss: 552.3773 - mae: 21.5574 - val_loss: 477.5109 - val_mae: 20.3426\n",
            "Epoch 200/200\n",
            "12/12 [==============================] - 0s 7ms/step - loss: 552.3773 - mae: 21.5574 - val_loss: 477.5109 - val_mae: 20.3426\n"
          ]
        }
      ]
    },
    {
      "cell_type": "code",
      "source": [
        "import matplotlib.pyplot as plt\n",
        "val_loss = history.history[\"val_mae\"]\n",
        "trn_loss = history.history[\"mae\"]\n",
        "epochs = range(1, 201)\n",
        "plt.plot(epochs, val_loss, \"b--\",\n",
        "         label=\"Validation MAE\")\n",
        "plt.plot(epochs, trn_loss, \"r-\",\n",
        "         label=\"Training MAE\")\n",
        "plt.title(\"MAE\")\n",
        "plt.xlabel(\"Epochs\")\n",
        "plt.ylabel(\"MAE\")\n",
        "plt.ylim([1,4])\n",
        "plt.legend()"
      ],
      "metadata": {
        "colab": {
          "base_uri": "https://localhost:8080/",
          "height": 491
        },
        "id": "PqjfxArVhnUE",
        "outputId": "b69ce33e-2ddd-4711-b992-8a2374b10828"
      },
      "execution_count": 32,
      "outputs": [
        {
          "output_type": "execute_result",
          "data": {
            "text/plain": [
              "<matplotlib.legend.Legend at 0x7f2f70354fd0>"
            ]
          },
          "metadata": {},
          "execution_count": 32
        },
        {
          "output_type": "display_data",
          "data": {
            "text/plain": [
              "<Figure size 640x480 with 1 Axes>"
            ],
            "image/png": "[encoded data removed]"
          },
          "metadata": {}
        }
      ]
    },
    {
      "cell_type": "markdown",
      "source": [
        "#### (Q2-3) [5 points] Evaluate your model on test data. \n",
        "- Report the MAE and MSE score on test data "
      ],
      "metadata": {
        "id": "2PAPQAg_mS6d"
      }
    },
    {
      "cell_type": "code",
      "source": [
        "## use model.evaluate to get MAE and MSE scores.\n",
        "\n",
        "# 챗에 쳐본 결과\n",
        "# Assuming your model has been defined and trained, you can evaluate it on the test data as follows:\n",
        "\n",
        "# Evaluate the model on the test data\n",
        "test_loss, test_mae, test_mse = model.evaluate(test_data, test_targets)\n",
        "\n",
        "# Print the MAE and MSE scores on the test data\n",
        "print(f'Test MAE: {test_mae:.2f}')\n",
        "print(f'Test MSE: {test_mse:.2f}')"
      ],
      "metadata": {
        "colab": {
          "base_uri": "https://localhost:8080/"
        },
        "id": "zGpNfzH4mcMK",
        "outputId": "4e7f8507-8622-46e1-e7fb-2ccf3a6260ba"
      },
      "execution_count": null,
      "outputs": [
        {
          "output_type": "stream",
          "name": "stdout",
          "text": [
            "4/4 [==============================] - 0s 5ms/step - loss: 14.8011 - mae: 2.6264\n"
          ]
        }
      ]
    },
    {
      "cell_type": "code",
      "source": [],
      "metadata": {
        "id": "w34lDltxmj3B"
      },
      "execution_count": null,
      "outputs": []
    },
    {
      "cell_type": "markdown",
      "source": [
        "#### (Q2-4) [10 points] Revise the model using dropout regularization with the structure below\n",
        "- Add two dropout layers with rate 0.2. \n",
        "\n",
        "![image.png](data:image/png;base64,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)"
      ],
      "metadata": {
        "id": "MCs0VwqzkSnF"
      }
    },
    {
      "cell_type": "code",
      "source": [
        "def build_model_dropout():\n",
        "    model = keras.Sequential([\n",
        "## Define your model here     \n",
        "\n",
        "    ])\n",
        "    model.compile(optimizer=\"rmsprop\", loss=\"mse\", metrics=[\"mae\"])\n",
        "    return model"
      ],
      "metadata": {
        "id": "jxRI22lxh2bX"
      },
      "execution_count": null,
      "outputs": []
    },
    {
      "cell_type": "code",
      "source": [
        "model_dr = build_model_dropout()"
      ],
      "metadata": {
        "id": "eaERVX6CkRjO"
      },
      "execution_count": null,
      "outputs": []
    },
    {
      "cell_type": "code",
      "source": [
        "#챗에 쳐본 결과\n",
        "from tensorflow.keras import models\n",
        "from tensorflow.keras import layers\n",
        "\n",
        "# Define the model architecture\n",
        "model = models.Sequential([\n",
        "    layers.Dense(64, activation='relu', input_shape=(train_data.shape[1],)),\n",
        "    layers.Dropout(0.2),\n",
        "    layers.Dense(64, activation='relu'),\n",
        "    layers.Dropout(0.2),\n",
        "    layers.Dense(1)\n",
        "])\n",
        "\n",
        "# Compile the model\n",
        "model.compile(optimizer='rmsprop', loss='mse', metrics=['mae'])\n"
      ],
      "metadata": {
        "id": "oi5_nYvIhvav"
      },
      "execution_count": null,
      "outputs": []
    },
    {
      "cell_type": "markdown",
      "source": [
        "#### (Q2-5) [5 points] Fit your model. \n",
        "- Use epoch size of 200, and batch size of 30.\n",
        "- Use trn_x and trn_targets as training data\n",
        "- Use val_x and val_targets as validation data "
      ],
      "metadata": {
        "id": "2kGKzC8Xlnou"
      }
    },
    {
      "cell_type": "code",
      "source": [
        "history_dr = model_dr.fit(\n",
        "    ## Specify training data, validation data, epoch and batch size\n",
        "\n",
        ")"
      ],
      "metadata": {
        "id": "Br5BSiJdlno_"
      },
      "execution_count": null,
      "outputs": []
    },
    {
      "cell_type": "markdown",
      "source": [
        "#### (Q2-6) [5 points] Modify the code below and Visualize the history of \"val_mae\" and \"mae\" for our new dropout model (model_dr).  \n",
        "\n",
        "The result maybe look like below.  \n",
        "![image.png](data:image/png;base64,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)"
      ],
      "metadata": {
        "id": "Rz-2s1Iknhn2"
      }
    },
    {
      "cell_type": "code",
      "source": [
        "## Modify the code below to visualize the his\n",
        "\n",
        "import matplotlib.pyplot as plt\n",
        "val_loss = history.history[\"val_mae\"]\n",
        "trn_loss = history.history[\"mae\"]\n",
        "epochs = range(1, 201)\n",
        "plt.plot(epochs, val_loss, \"b--\",\n",
        "         label=\"Validation MAE\")\n",
        "plt.plot(epochs, trn_loss, \"r-\",\n",
        "         label=\"Training MAE\")\n",
        "plt.title(\"MAE\")\n",
        "plt.xlabel(\"Epochs\")\n",
        "plt.ylabel(\"MAE\")\n",
        "plt.ylim([1,4])\n",
        "plt.legend()"
      ],
      "metadata": {
        "id": "ZleoNnrrmEIw"
      },
      "execution_count": null,
      "outputs": []
    },
    {
      "cell_type": "markdown",
      "source": [
        "#### (Q2-7) [5 points] Evaluate your model on test data. \n",
        "- Report the MAE and MSE score on test data "
      ],
      "metadata": {
        "id": "zvxGxpo5n4R6"
      }
    },
    {
      "cell_type": "code",
      "source": [
        "## use model.evaluate to get MAE and MSE scores."
      ],
      "metadata": {
        "colab": {
          "base_uri": "https://localhost:8080/"
        },
        "id": "GXkglCUrmt_Q",
        "outputId": "838f9c20-85dd-4f2e-8883-0994c942b526"
      },
      "execution_count": null,
      "outputs": [
        {
          "output_type": "stream",
          "name": "stdout",
          "text": [
            "4/4 [==============================] - 0s 4ms/step - loss: 14.7977 - mae: 2.5753\n"
          ]
        }
      ]
    },
    {
      "cell_type": "code",
      "source": [
        "#챗에 쳐본 결과\n",
        "# Assuming your modified model has been defined and trained, you can evaluate it on the test data as follows:\n",
        "\n",
        "# Evaluate the model on the test data\n",
        "test_loss, test_mae, test_mse = model.evaluate(test_data, test_targets)\n",
        "\n",
        "# Print the MAE and MSE scores on the test data\n",
        "print(f'Test MAE: {test_mae:.2f}')\n",
        "print(f'Test MSE: {test_mse:.2f}')"
      ],
      "metadata": {
        "id": "XTfNZqEEiIZl"
      },
      "execution_count": null,
      "outputs": []
    },
    {
      "cell_type": "code",
      "metadata": {
        "id": "DSHyXp3nzOuI"
      },
      "source": [],
      "execution_count": null,
      "outputs": []
    }
  ]
}