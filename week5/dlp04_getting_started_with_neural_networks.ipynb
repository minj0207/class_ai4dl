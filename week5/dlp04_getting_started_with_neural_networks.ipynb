{
  "cells": [
    {
      "cell_type": "markdown",
      "metadata": {
        "id": "7k9Ls1WlH8J9"
      },
      "source": [
        "# 4장 신경망 활용: 분류와 회귀"
      ]
    },
    {
      "cell_type": "markdown",
      "metadata": {
        "id": "M_3HP1KbH8J-"
      },
      "source": [
        "**감사말**: 프랑소와 숄레의 [Deep Learning with Python, Second Edition](https://www.manning.com/books/deep-learning-with-python-second-edition?a_aid=keras&a_bid=76564dff) 4장에 사용된 코드에 대한 설명을 담고 있으며 텐서플로우 2.6 버전에서 작성되었습니다. 소스코드를 공개한 저자에게 감사드립니다.\n",
        "\n",
        "**tensorflow 버전과 GPU 확인**\n",
        "- 구글 코랩 설정: '런타임 -> 런타임 유형 변경' 메뉴에서 GPU 지정 후 아래 명령어 실행 결과 확인\n",
        "\n",
        "    ```\n",
        "    !nvidia-smi\n",
        "    ```\n",
        "\n",
        "- 사용되는 tensorflow 버전 확인\n",
        "\n",
        "    ```python\n",
        "    import tensorflow as tf\n",
        "    tf.__version__\n",
        "    ```\n",
        "- tensorflow가 GPU를 사용하는지 여부 확인\n",
        "\n",
        "    ```python\n",
        "    tf.config.list_physical_devices('GPU')\n",
        "    ```"
      ]
    },
    {
      "cell_type": "markdown",
      "metadata": {
        "id": "85dicjRUH8J_"
      },
      "source": [
        "## 주요 내용"
      ]
    },
    {
      "cell_type": "markdown",
      "metadata": {
        "id": "TGA5rXWQH8J_"
      },
      "source": [
        "- 머신러닝 실전 예제: 분류와 회귀\n",
        "    - 이항 분류: IMDB 영화 리뷰 데이터셋\n",
        "    - 다중 클래스 분류: 로이터 통신 기사 데이터셋\n",
        "    - 회귀: 보스턴 시 주택가격 데이터셋"
      ]
    },
    {
      "cell_type": "markdown",
      "metadata": {
        "id": "4o16X5O3H8J_"
      },
      "source": [
        "## 4.1 영화 리뷰 분류: 이항 분류"
      ]
    },
    {
      "cell_type": "markdown",
      "metadata": {
        "id": "sOnmlPRFH8KA"
      },
      "source": [
        "영화 리뷰가 긍정적인지 부정적인지를 판단하는 이항 분류 모델을 구성한다."
      ]
    },
    {
      "cell_type": "markdown",
      "metadata": {
        "id": "86K4PueWH8KA"
      },
      "source": [
        "### IMDB 데이터셋\n",
        "\n",
        "- 크기: 50,000\n",
        "    - 긍정 리뷰: 25,000\n",
        "    - 부정 리뷰: 25,000"
      ]
    },
    {
      "cell_type": "markdown",
      "metadata": {
        "id": "wIBcKzeVH8KA"
      },
      "source": [
        "**IMDB 데이터셋 불러오기**"
      ]
    },
    {
      "cell_type": "markdown",
      "metadata": {
        "id": "hwtz-PqrH8KA"
      },
      "source": [
        "- 케라스의 `imdb` 모듈의 `load_data()` 함수로 데이터 적재\n",
        "    - 훈련셋와 테스트셋로 분류됨.\n",
        "- `num_words=10000`: 가장 많이 사용되는 10,000개의 단어로만 구성된 리뷰를 불러오도록 지정\n",
        "- 원래 총 88,585개의 단어가 사용되지만 나머지는 어쩌다 한 번 하나의 리뷰에서 사용되어 클래스 분류에 거의 도움되지 않음."
      ]
    },
    {
      "cell_type": "code",
      "execution_count": null,
      "metadata": {
        "id": "xK5XlHqQH8KA"
      },
      "outputs": [],
      "source": [
        "from tensorflow.keras.datasets import imdb\n",
        "\n",
        "(train_data, train_labels), (test_data, test_labels) = imdb.load_data(num_words=10000)"
      ]
    },
    {
      "cell_type": "markdown",
      "metadata": {
        "id": "L74lHcj0H8KB"
      },
      "source": [
        "훈련셋, 테스트셋의 크기 모두 25,000이다."
      ]
    },
    {
      "cell_type": "code",
      "execution_count": null,
      "metadata": {
        "id": "AAH54h5XH8KB",
        "outputId": "16eb7004-180d-4384-8299-99a38ded3185"
      },
      "outputs": [
        {
          "data": {
            "text/plain": [
              "25000"
            ]
          },
          "execution_count": 2,
          "metadata": {},
          "output_type": "execute_result"
        }
      ],
      "source": [
        "len(train_data)"
      ]
    },
    {
      "cell_type": "code",
      "execution_count": null,
      "metadata": {
        "id": "mHlK-Co3H8KB",
        "outputId": "ab323153-f5a1-43e1-dfc1-8b21228c3bf0"
      },
      "outputs": [
        {
          "data": {
            "text/plain": [
              "25000"
            ]
          },
          "execution_count": 3,
          "metadata": {},
          "output_type": "execute_result"
        }
      ],
      "source": [
        "len(test_data)"
      ]
    },
    {
      "cell_type": "markdown",
      "metadata": {
        "id": "7llEfRbaH8KC"
      },
      "source": [
        "각 샘플은 `num_words=10000`에 의해 1~9999 사이의 정수로 이루어진 리스트이다. \n",
        "최솟값은 1, 최댓값은 9999임은 아래와 같이 확인한다."
      ]
    },
    {
      "cell_type": "code",
      "execution_count": null,
      "metadata": {
        "id": "ifHPOfXJH8KC",
        "outputId": "8c4b6e0c-d6e6-4963-bfe2-81fc52175d9a"
      },
      "outputs": [
        {
          "data": {
            "text/plain": [
              "1"
            ]
          },
          "execution_count": 4,
          "metadata": {},
          "output_type": "execute_result"
        }
      ],
      "source": [
        "min([min(sequence) for sequence in train_data])"
      ]
    },
    {
      "cell_type": "code",
      "execution_count": null,
      "metadata": {
        "id": "N8_4ogjFH8KC",
        "outputId": "7359c61e-b0fd-44ba-f63f-91a3f527cfb9"
      },
      "outputs": [
        {
          "data": {
            "text/plain": [
              "9999"
            ]
          },
          "execution_count": 5,
          "metadata": {},
          "output_type": "execute_result"
        }
      ],
      "source": [
        "max([max(sequence) for sequence in train_data])"
      ]
    },
    {
      "cell_type": "markdown",
      "metadata": {
        "id": "myRH4vPeH8KC"
      },
      "source": [
        "샘플들의 크기는 서로 다르다."
      ]
    },
    {
      "cell_type": "code",
      "execution_count": null,
      "metadata": {
        "id": "TzCkZ3X8H8KC",
        "outputId": "d82292e0-bce3-48ab-f0c6-75cea8aac918"
      },
      "outputs": [
        {
          "data": {
            "text/plain": [
              "218"
            ]
          },
          "execution_count": 6,
          "metadata": {},
          "output_type": "execute_result"
        }
      ],
      "source": [
        "len(train_data[0])"
      ]
    },
    {
      "cell_type": "code",
      "execution_count": null,
      "metadata": {
        "id": "J0J9HcXGH8KC",
        "outputId": "b66d16c1-8300-46ad-bc6b-bf880136d638"
      },
      "outputs": [
        {
          "data": {
            "text/plain": [
              "189"
            ]
          },
          "execution_count": 7,
          "metadata": {},
          "output_type": "execute_result"
        }
      ],
      "source": [
        "len(train_data[1])"
      ]
    },
    {
      "cell_type": "markdown",
      "metadata": {
        "id": "bSH_pED8H8KC"
      },
      "source": [
        "0번 샘플의 처음 10개 값은 다음과 같다."
      ]
    },
    {
      "cell_type": "code",
      "execution_count": null,
      "metadata": {
        "id": "HKOZezUCH8KC",
        "outputId": "449d2fcf-736b-49e4-9935-cc5eb3df47f9"
      },
      "outputs": [
        {
          "data": {
            "text/plain": [
              "[1, 14, 22, 16, 43, 530, 973, 1622, 1385, 65]"
            ]
          },
          "execution_count": 8,
          "metadata": {},
          "output_type": "execute_result"
        }
      ],
      "source": [
        "train_data[0][:10]"
      ]
    },
    {
      "cell_type": "markdown",
      "metadata": {
        "id": "UU9vaZJJH8KD"
      },
      "source": [
        "각 샘플의 레이블은 0(부정) 또는 1(긍정)이다."
      ]
    },
    {
      "cell_type": "code",
      "execution_count": null,
      "metadata": {
        "id": "F2MnAM4lH8KD",
        "outputId": "9da7e906-84b9-4f3c-942b-edfc881f7cc3"
      },
      "outputs": [
        {
          "data": {
            "text/plain": [
              "1"
            ]
          },
          "execution_count": 9,
          "metadata": {},
          "output_type": "execute_result"
        }
      ],
      "source": [
        "train_labels[0]"
      ]
    },
    {
      "cell_type": "code",
      "execution_count": null,
      "metadata": {
        "id": "aGoy0sOkH8KD",
        "outputId": "6c76b7b1-e419-49de-988f-83e9b0313bba"
      },
      "outputs": [
        {
          "data": {
            "text/plain": [
              "0"
            ]
          },
          "execution_count": 10,
          "metadata": {},
          "output_type": "execute_result"
        }
      ],
      "source": [
        "test_labels[0]"
      ]
    },
    {
      "cell_type": "markdown",
      "metadata": {
        "id": "35lOnIvAH8KD"
      },
      "source": [
        "**리뷰 내용 확인하기**\n",
        "\n",
        "*주의사항: 모델 훈련을 위해 반드시 필요한 사항은 아님!*"
      ]
    },
    {
      "cell_type": "markdown",
      "metadata": {
        "id": "IMTF8M_SH8KD"
      },
      "source": [
        "- 정수와 단어 사이의 관계를 담은 사전 객체 가져오기"
      ]
    },
    {
      "cell_type": "code",
      "execution_count": null,
      "metadata": {
        "id": "HnXZ8zKVH8KD"
      },
      "outputs": [],
      "source": [
        "word_index = imdb.get_word_index()"
      ]
    },
    {
      "cell_type": "markdown",
      "metadata": {
        "id": "UK3XBF0UH8KD"
      },
      "source": [
        "`word_index`에 포함된 10개 항목을 확인하면 다음과 같다."
      ]
    },
    {
      "cell_type": "code",
      "execution_count": null,
      "metadata": {
        "id": "dEv3TQvHH8KD",
        "outputId": "c5966091-c60b-457b-8517-a6bc0a860b0e"
      },
      "outputs": [
        {
          "name": "stdout",
          "output_type": "stream",
          "text": [
            "('fawn', 34701)\n",
            "('tsukino', 52006)\n",
            "('nunnery', 52007)\n",
            "('sonja', 16816)\n",
            "('vani', 63951)\n",
            "('woods', 1408)\n",
            "('spiders', 16115)\n",
            "('hanging', 2345)\n",
            "('woody', 2289)\n",
            "('trawling', 52008)\n"
          ]
        }
      ],
      "source": [
        "for item in list(word_index.items())[:10]:\n",
        "    print(item)"
      ]
    },
    {
      "cell_type": "code",
      "execution_count": null,
      "metadata": {
        "id": "-GnWNDCyH8KE"
      },
      "outputs": [],
      "source": [
        "reverse_word_index = dict([(value, key) for (key, value) in word_index.items()])"
      ]
    },
    {
      "cell_type": "markdown",
      "metadata": {
        "id": "wd4nySmyH8KE"
      },
      "source": [
        "`reverse_word_index`에 포함된 10개 항목을 확인하면 다음과 같다."
      ]
    },
    {
      "cell_type": "code",
      "execution_count": null,
      "metadata": {
        "id": "TNsU6LFEH8KE",
        "outputId": "51748aa6-4a3f-4d69-8840-c00c1f7a1812"
      },
      "outputs": [
        {
          "name": "stdout",
          "output_type": "stream",
          "text": [
            "(34701, 'fawn')\n",
            "(52006, 'tsukino')\n",
            "(52007, 'nunnery')\n",
            "(16816, 'sonja')\n",
            "(63951, 'vani')\n",
            "(1408, 'woods')\n",
            "(16115, 'spiders')\n",
            "(2345, 'hanging')\n",
            "(2289, 'woody')\n",
            "(52008, 'trawling')\n"
          ]
        }
      ],
      "source": [
        "for item in list(reverse_word_index.items())[:10]:\n",
        "    print(item)"
      ]
    },
    {
      "cell_type": "markdown",
      "metadata": {
        "id": "pXnIQFooH8KE"
      },
      "source": [
        "첫째 리뷰 내용을 아래와 같이 확인할 수 있다.\n",
        "\n",
        "- 단어 인덱스에서 3을 빼야 함. \n",
        "- 인덱스 0, 1, 2는 각각 여백, 문장 시작, 불분명을 의미함."
      ]
    },
    {
      "cell_type": "code",
      "execution_count": null,
      "metadata": {
        "id": "QqFdEMNNH8KE",
        "outputId": "8f0c363c-1d09-469b-d4f5-ee212299d5b8"
      },
      "outputs": [
        {
          "data": {
            "text/plain": [
              "\"? this film was just brilliant casting location scenery story direction everyone's really suited the part they played and you could just imagine being there robert ? is an amazing actor and now the same being director ? father came from the same scottish island as myself so i loved the fact there was a real connection with this film the witty remarks throughout the film were great it was just brilliant so much that i bought the film as soon as it was released for ? and would recommend it to everyone to watch and the fly fishing was amazing really cried at the end it was so sad and you know what they say if you cry at a film it must have been good and this definitely was also ? to the two little boy's that played the ? of norman and paul they were just brilliant children are often left out of the ? list i think because the stars that play them all grown up are such a big profile for the whole film but these children are amazing and should be praised for what they have done don't you think the whole story was so lovely because it was true and was someone's life after all that was shared with us all\""
            ]
          },
          "execution_count": 15,
          "metadata": {},
          "output_type": "execute_result"
        }
      ],
      "source": [
        "first_review = train_data[0]\n",
        "\n",
        "decoded_review = \" \".join(\n",
        "    [reverse_word_index.get(i-3, \"?\") for i in first_review])\n",
        "\n",
        "decoded_review"
      ]
    },
    {
      "cell_type": "markdown",
      "metadata": {
        "id": "mtwHQ6m8H8KE"
      },
      "source": [
        "### 데이터 전처리: 벡터화"
      ]
    },
    {
      "cell_type": "markdown",
      "metadata": {
        "id": "DXoiNW_wH8KE"
      },
      "source": [
        "정수들의 리스트, 그것도 길이가 다른 여러 개의 리스트를 신경망의 입력값으로 사용할 수 없다. \n",
        "또한 모든 샘플의 길이를 통일시킨다 하더라도 정수들의 리스트를 직접 신경망 모델의 입력값으로 \n",
        "사용하려면 나중에 다룰 `Embedding` 층(layer)과 같은 전처리 층을 사용해야 한다. \n",
        "여기서는 대신에 **멀티-핫-인코딩**을 이용하여 정수들의 리스트를\n",
        "0과 1로만 이루어진 일정한 길이의 벡터(1차원 어레이)로 변환한다. "
      ]
    },
    {
      "cell_type": "markdown",
      "metadata": {
        "id": "xBP3oT2WH8KE"
      },
      "source": [
        "#### 멀티-핫-인코딩"
      ]
    },
    {
      "cell_type": "markdown",
      "metadata": {
        "id": "oDZFKwJYH8KF"
      },
      "source": [
        "앞서 보았듯이 리뷰 리스트에 사용된 숫자들은 1부터 9999 사이의 값이다.\n",
        "이 정보를 이용하여 리뷰 샘플을 길이가 10,000인 벡터(1차원 어레이)로 변환할 수 있다.\n",
        "\n",
        "- 어레이 길이: 10,000\n",
        "- 항목: 0 또는 1\n",
        "- 리뷰 샘플에 포함된 정수에 해당하는 인덱스의 항목만 1로 지정\n",
        "\n",
        "예를 들어, `[1, 18, 13]`은 길이가 10,000인 1차원 어레이(벡터)로 변환되는데\n",
        "1번, 18번, 13번 인덱스의 항목만 1이고 나머지는 0으로 채워진다.\n",
        "이러한 변환을 **멀티-핫-인코딩**(multi-hot-encoding)이라 부른다.\n",
        "다음 `vectorize_sequences()` 함수는 앞서 설명한 멀티-핫-인코딩을 \n",
        "모든 주어진 샘플에 대해 실행한다.\n",
        "\n",
        "이처럼 각 샘플을 지정된 크기의 1차원 어레이로 변환하는 과정을 **벡터화**(vectorization)이라 한다."
      ]
    },
    {
      "cell_type": "code",
      "execution_count": null,
      "metadata": {
        "id": "PVxld0yHH8KF"
      },
      "outputs": [],
      "source": [
        "import numpy as np\n",
        "\n",
        "def vectorize_sequences(sequences, dimension=10000):\n",
        "    results = np.zeros((len(sequences), dimension))\n",
        "    \n",
        "    for i, sequence in enumerate(sequences):    # 모든 샘플에 대한 멀티-핫-인코딩\n",
        "        for j in sequence:\n",
        "            results[i, j] = 1.\n",
        "    return results"
      ]
    },
    {
      "cell_type": "markdown",
      "metadata": {
        "id": "K7O4aXvaH8KF"
      },
      "source": [
        "이제 훈련셋와 테스트셋를 벡터화한다."
      ]
    },
    {
      "cell_type": "code",
      "execution_count": null,
      "metadata": {
        "id": "JFu6q2sJH8KF"
      },
      "outputs": [],
      "source": [
        "x_train = vectorize_sequences(train_data).astype(\"float32\")\n",
        "x_test = vectorize_sequences(test_data).astype(\"float32\")"
      ]
    },
    {
      "cell_type": "markdown",
      "metadata": {
        "id": "wLNmZYLSH8KF"
      },
      "source": [
        "첫째 훈련 샘플의 변환 결과는 다음과 같다."
      ]
    },
    {
      "cell_type": "code",
      "execution_count": null,
      "metadata": {
        "id": "bXAUo4-wH8KF",
        "outputId": "fce7e792-1e97-4789-c93b-d12d980e350e"
      },
      "outputs": [
        {
          "data": {
            "text/plain": [
              "array([0., 1., 1., ..., 0., 0., 0.], dtype=float32)"
            ]
          },
          "execution_count": 18,
          "metadata": {},
          "output_type": "execute_result"
        }
      ],
      "source": [
        "x_train[0]"
      ]
    },
    {
      "cell_type": "markdown",
      "metadata": {
        "id": "5W3THPVmH8KF"
      },
      "source": [
        "레이블 또한 정수 자료형에서 `float32` 자료형으로 변환해서 자료형을 일치시킨다."
      ]
    },
    {
      "cell_type": "code",
      "execution_count": null,
      "metadata": {
        "id": "XHisvdfSH8KF"
      },
      "outputs": [],
      "source": [
        "y_train = np.asarray(train_labels).astype(\"float32\")\n",
        "y_test = np.asarray(test_labels).astype(\"float32\")"
      ]
    },
    {
      "cell_type": "markdown",
      "metadata": {
        "id": "u9874W9uH8KG"
      },
      "source": [
        "### 모델 구성"
      ]
    },
    {
      "cell_type": "markdown",
      "metadata": {
        "id": "lGy1kC2ZH8KG"
      },
      "source": [
        "입력 샘플의 특성이 벡터(1차원 어레이)로 주어지고 \n",
        "레이블이 스칼라(하나의 숫자)로 주어졌을 때 \n",
        "밀집층(densely-connected layer)과\n",
        "`Sequential` 모델을 이용하면 성능 좋은 모델을 얻는다. \n",
        "이때 사용하는 활성화 함수는 일반적으로 다음과 같다.\n",
        "\n",
        "- 은닉층의 활성화 함수: 음수를 제거하는 `relu` 함수\n",
        "- 이항 분류 모델의 최상위 층의 활성화 함수: 0과 1사이의 확률값을 계삲하는 `sigmoid` 함수"
      ]
    },
    {
      "cell_type": "markdown",
      "metadata": {
        "id": "zlVcXkdeH8KG"
      },
      "source": [
        "<div align=\"center\"><img src=\"https://raw.githubusercontent.com/codingalzi/dlp/master/slides/images/relu_sigmoid.png\" style=\"width:700px;\"></div>\n",
        "\n",
        "그림 출처: [Deep Learning with Python(Manning MEAP)](https://www.manning.com/books/deep-learning-with-python-second-edition)"
      ]
    },
    {
      "cell_type": "markdown",
      "metadata": {
        "id": "nXu2MmTZH8KG"
      },
      "source": [
        "몇 개의 층을 사용하는가와, 각 층마다 몇 개의 유닛(unit)을 사용하는가를\n",
        "결정해야 하는데 이에 대해서 다음 장에서 자세히 설명한다.\n",
        "여기서는 일단 다음과 같은 구성을 추천한다.\n",
        "\n",
        "- 두 개의 연속된 밀집층\n",
        "- 각각 16개의 유닛\n",
        "\n",
        "**참고**: 이항 분류 모델의 최상위 층은 스칼라 값을 출력하도록 하나의 유닛을 사용하는 \n",
        "`Dense` 밀집층을 사용한다. \n",
        "또한 활성화 함수로 0과 1사이의 확률값을 계삲하는 `sigmoid`를 활성화 함수로 사용한다.\n",
        "그러면 [사이킷런의 로지스틱 회귀(logistic regression) 모델](https://scikit-learn.org/stable/modules/generated/sklearn.linear_model.LogisticRegression.html)처럼 작동한다."
      ]
    },
    {
      "cell_type": "code",
      "execution_count": null,
      "metadata": {
        "id": "RkaijVIfH8KG"
      },
      "outputs": [],
      "source": [
        "from tensorflow import keras\n",
        "from tensorflow.keras import layers\n",
        "\n",
        "model = keras.Sequential([\n",
        "    layers.Dense(16, activation=\"relu\"),\n",
        "    layers.Dense(16, activation=\"relu\"),\n",
        "    layers.Dense(1, activation=\"sigmoid\")\n",
        "])"
      ]
    },
    {
      "cell_type": "markdown",
      "metadata": {
        "id": "sUkR_gQEH8KG"
      },
      "source": [
        "**모델 컴파일링**\n",
        "\n",
        "- 옵티마이저: `\"rmsprop\"`\n",
        "    - 일반적으로 추천되는 옵티마이저\n",
        "- 손실함수: `\"binary_crossentropy\"` (로그 손실)\n",
        "    - 확률 결과에 대한 오차 계산 용도로 최선임.\n",
        "- 평가지표: `\"accuracy\"`\n",
        "    - 분류 모델의 기본적인 평가지표"
      ]
    },
    {
      "cell_type": "code",
      "execution_count": null,
      "metadata": {
        "id": "_mBGpN2gH8KG"
      },
      "outputs": [],
      "source": [
        "model.compile(optimizer=\"rmsprop\",\n",
        "              loss=\"binary_crossentropy\",\n",
        "              metrics=[\"accuracy\"])"
      ]
    },
    {
      "cell_type": "markdown",
      "metadata": {
        "id": "XKpBlfU_H8KG"
      },
      "source": [
        "### 모델 훈련 검증"
      ]
    },
    {
      "cell_type": "markdown",
      "metadata": {
        "id": "VERrl_zlH8KG"
      },
      "source": [
        "훈련 중인 모델을 에포크마다 검증하려면 검증 세트를 따로 지정하면 된다.\n",
        "여기서는 처음 10,000개의 샘플을 검증 세트로 활용한다."
      ]
    },
    {
      "cell_type": "code",
      "execution_count": null,
      "metadata": {
        "id": "sNalznr_H8KG"
      },
      "outputs": [],
      "source": [
        "# 검증 세트\n",
        "x_val = x_train[:10000]\n",
        "y_val = y_train[:10000]\n",
        "\n",
        "# 훈련셋\n",
        "partial_x_train = x_train[10000:]\n",
        "partial_y_train = y_train[10000:]"
      ]
    },
    {
      "cell_type": "markdown",
      "metadata": {
        "id": "ffxVSxgDH8KH"
      },
      "source": [
        "훈련을 시작할 때 `validation_data` 옵션 인자를 지정하면 에포크마다 검증 세트를 이용하여 \n",
        "훈련중인 모델을 평가한다.\n",
        "\n",
        "- 에포크: 20\n",
        "- 배치 크기: 512\n",
        "- `validation_data=(x_val, y_val)`: 검증 세트 지정"
      ]
    },
    {
      "cell_type": "code",
      "execution_count": null,
      "metadata": {
        "id": "8fdyM8saH8KH",
        "outputId": "30f7aff8-1975-4e4f-dd8a-8c35c6e77fa8"
      },
      "outputs": [
        {
          "name": "stdout",
          "output_type": "stream",
          "text": [
            "Epoch 1/20\n",
            "30/30 [==============================] - 1s 23ms/step - loss: 0.5248 - accuracy: 0.7867 - val_loss: 0.4199 - val_accuracy: 0.8421\n",
            "Epoch 2/20\n",
            "30/30 [==============================] - 0s 14ms/step - loss: 0.3199 - accuracy: 0.8997 - val_loss: 0.3450 - val_accuracy: 0.8600\n",
            "Epoch 3/20\n",
            "30/30 [==============================] - 0s 14ms/step - loss: 0.2284 - accuracy: 0.9260 - val_loss: 0.2778 - val_accuracy: 0.8933\n",
            "Epoch 4/20\n",
            "30/30 [==============================] - 0s 14ms/step - loss: 0.1817 - accuracy: 0.9399 - val_loss: 0.2725 - val_accuracy: 0.8897\n",
            "Epoch 5/20\n",
            "30/30 [==============================] - 0s 14ms/step - loss: 0.1458 - accuracy: 0.9549 - val_loss: 0.2945 - val_accuracy: 0.8812\n",
            "Epoch 6/20\n",
            "30/30 [==============================] - 0s 14ms/step - loss: 0.1191 - accuracy: 0.9623 - val_loss: 0.3541 - val_accuracy: 0.8658\n",
            "Epoch 7/20\n",
            "30/30 [==============================] - 0s 14ms/step - loss: 0.0990 - accuracy: 0.9721 - val_loss: 0.3103 - val_accuracy: 0.8824\n",
            "Epoch 8/20\n",
            "30/30 [==============================] - 0s 14ms/step - loss: 0.0827 - accuracy: 0.9761 - val_loss: 0.3414 - val_accuracy: 0.8814\n",
            "Epoch 9/20\n",
            "30/30 [==============================] - 0s 15ms/step - loss: 0.0668 - accuracy: 0.9815 - val_loss: 0.3452 - val_accuracy: 0.8809\n",
            "Epoch 10/20\n",
            "30/30 [==============================] - 0s 14ms/step - loss: 0.0526 - accuracy: 0.9878 - val_loss: 0.3763 - val_accuracy: 0.8783\n",
            "Epoch 11/20\n",
            "30/30 [==============================] - 0s 14ms/step - loss: 0.0444 - accuracy: 0.9889 - val_loss: 0.4313 - val_accuracy: 0.8724\n",
            "Epoch 12/20\n",
            "30/30 [==============================] - 0s 14ms/step - loss: 0.0344 - accuracy: 0.9925 - val_loss: 0.4352 - val_accuracy: 0.8753\n",
            "Epoch 13/20\n",
            "30/30 [==============================] - 0s 14ms/step - loss: 0.0284 - accuracy: 0.9945 - val_loss: 0.4716 - val_accuracy: 0.8709\n",
            "Epoch 14/20\n",
            "30/30 [==============================] - 0s 14ms/step - loss: 0.0216 - accuracy: 0.9966 - val_loss: 0.5030 - val_accuracy: 0.8689\n",
            "Epoch 15/20\n",
            "30/30 [==============================] - 0s 14ms/step - loss: 0.0164 - accuracy: 0.9976 - val_loss: 0.5267 - val_accuracy: 0.8726\n",
            "Epoch 16/20\n",
            "30/30 [==============================] - 0s 14ms/step - loss: 0.0120 - accuracy: 0.9990 - val_loss: 0.5764 - val_accuracy: 0.8641\n",
            "Epoch 17/20\n",
            "30/30 [==============================] - 0s 14ms/step - loss: 0.0111 - accuracy: 0.9986 - val_loss: 0.6000 - val_accuracy: 0.8709\n",
            "Epoch 18/20\n",
            "30/30 [==============================] - 0s 15ms/step - loss: 0.0084 - accuracy: 0.9988 - val_loss: 0.6261 - val_accuracy: 0.8671\n",
            "Epoch 19/20\n",
            "30/30 [==============================] - 0s 14ms/step - loss: 0.0045 - accuracy: 0.9999 - val_loss: 0.6670 - val_accuracy: 0.8657\n",
            "Epoch 20/20\n",
            "30/30 [==============================] - 0s 15ms/step - loss: 0.0072 - accuracy: 0.9987 - val_loss: 0.7000 - val_accuracy: 0.8648\n"
          ]
        }
      ],
      "source": [
        "history = model.fit(partial_x_train,\n",
        "                    partial_y_train,\n",
        "                    epochs=20,\n",
        "                    batch_size=512,\n",
        "                    validation_data=(x_val, y_val))"
      ]
    },
    {
      "cell_type": "markdown",
      "metadata": {
        "id": "i55PoB4PH8KH"
      },
      "source": [
        "#### `History` 객체 활용"
      ]
    },
    {
      "cell_type": "markdown",
      "metadata": {
        "id": "NWhCEQjxH8KH"
      },
      "source": [
        "`fit()` 메서드가 반환하는 객체는 `Callback` 클래스를 상속하는\n",
        "`History` 클래스의 인스턴이며, 케라스의 모든 모델 훈련과정 중에 발생하는 \n",
        "다양한 정보를 저장한다.\n",
        "\n",
        "**참고**: 콜백(`Callback`) 클래스에 대해서는 나중에 자세히 살펴볼 예정이다."
      ]
    },
    {
      "cell_type": "markdown",
      "metadata": {
        "id": "HswZoJboH8KH"
      },
      "source": [
        "- `params` 속성: 모델 훈련에 사용된 파라미터 저장"
      ]
    },
    {
      "cell_type": "code",
      "execution_count": null,
      "metadata": {
        "id": "OLIZm0g_H8KH",
        "outputId": "72b83eae-0ddb-48ac-9153-c27ba19c2625"
      },
      "outputs": [
        {
          "data": {
            "text/plain": [
              "{'verbose': 1, 'epochs': 20, 'steps': 30}"
            ]
          },
          "execution_count": 24,
          "metadata": {},
          "output_type": "execute_result"
        }
      ],
      "source": [
        "history.params"
      ]
    },
    {
      "cell_type": "markdown",
      "metadata": {
        "id": "PHNeKhPpH8KH"
      },
      "source": [
        "- `history` 속성: 평가지표를 사전 자료형으로 저장"
      ]
    },
    {
      "cell_type": "code",
      "execution_count": null,
      "metadata": {
        "id": "cxcIi_rYH8KH",
        "outputId": "6b596e62-983a-4d17-9f79-e0eb32ab1cda"
      },
      "outputs": [
        {
          "data": {
            "text/plain": [
              "dict_keys(['loss', 'accuracy', 'val_loss', 'val_accuracy'])"
            ]
          },
          "execution_count": 25,
          "metadata": {},
          "output_type": "execute_result"
        }
      ],
      "source": [
        "history_dict = history.history\n",
        "\n",
        "history_dict.keys()"
      ]
    },
    {
      "cell_type": "markdown",
      "metadata": {
        "id": "6isabbWbH8KI"
      },
      "source": [
        "예를 들어, `history` 속성에 저장된 정보를 이용하여 \n",
        "훈련셋와 검증 세트에 대한 에포크별 손실값과 정확도의 변화를 그래프로 그릴 수 있다.\n",
        "\n",
        "* 훈련셋와 검증 세트에 대한 에포크별 손실값의 변화\n",
        "    - 훈련셋: 손실값 계속 감소\n",
        "    - 검증 세트: 다섯째 에포크 전후 정체 및 상승. 과대적합(overfitting) 발생."
      ]
    },
    {
      "cell_type": "code",
      "execution_count": null,
      "metadata": {
        "id": "JQ6eIX-xH8KI",
        "outputId": "9abc98fc-92fd-408e-95d3-7f10696efee8"
      },
      "outputs": [
        {
          "data": {
            "image/png": "[encoded data removed]",
            "text/plain": [
              "<Figure size 432x288 with 1 Axes>"
            ]
          },
          "metadata": {
            "needs_background": "light"
          },
          "output_type": "display_data"
        }
      ],
      "source": [
        "import matplotlib.pyplot as plt\n",
        "\n",
        "history_dict = history.history\n",
        "loss_values = history_dict[\"loss\"]\n",
        "val_loss_values = history_dict[\"val_loss\"]\n",
        "\n",
        "epochs = range(1, len(loss_values) + 1)\n",
        "\n",
        "plt.plot(epochs, loss_values, \"bo\", label=\"Training loss\")\n",
        "plt.plot(epochs, val_loss_values, \"b\", label=\"Validation loss\")\n",
        "\n",
        "plt.title(\"Training and validation loss\")\n",
        "plt.xlabel(\"Epochs\")\n",
        "plt.ylabel(\"Loss\")\n",
        "plt.legend()\n",
        "plt.show()"
      ]
    },
    {
      "cell_type": "markdown",
      "metadata": {
        "id": "YMj6_bC7H8KI"
      },
      "source": [
        "* 훈련셋와 검증 세트에 대한 에포크별 정확도의 변화\n",
        "    - 훈련셋: 정확도 계속 증가\n",
        "    - 검증 세트: 다섯째 에포크 전후 정체 및 감소. 과대적합(overfitting) 발생."
      ]
    },
    {
      "cell_type": "code",
      "execution_count": null,
      "metadata": {
        "id": "9ridKCxSH8KI",
        "outputId": "0a92a789-743d-4b3f-87ef-1c7023381ee2"
      },
      "outputs": [
        {
          "data": {
            "image/png": "[encoded data removed]",
            "text/plain": [
              "<Figure size 432x288 with 1 Axes>"
            ]
          },
          "metadata": {
            "needs_background": "light"
          },
          "output_type": "display_data"
        }
      ],
      "source": [
        "plt.clf()    # 이전 이미지 삭제\n",
        "\n",
        "acc = history_dict[\"accuracy\"]\n",
        "val_acc = history_dict[\"val_accuracy\"]\n",
        "\n",
        "plt.plot(epochs, acc, \"bo\", label=\"Training acc\")\n",
        "plt.plot(epochs, val_acc, \"b\", label=\"Validation acc\")\n",
        "\n",
        "plt.title(\"Training and validation accuracy\")\n",
        "plt.xlabel(\"Epochs\")\n",
        "plt.ylabel(\"Accuracy\")\n",
        "plt.legend()\n",
        "plt.show()"
      ]
    },
    {
      "cell_type": "markdown",
      "metadata": {
        "id": "ky7EXFnzH8KI"
      },
      "source": [
        "#### 과대적합\n",
        "\n",
        "**과대적합**(overfitting)은 모델이 훈련셋에 익숙해진다는 의미이다.\n",
        "시험에 비유하면 연습문제의 답을 외워버리는 것을 의미한다.\n",
        "과대적합을 방지하기 위한 다양한 기법은 다음 장(chapter)에서 다룬다.\n",
        "위 문제의 경우 넷째 또는 다섯째 에포크 정도만 훈련 반복을 진행하면 된다.\n",
        "아래 코드는 다시 처음부터 네 번의 에포크만을 사용하여 훈련한 결과를 보여준다."
      ]
    },
    {
      "cell_type": "code",
      "execution_count": null,
      "metadata": {
        "id": "9k8B_CUxH8KI",
        "outputId": "eb0445d3-165c-45ec-e812-a7ddd80a4cb2"
      },
      "outputs": [
        {
          "name": "stdout",
          "output_type": "stream",
          "text": [
            "Epoch 1/4\n",
            "49/49 [==============================] - 1s 8ms/step - loss: 0.4426 - accuracy: 0.8233\n",
            "Epoch 2/4\n",
            "49/49 [==============================] - 0s 8ms/step - loss: 0.2526 - accuracy: 0.9104\n",
            "Epoch 3/4\n",
            "49/49 [==============================] - 0s 9ms/step - loss: 0.1966 - accuracy: 0.9282\n",
            "Epoch 4/4\n",
            "49/49 [==============================] - 0s 8ms/step - loss: 0.1641 - accuracy: 0.9397\n"
          ]
        },
        {
          "data": {
            "text/plain": [
              "<keras.callbacks.History at 0x2cf3cb63ac0>"
            ]
          },
          "execution_count": 28,
          "metadata": {},
          "output_type": "execute_result"
        }
      ],
      "source": [
        "model = keras.Sequential([\n",
        "    layers.Dense(16, activation=\"relu\"),\n",
        "    layers.Dense(16, activation=\"relu\"),\n",
        "    layers.Dense(1, activation=\"sigmoid\")\n",
        "])\n",
        "model.compile(optimizer=\"rmsprop\",\n",
        "              loss=\"binary_crossentropy\",\n",
        "              metrics=[\"accuracy\"])\n",
        "model.fit(x_train, y_train, epochs=4, batch_size=512)"
      ]
    },
    {
      "cell_type": "markdown",
      "metadata": {
        "id": "4g7cNSM8H8KI"
      },
      "source": [
        "테스트셋에 대한 성능은 아래와 같이 88% 정도의 정확도를 보인다.\n",
        "앞으로 보다 좋은 성능의 모델을 살펴볼 것이며, 현존하는 가장 좋은 모델의 정확도는 95% 정도이다."
      ]
    },
    {
      "cell_type": "code",
      "execution_count": null,
      "metadata": {
        "id": "4IPbv-0OH8KI",
        "outputId": "725ddda0-fda6-416d-e041-202ec2e2df3a"
      },
      "outputs": [
        {
          "name": "stdout",
          "output_type": "stream",
          "text": [
            "782/782 [==============================] - 1s 2ms/step - loss: 0.3139 - accuracy: 0.8771\n"
          ]
        },
        {
          "data": {
            "text/plain": [
              "[0.3139097988605499, 0.8770800232887268]"
            ]
          },
          "execution_count": 29,
          "metadata": {},
          "output_type": "execute_result"
        }
      ],
      "source": [
        "results = model.evaluate(x_test, y_test)\n",
        "results"
      ]
    },
    {
      "cell_type": "markdown",
      "metadata": {
        "id": "K5DIqVYwH8KI"
      },
      "source": [
        "### 모델 활용\n",
        "\n",
        "훈련된 모델을 활용하려면 `predict()` 메서드를 이용한다.\n",
        "\n",
        "- 0,99 이상 또는 0.01 이하의 경우: 매우 확실한 예측\n",
        "- 0.4 ~ 0.6: 불확실한 예측"
      ]
    },
    {
      "cell_type": "code",
      "execution_count": null,
      "metadata": {
        "id": "LPB03i1NH8KJ",
        "outputId": "d7c41dde-5821-409f-da34-269bfb209f58"
      },
      "outputs": [
        {
          "data": {
            "text/plain": [
              "array([[0.25440323],\n",
              "       [0.9999424 ],\n",
              "       [0.95840394],\n",
              "       ...,\n",
              "       [0.17153321],\n",
              "       [0.10725482],\n",
              "       [0.6672551 ]], dtype=float32)"
            ]
          },
          "execution_count": 30,
          "metadata": {},
          "output_type": "execute_result"
        }
      ],
      "source": [
        "model.predict(x_test)"
      ]
    },
    {
      "cell_type": "markdown",
      "metadata": {
        "id": "t5GwX8ytH8KJ"
      },
      "source": [
        "아래처럼 데이터셋이 클 경우 배치 단위로 묶어서 예측할 수도 있다."
      ]
    },
    {
      "cell_type": "code",
      "execution_count": null,
      "metadata": {
        "id": "ZfnSMJ2YH8KJ",
        "outputId": "d4b122d0-6161-4234-c9c9-8310dd37e456"
      },
      "outputs": [
        {
          "data": {
            "text/plain": [
              "array([[0.25440323],\n",
              "       [0.9999424 ],\n",
              "       [0.95840394],\n",
              "       ...,\n",
              "       [0.17153329],\n",
              "       [0.10725482],\n",
              "       [0.6672551 ]], dtype=float32)"
            ]
          },
          "execution_count": 31,
          "metadata": {},
          "output_type": "execute_result"
        }
      ],
      "source": [
        "model.predict(x_test, batch_size=512)"
      ]
    },
    {
      "cell_type": "markdown",
      "metadata": {
        "id": "WcHo5h-mH8KJ"
      },
      "source": [
        "### 연습문제"
      ]
    },
    {
      "cell_type": "markdown",
      "metadata": {
        "id": "ySMseHxbH8KJ"
      },
      "source": [
        "1. 두 개의 은닉층 대신 1 개 또는 3 개의 은닉층을 사용할 때 \n",
        "    검증 세트와 테스트셋에 대한 평가지표의 변화를 확인하라.\n",
        "1. 각 은닉층에 사용된 유닛(unit)의 수를 8, 32, 64 등으로 변화시킨 후 \n",
        "    검증 세트와 테스트셋에 대한 평가지표의 변화를 확인하라.\n",
        "1. `binary_crossentropy` 대신 `mse`를 손실함수로 지정한 후 \n",
        "    검증 세트와 테스트셋에 대한 평가지표의 변화를 확인하라.\n",
        "1. `relu` 함수 대신 이전에 많이 사용됐었던 `tanh` 함수를 손실함수로 지정한 후 \n",
        "    검증 세트와 테스트셋에 대한 평가지표의 변화를 확인하라."
      ]
    },
    {
      "cell_type": "markdown",
      "metadata": {
        "id": "z2XDFH0OH8KJ"
      },
      "source": [
        "## 4.2 뉴스 기사 분류: 다중 클래스 분류"
      ]
    },
    {
      "cell_type": "markdown",
      "metadata": {
        "id": "ROaorpThH8KJ"
      },
      "source": [
        "### 로이터(Reuter) 데이터셋"
      ]
    },
    {
      "cell_type": "markdown",
      "metadata": {
        "id": "__BDQ9hjH8KJ"
      },
      "source": [
        "- 1986년 로이터 통신사의 짧은 기사 모음\n",
        "- 케라스의 `reuters` 모듈의 `load_data()` 함수로 데이터 적재\n",
        "    - 훈련셋와 테스트셋로 분류됨.\n",
        "- 주제: 총 46개\n",
        "- 주제에 따른 기사 수 다름. 하지만 주제 당 최소 10개의 기사가 훈련셋에 포함됨."
      ]
    },
    {
      "cell_type": "markdown",
      "metadata": {
        "id": "OnnesHrNH8KJ"
      },
      "source": [
        "#### 데이터셋 적재\n",
        "\n",
        "- `num_words=10000`: 10,000등 이내의 단어만 대상으로 함.\n",
        "- 데이터셋 크기: 11, 228\n",
        "    - 훈련셋 크기: 8,982\n",
        "    - 테스트셋 크기: 2,246"
      ]
    },
    {
      "cell_type": "code",
      "execution_count": null,
      "metadata": {
        "id": "Qu2iW6UfH8KJ"
      },
      "outputs": [],
      "source": [
        "from tensorflow.keras.datasets import reuters\n",
        "\n",
        "(train_data, train_labels), (test_data, test_labels) = reuters.load_data(num_words=10000)"
      ]
    },
    {
      "cell_type": "code",
      "execution_count": null,
      "metadata": {
        "id": "9MtyKC5aH8KK",
        "outputId": "81a17df7-f5f0-4dab-f20b-046ca3056b75"
      },
      "outputs": [
        {
          "data": {
            "text/plain": [
              "8982"
            ]
          },
          "execution_count": 33,
          "metadata": {},
          "output_type": "execute_result"
        }
      ],
      "source": [
        "len(train_data)"
      ]
    },
    {
      "cell_type": "code",
      "execution_count": null,
      "metadata": {
        "id": "YsYgNyGPH8KK",
        "outputId": "f29fe57a-e368-4a5c-9185-499c0e30724b"
      },
      "outputs": [
        {
          "data": {
            "text/plain": [
              "2246"
            ]
          },
          "execution_count": 34,
          "metadata": {},
          "output_type": "execute_result"
        }
      ],
      "source": [
        "len(test_data)"
      ]
    },
    {
      "cell_type": "markdown",
      "metadata": {
        "id": "-wZwiUgzH8KK"
      },
      "source": [
        "주제별 기사 수가 다르다.\n",
        "훈련셋의 타깃에 사용된 값들의 빈도수를 확인하면 다음과 같다."
      ]
    },
    {
      "cell_type": "code",
      "execution_count": null,
      "metadata": {
        "id": "zLtF6sjDH8KK",
        "outputId": "ee5420dd-78c1-4a03-e908-1f8e3bd57248"
      },
      "outputs": [
        {
          "data": {
            "text/plain": [
              "Counter({3: 3159,\n",
              "         4: 1949,\n",
              "         16: 444,\n",
              "         19: 549,\n",
              "         8: 139,\n",
              "         21: 100,\n",
              "         11: 390,\n",
              "         1: 432,\n",
              "         13: 172,\n",
              "         20: 269,\n",
              "         18: 66,\n",
              "         25: 92,\n",
              "         35: 10,\n",
              "         9: 101,\n",
              "         38: 19,\n",
              "         10: 124,\n",
              "         28: 48,\n",
              "         2: 74,\n",
              "         6: 48,\n",
              "         12: 49,\n",
              "         7: 16,\n",
              "         30: 45,\n",
              "         34: 50,\n",
              "         15: 20,\n",
              "         14: 26,\n",
              "         32: 32,\n",
              "         41: 30,\n",
              "         40: 36,\n",
              "         45: 18,\n",
              "         23: 41,\n",
              "         42: 13,\n",
              "         26: 24,\n",
              "         24: 62,\n",
              "         37: 19,\n",
              "         27: 15,\n",
              "         31: 39,\n",
              "         39: 24,\n",
              "         0: 55,\n",
              "         22: 15,\n",
              "         33: 11,\n",
              "         36: 49,\n",
              "         17: 39,\n",
              "         43: 21,\n",
              "         29: 19,\n",
              "         44: 12,\n",
              "         5: 17})"
            ]
          },
          "execution_count": 35,
          "metadata": {},
          "output_type": "execute_result"
        }
      ],
      "source": [
        "from collections import Counter\n",
        "\n",
        "target_counter = Counter(train_labels)\n",
        "target_counter"
      ]
    },
    {
      "cell_type": "markdown",
      "metadata": {
        "id": "zxzFcbzQH8KK"
      },
      "source": [
        "가장 많이 언급된 주제는 총 3159번,\n",
        "자장 적게 언급딘 주제는 총 10번 기사로 작성되었다."
      ]
    },
    {
      "cell_type": "code",
      "execution_count": null,
      "metadata": {
        "id": "IYTYr5H2H8KK",
        "outputId": "49cd34d8-8b97-485d-8d24-06f1bd8aaa73"
      },
      "outputs": [
        {
          "name": "stdout",
          "output_type": "stream",
          "text": [
            "최대 기사 수: 3159\n",
            "최소 기사 수: 10\n"
          ]
        }
      ],
      "source": [
        "print(f\"최대 기사 수: {max(target_counter.values())}\")\n",
        "print(f\"최소 기사 수: {min(target_counter.values())}\")"
      ]
    },
    {
      "cell_type": "markdown",
      "metadata": {
        "id": "GfivUwwCH8KK"
      },
      "source": [
        "각 샘플은 정수들의 리스트이다."
      ]
    },
    {
      "cell_type": "code",
      "execution_count": null,
      "metadata": {
        "id": "z91rhAb5H8KK",
        "outputId": "0c2fb0dc-6651-430c-a129-2f628a355500"
      },
      "outputs": [
        {
          "data": {
            "text/plain": [
              "[1,\n",
              " 245,\n",
              " 273,\n",
              " 207,\n",
              " 156,\n",
              " 53,\n",
              " 74,\n",
              " 160,\n",
              " 26,\n",
              " 14,\n",
              " 46,\n",
              " 296,\n",
              " 26,\n",
              " 39,\n",
              " 74,\n",
              " 2979,\n",
              " 3554,\n",
              " 14,\n",
              " 46,\n",
              " 4689,\n",
              " 4329,\n",
              " 86,\n",
              " 61,\n",
              " 3499,\n",
              " 4795,\n",
              " 14,\n",
              " 61,\n",
              " 451,\n",
              " 4329,\n",
              " 17,\n",
              " 12]"
            ]
          },
          "execution_count": 37,
          "metadata": {},
          "output_type": "execute_result"
        }
      ],
      "source": [
        "train_data[10]"
      ]
    },
    {
      "cell_type": "markdown",
      "metadata": {
        "id": "Hkgg0S9vH8KK"
      },
      "source": [
        "각 샘플 리스트의 길이가 일반적으로 다르다."
      ]
    },
    {
      "cell_type": "code",
      "execution_count": null,
      "metadata": {
        "id": "kiUxqwxpH8KK",
        "outputId": "83cbc6e9-834d-4ab7-dc43-07c13f05aa0e"
      },
      "outputs": [
        {
          "data": {
            "text/plain": [
              "31"
            ]
          },
          "execution_count": 38,
          "metadata": {},
          "output_type": "execute_result"
        }
      ],
      "source": [
        "len(train_data[10])"
      ]
    },
    {
      "cell_type": "code",
      "execution_count": null,
      "metadata": {
        "id": "WYf9LwpJH8KL",
        "outputId": "11788946-60c0-4be6-8c31-4a0bc4e7ade5"
      },
      "outputs": [
        {
          "data": {
            "text/plain": [
              "59"
            ]
          },
          "execution_count": 39,
          "metadata": {},
          "output_type": "execute_result"
        }
      ],
      "source": [
        "len(train_data[11])"
      ]
    },
    {
      "cell_type": "markdown",
      "metadata": {
        "id": "j_15cIYEH8KL"
      },
      "source": [
        "각 샘플에 대한 레이블은 0부터 45까지의 정수로 표현된다.\n",
        "예를 들어, 10번 기사의 주제는 3이다. "
      ]
    },
    {
      "cell_type": "code",
      "execution_count": null,
      "metadata": {
        "id": "2t_ioGrVH8KL",
        "outputId": "62fd2719-39d2-483d-cb85-bd1c1382fcf8"
      },
      "outputs": [
        {
          "data": {
            "text/plain": [
              "3"
            ]
          },
          "execution_count": 40,
          "metadata": {},
          "output_type": "execute_result"
        }
      ],
      "source": [
        "train_labels[10]"
      ]
    },
    {
      "cell_type": "markdown",
      "metadata": {
        "id": "upmHVlpdH8KL"
      },
      "source": [
        "주제 3은 'earn'(이익)과 연관된다.\n",
        "\n",
        "**참고**: 데이터 분석을 위해 반드시 필요한 사항은 아니지만 언급된 46개의 주제와 번호 사이의 관계는\n",
        "[GitHub: Where can I find topics of reuters dataset #12072](https://github.com/keras-team/keras/issues/12072)를 참조할 수 있다."
      ]
    },
    {
      "cell_type": "code",
      "execution_count": null,
      "metadata": {
        "id": "1RLQrAQQH8KL"
      },
      "outputs": [],
      "source": [
        "reuter_topics = {'cocoa': 0,\n",
        "                 'grain': 1,\n",
        "                 'veg-oil': 2,\n",
        "                 'earn': 3,\n",
        "                 'acq': 4,\n",
        "                 'wheat': 5,\n",
        "                 'copper': 6,\n",
        "                 'housing': 7,\n",
        "                 'money-supply': 8,\n",
        "                 'coffee': 9,\n",
        "                 'sugar': 10,\n",
        "                 'trade': 11,\n",
        "                 'reserves': 12,\n",
        "                 'ship': 13,\n",
        "                 'cotton': 14,\n",
        "                 'carcass': 15,\n",
        "                 'crude': 16,\n",
        "                 'nat-gas': 17,\n",
        "                 'cpi': 18,\n",
        "                 'money-fx': 19,\n",
        "                 'interest': 20,\n",
        "                 'gnp': 21,\n",
        "                 'meal-feed': 22,\n",
        "                 'alum': 23,\n",
        "                 'oilseed': 24,\n",
        "                 'gold': 25,\n",
        "                 'tin': 26,\n",
        "                 'strategic-metal': 27,\n",
        "                 'livestock': 28,\n",
        "                 'retail': 29,\n",
        "                 'ipi': 30,\n",
        "                 'iron-steel': 31,\n",
        "                 'rubber': 32,\n",
        "                 'heat': 33,\n",
        "                 'jobs': 34,\n",
        "                 'lei': 35,\n",
        "                 'bop': 36,\n",
        "                 'zinc': 37,\n",
        "                 'orange': 38,\n",
        "                 'pet-chem': 39,\n",
        "                 'dlr': 40,\n",
        "                 'gas': 41,\n",
        "                 'silver': 42,\n",
        "                 'wpi': 43,\n",
        "                 'hog': 44,\n",
        "                 'lead': 45}"
      ]
    },
    {
      "cell_type": "markdown",
      "metadata": {
        "id": "ByQ8n3-FH8KL"
      },
      "source": [
        "실제로 10번 기사 내용을 확인해보면 'earn'과 관련되어 있어 보인다.\n",
        "데이터를 해독(decoding)하는 방법은 IMDB 데이터셋의 경우와 동일하다."
      ]
    },
    {
      "cell_type": "code",
      "execution_count": null,
      "metadata": {
        "id": "QihEGoVNH8KL"
      },
      "outputs": [],
      "source": [
        "word_index = reuters.get_word_index()\n",
        "reverse_word_index = dict([(value, key) for (key, value) in word_index.items()])"
      ]
    },
    {
      "cell_type": "markdown",
      "metadata": {
        "id": "q7yFffAbH8KL"
      },
      "source": [
        "10번 기사 내용은 다음과 같다."
      ]
    },
    {
      "cell_type": "code",
      "execution_count": null,
      "metadata": {
        "id": "zsc305R3H8KL",
        "outputId": "0b4178a4-c7bc-41f0-9899-500e1be58340"
      },
      "outputs": [
        {
          "data": {
            "text/plain": [
              "'? period ended december 31 shr profit 11 cts vs loss 24 cts net profit 224 271 vs loss 511 349 revs 7 258 688 vs 7 200 349 reuter 3'"
            ]
          },
          "execution_count": 43,
          "metadata": {},
          "output_type": "execute_result"
        }
      ],
      "source": [
        "decoded_newswire = \" \".join([reverse_word_index.get(i - 3, \"?\") for i in train_data[10]])\n",
        "\n",
        "decoded_newswire"
      ]
    },
    {
      "cell_type": "markdown",
      "metadata": {
        "id": "eEW22EljH8KM"
      },
      "source": [
        "### 데이터 전처리"
      ]
    },
    {
      "cell_type": "markdown",
      "metadata": {
        "id": "sU6a6L4VH8KM"
      },
      "source": [
        "**데이터 벡터화**\n",
        "\n",
        "IMDB의 경우와 동일하게 길이가 10,000인 벡터로 모든 샘플을 변환한다."
      ]
    },
    {
      "cell_type": "code",
      "execution_count": null,
      "metadata": {
        "id": "8_TAU8gmH8KM"
      },
      "outputs": [],
      "source": [
        "x_train = vectorize_sequences(train_data)\n",
        "x_test = vectorize_sequences(test_data)"
      ]
    },
    {
      "cell_type": "markdown",
      "metadata": {
        "id": "0zXS5gjdH8KM"
      },
      "source": [
        "####  타깃의 원-핫-인코딩"
      ]
    },
    {
      "cell_type": "markdown",
      "metadata": {
        "id": "LDPWZFaIH8KM"
      },
      "source": [
        "앞서 보았듯이 타깃은 0부터 45 사이의 값이다.\n",
        "이런 경우 정수를 텐서로 변환해서 사용하는 것보다\n",
        "**원-핫-인코딩**(one-hot-encoding) 기법을 적용하는 게 좋다.\n",
        "\n",
        "원-핫-인코딩은 멀티-핫-인코딩 기법과 유사하다.\n",
        "차이점은 1인 오직 한 곳에서만 사용되고 나머지 항목은 모두 0이 된다.\n",
        "예를 들어, 3은 길이가 46인 벡터(1차원 어레이)로 변환되는데\n",
        "3번 인덱스에서만 1이고 나머지는 0이 된다.\n",
        "\n",
        "아래 함수는 원-핫-인코딩을 실행하는 함수이다.\n",
        "입력값은 레이블 데이터셋 전체를 대상으로 함에 주의하라."
      ]
    },
    {
      "cell_type": "code",
      "execution_count": null,
      "metadata": {
        "id": "u46aDTIIH8KM"
      },
      "outputs": [],
      "source": [
        "def to_one_hot(labels, dimension=46):\n",
        "    results = np.zeros((len(labels), dimension))\n",
        "    for i, label in enumerate(labels):\n",
        "        results[i, label] = 1.\n",
        "    return results"
      ]
    },
    {
      "cell_type": "markdown",
      "metadata": {
        "id": "0Z1qf9XwH8KM"
      },
      "source": [
        "훈련셋의 레이블과 테스트셋의 레이블을 인코딩한다."
      ]
    },
    {
      "cell_type": "code",
      "execution_count": null,
      "metadata": {
        "id": "xfYNl_JjH8KM"
      },
      "outputs": [],
      "source": [
        "y_train = to_one_hot(train_labels)\n",
        "y_test = to_one_hot(test_labels)"
      ]
    },
    {
      "cell_type": "markdown",
      "metadata": {
        "id": "rEnu4k3HH8KM"
      },
      "source": [
        "인코딩된 레이블 하나를 살펴보자."
      ]
    },
    {
      "cell_type": "code",
      "execution_count": null,
      "metadata": {
        "id": "o0knotGfH8KM",
        "outputId": "0fca2532-9833-46cc-b04e-f09a64951ce9"
      },
      "outputs": [
        {
          "data": {
            "text/plain": [
              "array([0., 0., 0., 1., 0., 0., 0., 0., 0., 0., 0., 0., 0., 0., 0., 0., 0.,\n",
              "       0., 0., 0., 0., 0., 0., 0., 0., 0., 0., 0., 0., 0., 0., 0., 0., 0.,\n",
              "       0., 0., 0., 0., 0., 0., 0., 0., 0., 0., 0., 0.])"
            ]
          },
          "execution_count": 47,
          "metadata": {},
          "output_type": "execute_result"
        }
      ],
      "source": [
        "y_train[0]"
      ]
    },
    {
      "cell_type": "markdown",
      "metadata": {
        "id": "6n3-Df4YH8KN"
      },
      "source": [
        "#### `to_categorical()` 함수"
      ]
    },
    {
      "cell_type": "markdown",
      "metadata": {
        "id": "teATLvcFH8KN"
      },
      "source": [
        "원-핫-인코딩을 지원하는 함수를 케라스가 지원한다.\n",
        "\n",
        "**참고**: 사용된 레이블의 최댓값에 1을 더한 값을 어레이의 길이로 사용한다."
      ]
    },
    {
      "cell_type": "code",
      "execution_count": null,
      "metadata": {
        "id": "WwgIqhLJH8KN"
      },
      "outputs": [],
      "source": [
        "from tensorflow.keras.utils import to_categorical\n",
        "\n",
        "y_train = to_categorical(train_labels)\n",
        "y_test = to_categorical(test_labels)"
      ]
    },
    {
      "cell_type": "code",
      "execution_count": null,
      "metadata": {
        "id": "kZSxwfBFH8KN",
        "outputId": "0f2cc177-dfae-4474-c97f-adc58934dffa"
      },
      "outputs": [
        {
          "data": {
            "text/plain": [
              "array([0., 0., 0., 1., 0., 0., 0., 0., 0., 0., 0., 0., 0., 0., 0., 0., 0.,\n",
              "       0., 0., 0., 0., 0., 0., 0., 0., 0., 0., 0., 0., 0., 0., 0., 0., 0.,\n",
              "       0., 0., 0., 0., 0., 0., 0., 0., 0., 0., 0., 0.], dtype=float32)"
            ]
          },
          "execution_count": 49,
          "metadata": {},
          "output_type": "execute_result"
        }
      ],
      "source": [
        "y_train[0]"
      ]
    },
    {
      "cell_type": "markdown",
      "metadata": {
        "id": "zUW67qVSH8KN"
      },
      "source": [
        "**참고**: 원-핫-인코딩, 멀티-핫-인코딩 등 정수를 사용하는 데이터를 범주형 데이터로 변환하는 \n",
        "전처리 과정을 지원하는 층(layer)이 있다.\n",
        "예를 들어 [tf.keras.layers.CategoryEncoding 층](https://keras.io/api/layers/preprocessing_layers/categorical/category_encoding/)은 원-핫-인코딩과 멀티-핫-인코딩을 지원한다. "
      ]
    },
    {
      "cell_type": "markdown",
      "metadata": {
        "id": "uoPgBXk2H8KN"
      },
      "source": [
        "### 모델 생성"
      ]
    },
    {
      "cell_type": "markdown",
      "metadata": {
        "id": "SozWXMWlH8KN"
      },
      "source": [
        "**모델 정의**\n",
        "\n",
        "IMDB 데이터셋의 경우와는 달리 3 개 이상의 클래스로 분류하는 \n",
        "**다중 클래스 분류** 모델의 최종 층은 \n",
        "분류해야 하는 클래스의 수 만큼의 유닛과 함께\n",
        "각 클래스에 속할 확률을 계산하는 \n",
        "`softmax` 활성화 함수를 이용한다.\n",
        "\n",
        "**참고**: 각 클래스에 속할 확률을 모두 더하면 1이 되며,\n",
        "가장 높은 확률을 가진 클래스를 예측값으로 사용한다.\n",
        "\n",
        "반면에 이항 분류의 경우보다 복잡한 문제이기에 \n",
        "은닉층의 유닛은 64개씩 정하여 보다 많은 정보를 상위 층으로 전달하도록 한다."
      ]
    },
    {
      "cell_type": "code",
      "execution_count": null,
      "metadata": {
        "id": "7y0-Apo4H8KN"
      },
      "outputs": [],
      "source": [
        "model = keras.Sequential([\n",
        "    layers.Dense(64, activation=\"relu\"),\n",
        "    layers.Dense(64, activation=\"relu\"),\n",
        "    layers.Dense(46, activation=\"softmax\")\n",
        "])"
      ]
    },
    {
      "cell_type": "markdown",
      "metadata": {
        "id": "Kqu7QB3BH8KO"
      },
      "source": [
        "**모델 컴파일**\n",
        "\n",
        "다중 클래스 분류 모델의 손실함수는 `categorical_crossentropy`을 사용한다. \n",
        "`categorical_crossentropy`는 클래스의 실제 분포와 예측 클래스의 분포 사이의 \n",
        "오차를 측정하는 손실함수이며, \n",
        "자세한 내용은 생략한다."
      ]
    },
    {
      "cell_type": "code",
      "execution_count": null,
      "metadata": {
        "id": "Ws_t9WCNH8KO"
      },
      "outputs": [],
      "source": [
        "model.compile(optimizer=\"rmsprop\",\n",
        "              loss=\"categorical_crossentropy\",\n",
        "              metrics=[\"accuracy\"])"
      ]
    },
    {
      "cell_type": "markdown",
      "metadata": {
        "id": "ZjBCZJ8dH8KO"
      },
      "source": [
        "### 모델 훈련 및 검증"
      ]
    },
    {
      "cell_type": "markdown",
      "metadata": {
        "id": "VhwHgU9BH8KO"
      },
      "source": [
        "**검증 세트 지정**\n",
        "\n",
        "처음 1,000개의 샘플을 검증 세트 용도로 사용한다."
      ]
    },
    {
      "cell_type": "code",
      "execution_count": null,
      "metadata": {
        "id": "nhyVPscdH8KO"
      },
      "outputs": [],
      "source": [
        "# 검증 세트\n",
        "x_val = x_train[:1000]\n",
        "y_val = y_train[:1000]\n",
        "\n",
        "# 훈련셋\n",
        "partial_x_train = x_train[1000:]\n",
        "partial_y_train = y_train[1000:]"
      ]
    },
    {
      "cell_type": "markdown",
      "metadata": {
        "id": "UKyEMaxlH8KO"
      },
      "source": [
        "**모델 훈련**\n",
        "\n",
        "훈련 방식은 이전과 동일하다."
      ]
    },
    {
      "cell_type": "code",
      "execution_count": null,
      "metadata": {
        "id": "WK9qXWflH8KO",
        "outputId": "cf05ec93-0c70-413e-89ad-13cc6b1f3680"
      },
      "outputs": [
        {
          "name": "stdout",
          "output_type": "stream",
          "text": [
            "Epoch 1/20\n",
            "16/16 [==============================] - 1s 25ms/step - loss: 2.7101 - accuracy: 0.4583 - val_loss: 1.7988 - val_accuracy: 0.6410\n",
            "Epoch 2/20\n",
            "16/16 [==============================] - 0s 12ms/step - loss: 1.4512 - accuracy: 0.7033 - val_loss: 1.3068 - val_accuracy: 0.7140\n",
            "Epoch 3/20\n",
            "16/16 [==============================] - 0s 11ms/step - loss: 1.0563 - accuracy: 0.7727 - val_loss: 1.1291 - val_accuracy: 0.7660\n",
            "Epoch 4/20\n",
            "16/16 [==============================] - 0s 11ms/step - loss: 0.8374 - accuracy: 0.8246 - val_loss: 1.0463 - val_accuracy: 0.7930\n",
            "Epoch 5/20\n",
            "16/16 [==============================] - 0s 10ms/step - loss: 0.6677 - accuracy: 0.8663 - val_loss: 0.9715 - val_accuracy: 0.7960\n",
            "Epoch 6/20\n",
            "16/16 [==============================] - 0s 10ms/step - loss: 0.5328 - accuracy: 0.8934 - val_loss: 0.9264 - val_accuracy: 0.8140\n",
            "Epoch 7/20\n",
            "16/16 [==============================] - 0s 11ms/step - loss: 0.4300 - accuracy: 0.9142 - val_loss: 0.9193 - val_accuracy: 0.8210\n",
            "Epoch 8/20\n",
            "16/16 [==============================] - 0s 10ms/step - loss: 0.3504 - accuracy: 0.9295 - val_loss: 0.8917 - val_accuracy: 0.8200\n",
            "Epoch 9/20\n",
            "16/16 [==============================] - 0s 10ms/step - loss: 0.2853 - accuracy: 0.9377 - val_loss: 0.9481 - val_accuracy: 0.8060\n",
            "Epoch 10/20\n",
            "16/16 [==============================] - 0s 11ms/step - loss: 0.2434 - accuracy: 0.9451 - val_loss: 0.9156 - val_accuracy: 0.8150\n",
            "Epoch 11/20\n",
            "16/16 [==============================] - 0s 10ms/step - loss: 0.2103 - accuracy: 0.9494 - val_loss: 0.9088 - val_accuracy: 0.8200\n",
            "Epoch 12/20\n",
            "16/16 [==============================] - 0s 10ms/step - loss: 0.1840 - accuracy: 0.9509 - val_loss: 0.9644 - val_accuracy: 0.8060\n",
            "Epoch 13/20\n",
            "16/16 [==============================] - 0s 10ms/step - loss: 0.1670 - accuracy: 0.9531 - val_loss: 0.9432 - val_accuracy: 0.8180\n",
            "Epoch 14/20\n",
            "16/16 [==============================] - 0s 10ms/step - loss: 0.1492 - accuracy: 0.9558 - val_loss: 0.9799 - val_accuracy: 0.8070\n",
            "Epoch 15/20\n",
            "16/16 [==============================] - 0s 10ms/step - loss: 0.1446 - accuracy: 0.9563 - val_loss: 1.0445 - val_accuracy: 0.7920\n",
            "Epoch 16/20\n",
            "16/16 [==============================] - 0s 12ms/step - loss: 0.1335 - accuracy: 0.9565 - val_loss: 0.9940 - val_accuracy: 0.8170\n",
            "Epoch 17/20\n",
            "16/16 [==============================] - 0s 9ms/step - loss: 0.1255 - accuracy: 0.9564 - val_loss: 1.0369 - val_accuracy: 0.8080\n",
            "Epoch 18/20\n",
            "16/16 [==============================] - 0s 10ms/step - loss: 0.1203 - accuracy: 0.9565 - val_loss: 1.0909 - val_accuracy: 0.8020\n",
            "Epoch 19/20\n",
            "16/16 [==============================] - 0s 10ms/step - loss: 0.1176 - accuracy: 0.9574 - val_loss: 1.0424 - val_accuracy: 0.8140\n",
            "Epoch 20/20\n",
            "16/16 [==============================] - 0s 10ms/step - loss: 0.1140 - accuracy: 0.9582 - val_loss: 1.0658 - val_accuracy: 0.8130\n"
          ]
        }
      ],
      "source": [
        "history = model.fit(partial_x_train,\n",
        "                    partial_y_train,\n",
        "                    epochs=20,\n",
        "                    batch_size=512,\n",
        "                    validation_data=(x_val, y_val))"
      ]
    },
    {
      "cell_type": "markdown",
      "metadata": {
        "id": "ABSI4TIEH8KO"
      },
      "source": [
        "**손실값의 변화**"
      ]
    },
    {
      "cell_type": "markdown",
      "metadata": {
        "id": "FAc5OKWoH8KO"
      },
      "source": [
        "* 훈련셋와 검증 세트에 대한 에포크별 손실값의 변화\n",
        "    - 훈련셋: 손실값 계속 감소\n",
        "    - 검증 세트: 아홉번 째 에포크 전후 정체 및 상승. 과대적합(overfitting) 발생."
      ]
    },
    {
      "cell_type": "code",
      "execution_count": null,
      "metadata": {
        "id": "RhGCuPkOH8KO",
        "outputId": "945d98a3-f953-46c2-fafc-45e95d744973"
      },
      "outputs": [
        {
          "data": {
            "image/png": "[encoded data removed]",
            "text/plain": [
              "<Figure size 432x288 with 1 Axes>"
            ]
          },
          "metadata": {
            "needs_background": "light"
          },
          "output_type": "display_data"
        }
      ],
      "source": [
        "loss = history.history[\"loss\"]\n",
        "\n",
        "val_loss = history.history[\"val_loss\"]\n",
        "epochs = range(1, len(loss) + 1)\n",
        "plt.plot(epochs, loss, \"bo\", label=\"Training loss\")\n",
        "plt.plot(epochs, val_loss, \"b\", label=\"Validation loss\")\n",
        "plt.title(\"Training and validation loss\")\n",
        "plt.xlabel(\"Epochs\")\n",
        "plt.ylabel(\"Loss\")\n",
        "plt.legend()\n",
        "plt.show()"
      ]
    },
    {
      "cell_type": "markdown",
      "metadata": {
        "id": "YwDId9sXH8KP"
      },
      "source": [
        "**정확도의 변화**"
      ]
    },
    {
      "cell_type": "markdown",
      "metadata": {
        "id": "GRVU4QxmH8KP"
      },
      "source": [
        "* 훈련셋와 검증 세트에 대한 에포크별 정확도의 변화\n",
        "    - 훈련셋: 정확도 계속 증가\n",
        "    - 검증 세트: 아홉번 째 에포크 전후 정체 및 감소. 과대적합(overfitting) 발생."
      ]
    },
    {
      "cell_type": "code",
      "execution_count": null,
      "metadata": {
        "id": "--dnv_5_H8KP",
        "outputId": "674cc74d-c1fc-4647-b954-1930a4879fe9"
      },
      "outputs": [
        {
          "data": {
            "image/png": "[encoded data removed]",
            "text/plain": [
              "<Figure size 432x288 with 1 Axes>"
            ]
          },
          "metadata": {
            "needs_background": "light"
          },
          "output_type": "display_data"
        }
      ],
      "source": [
        "plt.clf()\n",
        "acc = history.history[\"accuracy\"]\n",
        "val_acc = history.history[\"val_accuracy\"]\n",
        "plt.plot(epochs, acc, \"bo\", label=\"Training accuracy\")\n",
        "plt.plot(epochs, val_acc, \"b\", label=\"Validation accuracy\")\n",
        "plt.title(\"Training and validation accuracy\")\n",
        "plt.xlabel(\"Epochs\")\n",
        "plt.ylabel(\"Accuracy\")\n",
        "plt.legend()\n",
        "plt.show()"
      ]
    },
    {
      "cell_type": "markdown",
      "metadata": {
        "id": "Bpk3Mpm6H8KP"
      },
      "source": [
        "**모델 재훈련**\n",
        "\n",
        "9번 에포크를 지나면서 과대적합이 발생하는 것으로 보인다. \n",
        "따라서 에포크 수를 9로 줄이고 처음부터 다시 훈련시켜보자.\n",
        "모델 구성부터, 컴파일, 훈련을 모두 다시 시작해야 \n",
        "가중치와 편향이 초기화된 상태서 훈련을 시작한다."
      ]
    },
    {
      "cell_type": "code",
      "execution_count": null,
      "metadata": {
        "id": "AjrPd5y5H8KP",
        "outputId": "03c7b52f-b2ac-42b1-9eaa-d45908643279"
      },
      "outputs": [
        {
          "name": "stdout",
          "output_type": "stream",
          "text": [
            "Epoch 1/9\n",
            "18/18 [==============================] - 0s 8ms/step - loss: 2.3815 - accuracy: 0.5605\n",
            "Epoch 2/9\n",
            "18/18 [==============================] - 0s 8ms/step - loss: 1.2837 - accuracy: 0.7190\n",
            "Epoch 3/9\n",
            "18/18 [==============================] - 0s 7ms/step - loss: 0.9710 - accuracy: 0.7927\n",
            "Epoch 4/9\n",
            "18/18 [==============================] - 0s 10ms/step - loss: 0.7652 - accuracy: 0.8370\n",
            "Epoch 5/9\n",
            "18/18 [==============================] - 0s 9ms/step - loss: 0.6081 - accuracy: 0.8726\n",
            "Epoch 6/9\n",
            "18/18 [==============================] - 0s 8ms/step - loss: 0.4839 - accuracy: 0.8952\n",
            "Epoch 7/9\n",
            "18/18 [==============================] - 0s 9ms/step - loss: 0.3859 - accuracy: 0.9188\n",
            "Epoch 8/9\n",
            "18/18 [==============================] - 0s 8ms/step - loss: 0.3175 - accuracy: 0.9323\n",
            "Epoch 9/9\n",
            "18/18 [==============================] - 0s 8ms/step - loss: 0.2638 - accuracy: 0.9404\n"
          ]
        },
        {
          "data": {
            "text/plain": [
              "<keras.callbacks.History at 0x2cf3b42d550>"
            ]
          },
          "execution_count": 56,
          "metadata": {},
          "output_type": "execute_result"
        }
      ],
      "source": [
        "model = keras.Sequential([\n",
        "  layers.Dense(64, activation=\"relu\"),\n",
        "  layers.Dense(64, activation=\"relu\"),\n",
        "  layers.Dense(46, activation=\"softmax\")\n",
        "])\n",
        "\n",
        "model.compile(optimizer=\"rmsprop\",\n",
        "              loss=\"categorical_crossentropy\",\n",
        "              metrics=[\"accuracy\"])\n",
        "\n",
        "model.fit(x_train,\n",
        "          y_train,\n",
        "          epochs=9,\n",
        "          batch_size=512)"
      ]
    },
    {
      "cell_type": "markdown",
      "metadata": {
        "id": "bl6qDumLH8KP"
      },
      "source": [
        "훈련된 모델을 이용한 테스트셋에 대한 예측의 정확도는 80% 정도이다."
      ]
    },
    {
      "cell_type": "code",
      "execution_count": null,
      "metadata": {
        "id": "zp3S5vPsH8KP",
        "outputId": "ec283f06-67a2-4ad9-d972-5da260c88230"
      },
      "outputs": [
        {
          "name": "stdout",
          "output_type": "stream",
          "text": [
            "71/71 [==============================] - 0s 2ms/step - loss: 0.9436 - accuracy: 0.7996\n"
          ]
        },
        {
          "data": {
            "text/plain": [
              "[0.9436188340187073, 0.7996438145637512]"
            ]
          },
          "execution_count": 57,
          "metadata": {},
          "output_type": "execute_result"
        }
      ],
      "source": [
        "results = model.evaluate(x_test, y_test)\n",
        "\n",
        "results"
      ]
    },
    {
      "cell_type": "markdown",
      "metadata": {
        "id": "wDjejdWfH8KP"
      },
      "source": [
        "80%의 정확도가 얼마나 좋은지/나쁜지를 판단하려면 무작위로 찍을 때의 정확도를 계산해봐야 한다.\n",
        "아래 코드가 이를 실천하며, 20% 정도의 정확도가 나온다.\n",
        "따라서 80% 정도의 정확도는 상당히 좋은 편이다."
      ]
    },
    {
      "cell_type": "code",
      "execution_count": null,
      "metadata": {
        "id": "mhGl0YFJH8KP",
        "outputId": "695ee19c-2708-44a8-e173-a708c0f61ff2"
      },
      "outputs": [
        {
          "data": {
            "text/plain": [
              "0.1923419412288513"
            ]
          },
          "execution_count": 58,
          "metadata": {},
          "output_type": "execute_result"
        }
      ],
      "source": [
        "import copy\n",
        "\n",
        "# 원 데이터를 건드리지 않기 위해 사본 사용\n",
        "test_labels_copy = copy.copy(test_labels)\n",
        "\n",
        "# 무작위로 섞은 후 원 데이터의 순서와 비교\n",
        "np.random.shuffle(test_labels_copy)\n",
        "hits_array = test_labels == test_labels_copy\n",
        "\n",
        "# 1 또는 0으로만 이루어졌기에 평균값을 계산하면 무작위 선택의 정확도를 계산함\n",
        "hits_array.mean()"
      ]
    },
    {
      "cell_type": "markdown",
      "metadata": {
        "id": "t8M6aYO8H8KQ"
      },
      "source": [
        "### 예측하기"
      ]
    },
    {
      "cell_type": "markdown",
      "metadata": {
        "id": "cqSnPQDFH8KQ"
      },
      "source": [
        "훈련된 모델을 테스트셋에 적용한다."
      ]
    },
    {
      "cell_type": "code",
      "execution_count": null,
      "metadata": {
        "id": "Ex0SC4k_H8KQ"
      },
      "outputs": [],
      "source": [
        "predictions = model.predict(x_test)"
      ]
    },
    {
      "cell_type": "markdown",
      "metadata": {
        "id": "92ZPLsZ5H8KQ"
      },
      "source": [
        "예측값의 모두 길이가 46인 1차원 어레이다."
      ]
    },
    {
      "cell_type": "code",
      "execution_count": null,
      "metadata": {
        "id": "JdaWTgMVH8KQ",
        "outputId": "f50b07b6-319c-4d45-f4be-0dd742768cab"
      },
      "outputs": [
        {
          "data": {
            "text/plain": [
              "(46,)"
            ]
          },
          "execution_count": 60,
          "metadata": {},
          "output_type": "execute_result"
        }
      ],
      "source": [
        "predictions[0].shape"
      ]
    },
    {
      "cell_type": "markdown",
      "metadata": {
        "id": "2MlzJZFQH8KQ"
      },
      "source": [
        "예측값은 46개 클래스에 들어갈 확률들로 이루어지며 합은 1이다."
      ]
    },
    {
      "cell_type": "code",
      "execution_count": null,
      "metadata": {
        "id": "O9agFJAEH8KQ",
        "outputId": "181278e1-8122-45ee-ed69-6c6eab5c1401"
      },
      "outputs": [
        {
          "data": {
            "text/plain": [
              "0.99999994"
            ]
          },
          "execution_count": 61,
          "metadata": {},
          "output_type": "execute_result"
        }
      ],
      "source": [
        "np.sum(predictions[0])"
      ]
    },
    {
      "cell_type": "markdown",
      "metadata": {
        "id": "LqGOIey0H8KQ"
      },
      "source": [
        "가장 큰 확률값을 가진 인덱스가 모델이 예측하는 클래스가 된다.\n",
        "예를 들어 테스트셋의 0번 샘플(로이터 기사)은 3번 레이블을 갖는다고 예측된다."
      ]
    },
    {
      "cell_type": "code",
      "execution_count": null,
      "metadata": {
        "id": "Evly1EqaH8KQ",
        "outputId": "1b6acb8f-1faa-4be3-d3fb-60d12040d105"
      },
      "outputs": [
        {
          "data": {
            "text/plain": [
              "3"
            ]
          },
          "execution_count": 62,
          "metadata": {},
          "output_type": "execute_result"
        }
      ],
      "source": [
        "np.argmax(predictions[0])"
      ]
    },
    {
      "cell_type": "markdown",
      "metadata": {
        "id": "kdptBrZvH8KQ"
      },
      "source": [
        "### 정수 레이블 사용법"
      ]
    },
    {
      "cell_type": "markdown",
      "metadata": {
        "id": "lwNe4itaH8KQ"
      },
      "source": [
        "정수 텐서 레이블(타깃)을 이용하여 훈련하려면 모델을 컴파일할 때 손실함수로 \n",
        "`sparse_categorical_crossentropy`를 \n",
        "사용하면 된다.\n",
        "\n",
        "```python\n",
        "y_train = np.array(train_labels)\n",
        "y_test = np.array(test_labels)\n",
        "\n",
        "model.compile(optimizer=\"rmsprop\",\n",
        "              loss=\"sparse_categorical_crossentropy\",\n",
        "              metrics=[\"accuracy\"])\n",
        "```"
      ]
    },
    {
      "cell_type": "markdown",
      "metadata": {
        "id": "-2QFX-lmH8KQ"
      },
      "source": [
        "### 은닉층에 사용되는 유닛 개수"
      ]
    },
    {
      "cell_type": "markdown",
      "metadata": {
        "id": "kMnNdLukH8KR"
      },
      "source": [
        "은닉층에 사용되는 유닛은 마지막 층의 유닛보다 많아야 한다.\n",
        "그렇지 않으면 정보전달 과정에 병목현상(bottleneck)이 발생할 수 있다.\n",
        "아래 코드의 둘째 은닉층은 4 개의 유닛만을 사용하는데 \n",
        "훈련된 모델의 성능이 많이 저하된다."
      ]
    },
    {
      "cell_type": "code",
      "execution_count": null,
      "metadata": {
        "id": "UUFZ83NvH8KR",
        "outputId": "dad6c67e-b697-418a-fdd1-c034745df18c"
      },
      "outputs": [
        {
          "name": "stdout",
          "output_type": "stream",
          "text": [
            "Epoch 1/20\n",
            "63/63 [==============================] - 1s 6ms/step - loss: 2.7547 - accuracy: 0.3588 - val_loss: 2.0262 - val_accuracy: 0.5630\n",
            "Epoch 2/20\n",
            "63/63 [==============================] - 0s 5ms/step - loss: 1.7311 - accuracy: 0.5808 - val_loss: 1.5582 - val_accuracy: 0.5870\n",
            "Epoch 3/20\n",
            "63/63 [==============================] - 0s 4ms/step - loss: 1.3904 - accuracy: 0.6163 - val_loss: 1.4050 - val_accuracy: 0.6390\n",
            "Epoch 4/20\n",
            "63/63 [==============================] - 0s 5ms/step - loss: 1.1950 - accuracy: 0.6695 - val_loss: 1.3178 - val_accuracy: 0.6670\n",
            "Epoch 5/20\n",
            "63/63 [==============================] - 0s 5ms/step - loss: 1.0543 - accuracy: 0.7235 - val_loss: 1.2940 - val_accuracy: 0.6960\n",
            "Epoch 6/20\n",
            "63/63 [==============================] - 0s 5ms/step - loss: 0.9497 - accuracy: 0.7512 - val_loss: 1.2820 - val_accuracy: 0.6980\n",
            "Epoch 7/20\n",
            "63/63 [==============================] - 0s 5ms/step - loss: 0.8585 - accuracy: 0.7786 - val_loss: 1.2812 - val_accuracy: 0.7120\n",
            "Epoch 8/20\n",
            "63/63 [==============================] - 0s 5ms/step - loss: 0.7729 - accuracy: 0.8036 - val_loss: 1.3157 - val_accuracy: 0.7140\n",
            "Epoch 9/20\n",
            "63/63 [==============================] - 0s 5ms/step - loss: 0.6988 - accuracy: 0.8227 - val_loss: 1.3189 - val_accuracy: 0.7260\n",
            "Epoch 10/20\n",
            "63/63 [==============================] - 0s 5ms/step - loss: 0.6370 - accuracy: 0.8444 - val_loss: 1.3645 - val_accuracy: 0.7300\n",
            "Epoch 11/20\n",
            "63/63 [==============================] - 0s 5ms/step - loss: 0.5862 - accuracy: 0.8535 - val_loss: 1.3981 - val_accuracy: 0.7280\n",
            "Epoch 12/20\n",
            "63/63 [==============================] - 0s 5ms/step - loss: 0.5424 - accuracy: 0.8596 - val_loss: 1.4963 - val_accuracy: 0.7290\n",
            "Epoch 13/20\n",
            "63/63 [==============================] - 0s 5ms/step - loss: 0.5066 - accuracy: 0.8681 - val_loss: 1.5458 - val_accuracy: 0.7180\n",
            "Epoch 14/20\n",
            "63/63 [==============================] - 0s 5ms/step - loss: 0.4722 - accuracy: 0.8735 - val_loss: 1.5992 - val_accuracy: 0.7270\n",
            "Epoch 15/20\n",
            "63/63 [==============================] - 0s 5ms/step - loss: 0.4450 - accuracy: 0.8807 - val_loss: 1.6689 - val_accuracy: 0.7180\n",
            "Epoch 16/20\n",
            "63/63 [==============================] - 0s 5ms/step - loss: 0.4192 - accuracy: 0.8854 - val_loss: 1.7057 - val_accuracy: 0.7210\n",
            "Epoch 17/20\n",
            "63/63 [==============================] - 0s 5ms/step - loss: 0.3994 - accuracy: 0.8920 - val_loss: 1.7751 - val_accuracy: 0.7230\n",
            "Epoch 18/20\n",
            "63/63 [==============================] - 0s 5ms/step - loss: 0.3830 - accuracy: 0.8948 - val_loss: 1.8543 - val_accuracy: 0.7160\n",
            "Epoch 19/20\n",
            "63/63 [==============================] - 0s 5ms/step - loss: 0.3646 - accuracy: 0.8993 - val_loss: 1.8992 - val_accuracy: 0.7220\n",
            "Epoch 20/20\n",
            "63/63 [==============================] - 0s 5ms/step - loss: 0.3506 - accuracy: 0.9018 - val_loss: 2.0408 - val_accuracy: 0.7110\n"
          ]
        },
        {
          "data": {
            "text/plain": [
              "<keras.callbacks.History at 0x2cf31967370>"
            ]
          },
          "execution_count": 63,
          "metadata": {},
          "output_type": "execute_result"
        }
      ],
      "source": [
        "model = keras.Sequential([\n",
        "    layers.Dense(64, activation=\"relu\"),\n",
        "    layers.Dense(4, activation=\"relu\"),\n",
        "    layers.Dense(46, activation=\"softmax\")\n",
        "])\n",
        "model.compile(optimizer=\"rmsprop\",\n",
        "              loss=\"categorical_crossentropy\",\n",
        "              metrics=[\"accuracy\"])\n",
        "model.fit(partial_x_train,\n",
        "          partial_y_train,\n",
        "          epochs=20,\n",
        "          batch_size=128,\n",
        "          validation_data=(x_val, y_val))"
      ]
    },
    {
      "cell_type": "markdown",
      "metadata": {
        "id": "a_Fht6L4H8KR"
      },
      "source": [
        "테스트셋에 대한 정확도가 80% 정도에서 65% 정도로 낮아진다."
      ]
    },
    {
      "cell_type": "code",
      "execution_count": null,
      "metadata": {
        "id": "TBiCpABuH8KR",
        "outputId": "b460470d-b260-4573-a63c-a8ab5a7ed10d"
      },
      "outputs": [
        {
          "name": "stdout",
          "output_type": "stream",
          "text": [
            "71/71 [==============================] - 0s 2ms/step - loss: 2.1817 - accuracy: 0.6923\n"
          ]
        },
        {
          "data": {
            "text/plain": [
              "[2.1817328929901123, 0.6923419237136841]"
            ]
          },
          "execution_count": 64,
          "metadata": {},
          "output_type": "execute_result"
        }
      ],
      "source": [
        "model.evaluate(x_test, y_test)"
      ]
    },
    {
      "cell_type": "markdown",
      "metadata": {
        "id": "edtlPvHSH8KR"
      },
      "source": [
        "### 연습문제\n",
        "\n",
        "1. 은닉층의 유닛 개수를 32, 128 등 여러 값으로 실험해 보아라.\n",
        "1. 은닉층의 수를 1개 또는 3개로 바꿔 보아라."
      ]
    },
    {
      "cell_type": "markdown",
      "metadata": {
        "id": "BA8RfRpLH8KR"
      },
      "source": [
        "## 4.3 주택가격 예측: 회귀"
      ]
    },
    {
      "cell_type": "markdown",
      "metadata": {
        "id": "8Uhe6abdH8KR"
      },
      "source": [
        "이항 분류, 다중 클래스 분류 모델은 지정된 숫자들로 이루어진 특정 클래스의 번호 하나를 예측한다.\n",
        "반면에 임의의 수를 예측하는 문제는 **회귀**(regression)이라 부른다. \n",
        "예를 들어 온도 예측, 가격 예측 등을 다루는 것이 회귀 문제이다. \n",
        "여기서는 보스턴 시의 주택가격을 예측하는 회귀 문제를 예제로 다룬다.\n",
        "\n",
        "**주의사항**: '로지스틱 회귀'(logistic regression) 알고리즘는 분류 모델임에 주의하라."
      ]
    },
    {
      "cell_type": "markdown",
      "metadata": {
        "id": "pHQrw5mJH8KR"
      },
      "source": [
        "### 보스턴 주택가격 데이터셋"
      ]
    },
    {
      "cell_type": "markdown",
      "metadata": {
        "id": "i8SwyvBKH8KR"
      },
      "source": [
        "사용하는 데이터셋은 다음과 같다.\n",
        "\n",
        "- 1970년대 중반의 미국 보스턴 시내와 외곽의 총 506개 지역별 중간 주택가격.\n",
        "    즉, 매우 적은 수의 데이터셋임.\n",
        "- 케라스의 `boston_housing` 모듈의 `load_data()` 함수로 데이터 적재\n",
        "    - 훈련셋와 테스트셋로 분류됨.\n",
        "- 지역별 샘플\n",
        "    - 특성: 총 13 개. 지역별 범죄율, 토지 비율, 재산세율, 학생 대 교사 비율 등.\n",
        "    - 타깃: 주택가격\n",
        "- 참고: [위키독스: 보스턴 주택가격 데이터셋 소개](https://wikidocs.net/49966)"
      ]
    },
    {
      "cell_type": "markdown",
      "metadata": {
        "id": "6pN7v54bH8KR"
      },
      "source": [
        "**보스턴 주택가격 데이터셋 적재**\n",
        "\n",
        "- 데이터셋 크기: 506\n",
        "    - 훈련셋: 404\n",
        "    - 테스트셋: 102\n",
        "- 샘플 특성 수: 13"
      ]
    },
    {
      "cell_type": "code",
      "execution_count": null,
      "metadata": {
        "id": "ogT0b8HpH8KR"
      },
      "outputs": [],
      "source": [
        "from tensorflow.keras.datasets import boston_housing\n",
        "(train_data, train_targets), (test_data, test_targets) = boston_housing.load_data()"
      ]
    },
    {
      "cell_type": "code",
      "execution_count": null,
      "metadata": {
        "id": "0_RdzC2vH8KS",
        "outputId": "0b62931a-6ac3-4552-ebe8-42f360d11b38"
      },
      "outputs": [
        {
          "data": {
            "text/plain": [
              "(404, 13)"
            ]
          },
          "execution_count": 66,
          "metadata": {},
          "output_type": "execute_result"
        }
      ],
      "source": [
        "train_data.shape"
      ]
    },
    {
      "cell_type": "code",
      "execution_count": null,
      "metadata": {
        "id": "nJdoX31GH8KU",
        "outputId": "2ae98413-4e91-4599-e880-6ec9bddb5c09"
      },
      "outputs": [
        {
          "data": {
            "text/plain": [
              "(102, 13)"
            ]
          },
          "execution_count": 67,
          "metadata": {},
          "output_type": "execute_result"
        }
      ],
      "source": [
        "test_data.shape"
      ]
    },
    {
      "cell_type": "markdown",
      "metadata": {
        "id": "9GJWQ9E9H8KU"
      },
      "source": [
        "훈련셋 샘플의 타깃은 아래처럼 범위가 지정되지 않은 부동소수점 값이다. "
      ]
    },
    {
      "cell_type": "code",
      "execution_count": null,
      "metadata": {
        "id": "1lk3SSWfH8KU",
        "outputId": "492cc69d-1346-443c-9ee5-397da07fe596"
      },
      "outputs": [
        {
          "data": {
            "text/plain": [
              "array([15.2, 42.3, 50. , 21.1, 17.7, 18.5, 11.3, 15.6, 15.6, 14.4])"
            ]
          },
          "execution_count": 68,
          "metadata": {},
          "output_type": "execute_result"
        }
      ],
      "source": [
        "train_targets[:10]"
      ]
    },
    {
      "cell_type": "markdown",
      "metadata": {
        "id": "uHWsNFu0H8KU"
      },
      "source": [
        "### 데이터 전처리"
      ]
    },
    {
      "cell_type": "markdown",
      "metadata": {
        "id": "eoZrTrXOH8KV"
      },
      "source": [
        "특성에 따라 사용되는 값들의 크기가 다르다. \n",
        "어떤 특성은 0과 1사이, 다른 특성은 한 자리리부터 세 자리의 수를 갖기도 한다."
      ]
    },
    {
      "cell_type": "code",
      "execution_count": null,
      "metadata": {
        "id": "tc30d_5sH8KV",
        "outputId": "d39d90f3-7085-473a-f6b2-07b4dd40c955"
      },
      "outputs": [
        {
          "data": {
            "text/html": [
              "<div>\n",
              "<style scoped>\n",
              "    .dataframe tbody tr th:only-of-type {\n",
              "        vertical-align: middle;\n",
              "    }\n",
              "\n",
              "    .dataframe tbody tr th {\n",
              "        vertical-align: top;\n",
              "    }\n",
              "\n",
              "    .dataframe thead th {\n",
              "        text-align: right;\n",
              "    }\n",
              "</style>\n",
              "<table border=\"1\" class=\"dataframe\">\n",
              "  <thead>\n",
              "    <tr style=\"text-align: right;\">\n",
              "      <th></th>\n",
              "      <th>0</th>\n",
              "      <th>1</th>\n",
              "      <th>2</th>\n",
              "      <th>3</th>\n",
              "      <th>4</th>\n",
              "      <th>5</th>\n",
              "      <th>6</th>\n",
              "      <th>7</th>\n",
              "      <th>8</th>\n",
              "      <th>9</th>\n",
              "      <th>10</th>\n",
              "      <th>11</th>\n",
              "      <th>12</th>\n",
              "    </tr>\n",
              "  </thead>\n",
              "  <tbody>\n",
              "    <tr>\n",
              "      <th>count</th>\n",
              "      <td>404.000000</td>\n",
              "      <td>404.000000</td>\n",
              "      <td>404.000000</td>\n",
              "      <td>404.000000</td>\n",
              "      <td>404.000000</td>\n",
              "      <td>404.000000</td>\n",
              "      <td>404.000000</td>\n",
              "      <td>404.000000</td>\n",
              "      <td>404.000000</td>\n",
              "      <td>404.000000</td>\n",
              "      <td>404.000000</td>\n",
              "      <td>404.000000</td>\n",
              "      <td>404.000000</td>\n",
              "    </tr>\n",
              "    <tr>\n",
              "      <th>mean</th>\n",
              "      <td>3.745111</td>\n",
              "      <td>11.480198</td>\n",
              "      <td>11.104431</td>\n",
              "      <td>0.061881</td>\n",
              "      <td>0.557356</td>\n",
              "      <td>6.267082</td>\n",
              "      <td>69.010644</td>\n",
              "      <td>3.740271</td>\n",
              "      <td>9.440594</td>\n",
              "      <td>405.898515</td>\n",
              "      <td>18.475990</td>\n",
              "      <td>354.783168</td>\n",
              "      <td>12.740817</td>\n",
              "    </tr>\n",
              "    <tr>\n",
              "      <th>std</th>\n",
              "      <td>9.240734</td>\n",
              "      <td>23.767711</td>\n",
              "      <td>6.811308</td>\n",
              "      <td>0.241238</td>\n",
              "      <td>0.117293</td>\n",
              "      <td>0.709788</td>\n",
              "      <td>27.940665</td>\n",
              "      <td>2.030215</td>\n",
              "      <td>8.698360</td>\n",
              "      <td>166.374543</td>\n",
              "      <td>2.200382</td>\n",
              "      <td>94.111148</td>\n",
              "      <td>7.254545</td>\n",
              "    </tr>\n",
              "    <tr>\n",
              "      <th>min</th>\n",
              "      <td>0.006320</td>\n",
              "      <td>0.000000</td>\n",
              "      <td>0.460000</td>\n",
              "      <td>0.000000</td>\n",
              "      <td>0.385000</td>\n",
              "      <td>3.561000</td>\n",
              "      <td>2.900000</td>\n",
              "      <td>1.129600</td>\n",
              "      <td>1.000000</td>\n",
              "      <td>188.000000</td>\n",
              "      <td>12.600000</td>\n",
              "      <td>0.320000</td>\n",
              "      <td>1.730000</td>\n",
              "    </tr>\n",
              "    <tr>\n",
              "      <th>25%</th>\n",
              "      <td>0.081437</td>\n",
              "      <td>0.000000</td>\n",
              "      <td>5.130000</td>\n",
              "      <td>0.000000</td>\n",
              "      <td>0.453000</td>\n",
              "      <td>5.874750</td>\n",
              "      <td>45.475000</td>\n",
              "      <td>2.077100</td>\n",
              "      <td>4.000000</td>\n",
              "      <td>279.000000</td>\n",
              "      <td>17.225000</td>\n",
              "      <td>374.672500</td>\n",
              "      <td>6.890000</td>\n",
              "    </tr>\n",
              "    <tr>\n",
              "      <th>50%</th>\n",
              "      <td>0.268880</td>\n",
              "      <td>0.000000</td>\n",
              "      <td>9.690000</td>\n",
              "      <td>0.000000</td>\n",
              "      <td>0.538000</td>\n",
              "      <td>6.198500</td>\n",
              "      <td>78.500000</td>\n",
              "      <td>3.142300</td>\n",
              "      <td>5.000000</td>\n",
              "      <td>330.000000</td>\n",
              "      <td>19.100000</td>\n",
              "      <td>391.250000</td>\n",
              "      <td>11.395000</td>\n",
              "    </tr>\n",
              "    <tr>\n",
              "      <th>75%</th>\n",
              "      <td>3.674808</td>\n",
              "      <td>12.500000</td>\n",
              "      <td>18.100000</td>\n",
              "      <td>0.000000</td>\n",
              "      <td>0.631000</td>\n",
              "      <td>6.609000</td>\n",
              "      <td>94.100000</td>\n",
              "      <td>5.118000</td>\n",
              "      <td>24.000000</td>\n",
              "      <td>666.000000</td>\n",
              "      <td>20.200000</td>\n",
              "      <td>396.157500</td>\n",
              "      <td>17.092500</td>\n",
              "    </tr>\n",
              "    <tr>\n",
              "      <th>max</th>\n",
              "      <td>88.976200</td>\n",
              "      <td>100.000000</td>\n",
              "      <td>27.740000</td>\n",
              "      <td>1.000000</td>\n",
              "      <td>0.871000</td>\n",
              "      <td>8.725000</td>\n",
              "      <td>100.000000</td>\n",
              "      <td>10.710300</td>\n",
              "      <td>24.000000</td>\n",
              "      <td>711.000000</td>\n",
              "      <td>22.000000</td>\n",
              "      <td>396.900000</td>\n",
              "      <td>37.970000</td>\n",
              "    </tr>\n",
              "  </tbody>\n",
              "</table>\n",
              "</div>"
            ],
            "text/plain": [
              "               0           1           2           3           4           5   \\\n",
              "count  404.000000  404.000000  404.000000  404.000000  404.000000  404.000000   \n",
              "mean     3.745111   11.480198   11.104431    0.061881    0.557356    6.267082   \n",
              "std      9.240734   23.767711    6.811308    0.241238    0.117293    0.709788   \n",
              "min      0.006320    0.000000    0.460000    0.000000    0.385000    3.561000   \n",
              "25%      0.081437    0.000000    5.130000    0.000000    0.453000    5.874750   \n",
              "50%      0.268880    0.000000    9.690000    0.000000    0.538000    6.198500   \n",
              "75%      3.674808   12.500000   18.100000    0.000000    0.631000    6.609000   \n",
              "max     88.976200  100.000000   27.740000    1.000000    0.871000    8.725000   \n",
              "\n",
              "               6           7           8           9           10          11  \\\n",
              "count  404.000000  404.000000  404.000000  404.000000  404.000000  404.000000   \n",
              "mean    69.010644    3.740271    9.440594  405.898515   18.475990  354.783168   \n",
              "std     27.940665    2.030215    8.698360  166.374543    2.200382   94.111148   \n",
              "min      2.900000    1.129600    1.000000  188.000000   12.600000    0.320000   \n",
              "25%     45.475000    2.077100    4.000000  279.000000   17.225000  374.672500   \n",
              "50%     78.500000    3.142300    5.000000  330.000000   19.100000  391.250000   \n",
              "75%     94.100000    5.118000   24.000000  666.000000   20.200000  396.157500   \n",
              "max    100.000000   10.710300   24.000000  711.000000   22.000000  396.900000   \n",
              "\n",
              "               12  \n",
              "count  404.000000  \n",
              "mean    12.740817  \n",
              "std      7.254545  \n",
              "min      1.730000  \n",
              "25%      6.890000  \n",
              "50%     11.395000  \n",
              "75%     17.092500  \n",
              "max     37.970000  "
            ]
          },
          "execution_count": 69,
          "metadata": {},
          "output_type": "execute_result"
        }
      ],
      "source": [
        "import pandas as df\n",
        "\n",
        "df.DataFrame(train_data).describe()"
      ]
    },
    {
      "cell_type": "markdown",
      "metadata": {
        "id": "gmoP7V0NH8KV"
      },
      "source": [
        "**데이터 정규화**\n",
        "\n",
        "따라서 모든 특성의 값을 **정규화** 해주어야 모델 훈련이 더 잘된다.\n",
        "모든 특성값들을 특성별로 표준 정규분포를 따르도록 한다. \n",
        "즉, 평균값 0, 표준편차 1이 되도록 특성값을 특성별로 변환한다.\n",
        "\n",
        "**주의사항**: 테스트셋의 정규화는 훈련셋의 평균값과 표준편차를 이용해야 한다.\n",
        "이유는 테스트셋의 정보는 모델 훈련에 절대로 사용되지 않아야 하기 때문이다. "
      ]
    },
    {
      "cell_type": "code",
      "execution_count": null,
      "metadata": {
        "id": "XblBt76rH8KV"
      },
      "outputs": [],
      "source": [
        "# 훈련셋의 평균값\n",
        "mean = train_data.mean(axis=0)\n",
        "\n",
        "# 훈련셋 정규화\n",
        "train_data -= mean\n",
        "std = train_data.std(axis=0)\n",
        "train_data /= std\n",
        "\n",
        "# 테스트셋 정규화: 훈련셋의 평균값과 표준편차 활용\n",
        "test_data -= mean\n",
        "test_data /= std"
      ]
    },
    {
      "cell_type": "markdown",
      "metadata": {
        "id": "F6D-Q--zH8KV"
      },
      "source": [
        "### 모델 구현"
      ]
    },
    {
      "cell_type": "markdown",
      "metadata": {
        "id": "-W3NGvY9H8KV"
      },
      "source": [
        "**모델 정의**"
      ]
    },
    {
      "cell_type": "markdown",
      "metadata": {
        "id": "MTzhXLVJH8KV"
      },
      "source": [
        "이전과는 달리 모델 구성과 컴파일을 동시에 진행하는 함수를 이용한다.\n",
        "\n",
        "- 은닉층: 데이터셋이 작으므로 두 개만 사용.\n",
        "- 각 은닉층의 유닛 수: 인자로 받도록 함. 아래 예제에서는 64 사용.\n",
        "- 마지막 층: 활성화 함수 없음. 회귀 모델이기 때문임.\n",
        "- 손실함수: **평균제곱오차**(mse). 회귀 모델의 일반적인 손실함수\n",
        "- 평가지표: **평균절대오차**(mae, mean absolute error)\n",
        "\n",
        "**참고**: 데이터셋이 클 수록 보다 많은 층과 보다 많은 유닛 사용하는 것이 일반적임."
      ]
    },
    {
      "cell_type": "code",
      "execution_count": null,
      "metadata": {
        "id": "Dbb_7_zjH8KV"
      },
      "outputs": [],
      "source": [
        "def build_model():\n",
        "    model = keras.Sequential([\n",
        "        layers.Dense(64, activation=\"relu\"),\n",
        "        layers.Dense(64, activation=\"relu\"),\n",
        "        layers.Dense(1)\n",
        "    ])\n",
        "    model.compile(optimizer=\"rmsprop\", loss=\"mse\", metrics=[\"mae\"])\n",
        "    return model"
      ]
    },
    {
      "cell_type": "markdown",
      "metadata": {
        "id": "XHKoRxtfH8KV"
      },
      "source": [
        "### K-겹 교차검증 활용"
      ]
    },
    {
      "cell_type": "markdown",
      "metadata": {
        "id": "N3-xIOxlH8KV"
      },
      "source": [
        "데이터셋이 작기에 훈련 중에 사용할 검증 세트를 따로 분리하는 것은 훈련의 효율성을 떨어뜨린다.\n",
        "대신에 **K-겹 교차검증**을(K-fold cross-validation) 사용한다.\n",
        "아래 이미지는 3-겹 교차검증을 사용할 때 훈련 중에 사용되는 훈련셋과 검증셋의 사용법을 보여준다."
      ]
    },
    {
      "cell_type": "markdown",
      "metadata": {
        "id": "C0yxmBOZH8KV"
      },
      "source": [
        "<div align=\"center\"><img src=\"https://drek4537l1klr.cloudfront.net/chollet2/v-7/Figures/3-fold-cross-validation.png\" style=\"width:600px;\"></div>\n",
        "\n",
        "그림 출처: [Deep Learning with Python(Manning MEAP)](https://www.manning.com/books/deep-learning-with-python-second-edition)"
      ]
    },
    {
      "cell_type": "markdown",
      "metadata": {
        "id": "N35WU4bgH8KW"
      },
      "source": [
        "**예제: 4-겹 교차검증**\n",
        "\n",
        "- 에포크 수: 500\n",
        "- `validation_data` 옵션 인자 활용\n",
        "    - 교차검증과 에포크마다 평가지표 저장됨.\n",
        "- `verbose=0`: 손실값과 평가지표를 출력하지 않음."
      ]
    },
    {
      "cell_type": "code",
      "execution_count": null,
      "metadata": {
        "id": "Hzb2gzaNH8KW",
        "outputId": "ab8d4693-f4e1-4cb0-f193-be280548c56c"
      },
      "outputs": [
        {
          "name": "stdout",
          "output_type": "stream",
          "text": [
            "1번 째 폴드(fold) 훈련 시작\n",
            "2번 째 폴드(fold) 훈련 시작\n",
            "3번 째 폴드(fold) 훈련 시작\n",
            "4번 째 폴드(fold) 훈련 시작\n"
          ]
        }
      ],
      "source": [
        "k = 4\n",
        "num_val_samples = len(train_data) // k\n",
        "\n",
        "num_epochs = 500\n",
        "all_mae_histories = []   # 모든 에포크에 대한 평균절대오차 저장\n",
        "\n",
        "for i in range(k):       # 교차 검증\n",
        "    \n",
        "    print(f\"{i+1}번 째 폴드(fold) 훈련 시작\")\n",
        "\n",
        "    val_data = train_data[i * num_val_samples: (i + 1) * num_val_samples]\n",
        "    val_targets = train_targets[i * num_val_samples: (i + 1) * num_val_samples]\n",
        "\n",
        "    partial_train_data = np.concatenate(\n",
        "        [train_data[:i * num_val_samples],\n",
        "         train_data[(i + 1) * num_val_samples:]],\n",
        "        axis=0)\n",
        "    partial_train_targets = np.concatenate(\n",
        "        [train_targets[:i * num_val_samples],\n",
        "         train_targets[(i + 1) * num_val_samples:]],\n",
        "        axis=0)\n",
        "    \n",
        "    model = build_model()    # 유닛 수: 64\n",
        "    history = model.fit(partial_train_data, partial_train_targets,\n",
        "                        validation_data=(val_data, val_targets),\n",
        "                        epochs=num_epochs, batch_size=16, verbose=0)\n",
        "    \n",
        "    mae_history = history.history[\"val_mae\"]\n",
        "    all_mae_histories.append(mae_history)"
      ]
    },
    {
      "cell_type": "markdown",
      "metadata": {
        "id": "UYGpSQWgH8KW"
      },
      "source": [
        "**K-겹 교차검증 훈련 과정 그래프: 평가지표 기준**\n",
        "\n",
        "500번의 에포크마다 4 번의 교차 검증을 진행하였기에\n",
        "에포크 별로 검증세트를 대상으로하는 평균절대오차의 평균값을 계산한다."
      ]
    },
    {
      "cell_type": "code",
      "execution_count": null,
      "metadata": {
        "id": "5-F7yjCuH8KW"
      },
      "outputs": [],
      "source": [
        "average_mae_history = [\n",
        "    np.mean([x[i] for x in all_mae_histories]) for i in range(num_epochs)]"
      ]
    },
    {
      "cell_type": "markdown",
      "metadata": {
        "id": "VbFYGQXNH8KW"
      },
      "source": [
        "에포크별 평균절대오차의 평균값의 변화를 그래프로 그리면 다음과 같다."
      ]
    },
    {
      "cell_type": "code",
      "execution_count": null,
      "metadata": {
        "id": "6DsdLUJ2H8KW",
        "outputId": "23474aa9-cc94-460f-82e4-704579ce0140"
      },
      "outputs": [
        {
          "data": {
            "image/png": "[encoded data removed]",
            "text/plain": [
              "<Figure size 432x288 with 1 Axes>"
            ]
          },
          "metadata": {
            "needs_background": "light"
          },
          "output_type": "display_data"
        }
      ],
      "source": [
        "plt.plot(range(1, len(average_mae_history) + 1), average_mae_history)\n",
        "\n",
        "plt.xlabel(\"Epochs\")\n",
        "plt.ylabel(\"Validation MAE\")\n",
        "plt.show()"
      ]
    },
    {
      "cell_type": "markdown",
      "metadata": {
        "id": "EC87LIIbH8KW"
      },
      "source": [
        "첫 10개의 에포크의 성능이 매우 나쁘기에 그 부분을 제외하고 그래프를 그리면 보다 정확하게 \n",
        "변환 과정을 파악할 수 있다."
      ]
    },
    {
      "cell_type": "code",
      "execution_count": null,
      "metadata": {
        "id": "BcUYevgKH8KW",
        "outputId": "130b32f6-c61e-47b5-c9f5-a4628fe4bd00"
      },
      "outputs": [
        {
          "data": {
            "image/png": "[encoded data removed]",
            "text/plain": [
              "<Figure size 432x288 with 1 Axes>"
            ]
          },
          "metadata": {
            "needs_background": "light"
          },
          "output_type": "display_data"
        }
      ],
      "source": [
        "truncated_mae_history = average_mae_history[10:]\n",
        "\n",
        "plt.plot(range(1, len(truncated_mae_history) + 1), truncated_mae_history)\n",
        "plt.xlabel(\"Epochs\")\n",
        "plt.ylabel(\"Validation MAE\")\n",
        "plt.show()"
      ]
    },
    {
      "cell_type": "markdown",
      "metadata": {
        "id": "jKK0iqvbH8KX"
      },
      "source": [
        "**재훈련**\n",
        "\n",
        "- 130번 째 에포크를 전후로 과대적합 발생함.\n",
        "- 130번의 에포크만 사용해서 모델 재훈련"
      ]
    },
    {
      "cell_type": "code",
      "execution_count": null,
      "metadata": {
        "id": "z3nriub_H8KX",
        "outputId": "09cd7382-13fa-4d9a-f2b7-fd2c40e94416"
      },
      "outputs": [
        {
          "data": {
            "text/plain": [
              "<keras.callbacks.History at 0x2cf386a5670>"
            ]
          },
          "execution_count": 76,
          "metadata": {},
          "output_type": "execute_result"
        }
      ],
      "source": [
        "model = build_model()\n",
        "model.fit(train_data, train_targets,\n",
        "          epochs=130, batch_size=16, verbose=0)"
      ]
    },
    {
      "cell_type": "markdown",
      "metadata": {
        "id": "6S2ZutIcH8KX"
      },
      "source": [
        "재훈련된 모델의 테스트셋에 대한 성능을 평가하면 \n",
        "주택가격 예측에 있어서 평균적으로 2,500달러 정도의 차이를 갖는다."
      ]
    },
    {
      "cell_type": "code",
      "execution_count": null,
      "metadata": {
        "id": "T9lkCurOH8KX",
        "outputId": "4f548c58-b4ff-4437-99f5-b04b293b576f"
      },
      "outputs": [
        {
          "name": "stdout",
          "output_type": "stream",
          "text": [
            "4/4 [==============================] - 0s 0s/step - loss: 15.9659 - mae: 2.5950\n"
          ]
        },
        {
          "data": {
            "text/plain": [
              "2.5949742794036865"
            ]
          },
          "execution_count": 77,
          "metadata": {},
          "output_type": "execute_result"
        }
      ],
      "source": [
        "test_mse_score, test_mae_score = model.evaluate(test_data, test_targets)\n",
        "test_mae_score"
      ]
    },
    {
      "cell_type": "markdown",
      "metadata": {
        "id": "-FUi8uo4H8KX"
      },
      "source": [
        "### 모델 활용\n",
        "\n",
        "- 새로운 데이터에 대한 예측은 `predict()` 메서드를 활용한다. "
      ]
    },
    {
      "cell_type": "code",
      "execution_count": null,
      "metadata": {
        "id": "RLilW9GXH8KX",
        "outputId": "08bd1b2f-9160-4bd4-c2a0-6eb381c67896"
      },
      "outputs": [
        {
          "data": {
            "text/plain": [
              "array([8.091597], dtype=float32)"
            ]
          },
          "execution_count": 78,
          "metadata": {},
          "output_type": "execute_result"
        }
      ],
      "source": [
        "predictions = model.predict(test_data)\n",
        "predictions[0]"
      ]
    },
    {
      "cell_type": "markdown",
      "metadata": {
        "id": "fBgKal6JH8KX"
      },
      "source": [
        "### 연습문제"
      ]
    },
    {
      "cell_type": "markdown",
      "metadata": {
        "id": "UV2Fir--H8KX"
      },
      "source": [
        "사이킷런의 `KFold`를 이용하면 봅다 간단하게 K-겹 교차검증을 진행할 수 있다."
      ]
    },
    {
      "cell_type": "code",
      "execution_count": null,
      "metadata": {
        "id": "v4jaA1zQH8KX"
      },
      "outputs": [],
      "source": [
        "from sklearn.model_selection import KFold\n",
        "\n",
        "k = 4\n",
        "num_epochs = 500\n",
        "\n",
        "kf = KFold(n_splits=k)\n",
        "all_mae_histories = []\n",
        "\n",
        "for train_index, val_index in kf.split(train_data, train_targets):\n",
        "    \n",
        "    val_data, val_targets = train_data[val_index], train_targets[val_index]\n",
        "    partial_train_data, partial_train_targets = train_data[train_index], train_targets[train_index]\n",
        "    \n",
        "    model = build_model()\n",
        "    history = model.fit(partial_train_data, partial_train_targets,\n",
        "                        validation_data=(val_data, val_targets),\n",
        "                        epochs=num_epochs, batch_size=16, verbose=0)\n",
        "\n",
        "    mae_history = history.history[\"val_mae\"]    \n",
        "    all_mae_histories.append(mae_history)"
      ]
    },
    {
      "cell_type": "code",
      "execution_count": null,
      "metadata": {
        "id": "VZ57nDwmH8KX",
        "outputId": "579a9260-27b4-48d8-fbc0-e6db6d985991"
      },
      "outputs": [
        {
          "name": "stdout",
          "output_type": "stream",
          "text": [
            "4/4 [==============================] - 0s 0s/step - loss: 15.7864 - mae: 2.7254\n"
          ]
        },
        {
          "data": {
            "text/plain": [
              "2.725350856781006"
            ]
          },
          "execution_count": 80,
          "metadata": {},
          "output_type": "execute_result"
        }
      ],
      "source": [
        "test_mse_score, test_mae_score = model.evaluate(test_data, test_targets)\n",
        "test_mae_score"
      ]
    }
  ],
  "metadata": {
    "colab": {
      "name": "dlp04-started_with_neural_networks",
      "provenance": [],
      "toc_visible": true
    },
    "kernelspec": {
      "display_name": "Python 3",
      "language": "python",
      "name": "python3"
    },
    "language_info": {
      "codemirror_mode": {
        "name": "ipython",
        "version": 3
      },
      "file_extension": ".py",
      "mimetype": "text/x-python",
      "name": "python",
      "nbconvert_exporter": "python",
      "pygments_lexer": "ipython3",
      "version": "3.8.8"
    }
  },
  "nbformat": 4,
  "nbformat_minor": 0
}