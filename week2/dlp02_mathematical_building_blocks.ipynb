{
  "cells": [
    {
      "cell_type": "markdown",
      "metadata": {
        "id": "mVQRmnUdCiKS"
      },
      "source": [
        "# 2장 신경망의 수학적 구성 요소"
      ]
    },
    {
      "cell_type": "markdown",
      "metadata": {
        "id": "0nxhP_0vCiKT"
      },
      "source": [
        "__감사말__: 프랑소와 숄레의 [Deep Learning with Python, Second Edition](https://www.manning.com/books/deep-learning-with-python-second-edition?a_aid=keras&a_bid=76564dff) 2장에 사용된 코드에 대한 설명을 담고 있으며 텐서플로우 2.6 버전에서 작성되었습니다. 소스코드를 공개한 저자에게 감사드립니다."
      ]
    },
    {
      "cell_type": "markdown",
      "metadata": {
        "id": "zvhWpecUCiKU"
      },
      "source": [
        "__구글 코랩 설정__: '런타임 -> 런타임 유형 변경' 메뉴에서 GPU를 지정한다.\n",
        "이후 아래 명령어를 실행했을 때 오류가 발생하지 않으면 필요할 때 GPU가 자동 사용된다.\n",
        "\n",
        "```\n",
        "!nvidia-smi\n",
        "```\n",
        "\n",
        "구글 코랩에서 사용되는 tensorflow 버전을 확인하려면 아래 명령문을 실행한다.\n",
        "\n",
        "```python\n",
        "import tensorflow as tf\n",
        "tf.__version__\n",
        "```\n",
        "\n",
        "tensorflow가 GPU를 사용하는지 여부를 알고 싶으면 \n",
        "주피터 노트북 등 사용하는 편집기 및 파이썬 터미널에서 아래 명령문을 실행한다.\n",
        "\n",
        "```python\n",
        "import tensorflow as tf\n",
        "tf.config.list_physical_devices('GPU')\n",
        "```"
      ]
    },
    {
      "cell_type": "markdown",
      "metadata": {
        "id": "ZjpBLj-oCiKU"
      },
      "source": [
        "## 2.1 신경망 소개"
      ]
    },
    {
      "cell_type": "markdown",
      "metadata": {
        "id": "pDdGhScrCiKV"
      },
      "source": [
        "**케라스로 MNIST 데이터셋 불러오기**\n",
        "\n",
        "- 손글씨 숫자 인식 용도 데이터셋: 70,000개의 샘플 포함\n",
        "- 레이블(타깃): 0부터 9까지 10개의 범주(category, class)\n",
        "- 훈련 세트\n",
        "    - 모델 학습 용도\n",
        "    - 샘플: 28x28 픽셀 크기의 이미지 60,000개\n",
        "- 테스트 세트\n",
        "    - 학습된 모델 성능 테스트 용도\n",
        "    - 샘플: 28x28 픽셀 크기의 이미지 10,000개"
      ]
    },
    {
      "cell_type": "code",
      "execution_count": 28,
      "metadata": {
        "id": "H5EObzPSCiKV",
        "outputId": "8c94d37c-6407-481a-86d4-bef5f0084888",
        "colab": {
          "base_uri": "https://localhost:8080/"
        }
      },
      "outputs": [
        {
          "output_type": "stream",
          "name": "stdout",
          "text": [
            "Downloading data from https://storage.googleapis.com/tensorflow/tf-keras-datasets/mnist.npz\n",
            "11490434/11490434 [==============================] - 0s 0us/step\n"
          ]
        }
      ],
      "source": [
        "from tensorflow.keras.datasets import mnist\n",
        "(train_images, train_labels), (test_images, test_labels) = mnist.load_data()"
      ]
    },
    {
      "cell_type": "code",
      "execution_count": 29,
      "metadata": {
        "id": "IjX4WHYQCiKW",
        "outputId": "115dadd2-2284-4391-de9f-ee60606ece2f",
        "colab": {
          "base_uri": "https://localhost:8080/"
        }
      },
      "outputs": [
        {
          "output_type": "execute_result",
          "data": {
            "text/plain": [
              "(60000, 28, 28)"
            ]
          },
          "metadata": {},
          "execution_count": 29
        }
      ],
      "source": [
        "train_images.shape"
      ]
    },
    {
      "cell_type": "code",
      "execution_count": 3,
      "metadata": {
        "id": "DLUiG7esCiKX",
        "outputId": "5eb34b0d-4f0c-4844-fcf6-f588e06cdbf7",
        "colab": {
          "base_uri": "https://localhost:8080/"
        }
      },
      "outputs": [
        {
          "output_type": "execute_result",
          "data": {
            "text/plain": [
              "60000"
            ]
          },
          "metadata": {},
          "execution_count": 3
        }
      ],
      "source": [
        "len(train_labels)"
      ]
    },
    {
      "cell_type": "code",
      "execution_count": 4,
      "metadata": {
        "id": "R4bUOl6DCiKX",
        "outputId": "80f922c9-1a52-4d0c-daaf-56536ac87d4d",
        "colab": {
          "base_uri": "https://localhost:8080/"
        }
      },
      "outputs": [
        {
          "output_type": "execute_result",
          "data": {
            "text/plain": [
              "array([5, 0, 4, ..., 5, 6, 8], dtype=uint8)"
            ]
          },
          "metadata": {},
          "execution_count": 4
        }
      ],
      "source": [
        "train_labels"
      ]
    },
    {
      "cell_type": "code",
      "execution_count": 5,
      "metadata": {
        "id": "RuaNy0UnCiKX",
        "outputId": "d7067891-626e-45ea-bf45-fb31247e6a85",
        "colab": {
          "base_uri": "https://localhost:8080/"
        }
      },
      "outputs": [
        {
          "output_type": "execute_result",
          "data": {
            "text/plain": [
              "(10000, 28, 28)"
            ]
          },
          "metadata": {},
          "execution_count": 5
        }
      ],
      "source": [
        "test_images.shape"
      ]
    },
    {
      "cell_type": "code",
      "execution_count": 6,
      "metadata": {
        "id": "gMajCgulCiKX",
        "outputId": "ff540967-82e1-4ab4-ee78-69788fc5138e",
        "colab": {
          "base_uri": "https://localhost:8080/"
        }
      },
      "outputs": [
        {
          "output_type": "execute_result",
          "data": {
            "text/plain": [
              "10000"
            ]
          },
          "metadata": {},
          "execution_count": 6
        }
      ],
      "source": [
        "len(test_labels)"
      ]
    },
    {
      "cell_type": "code",
      "execution_count": 7,
      "metadata": {
        "id": "neLFUt-JCiKY",
        "outputId": "08446c2d-fb91-4b7e-b3ad-ab3ad122cb1e",
        "colab": {
          "base_uri": "https://localhost:8080/"
        }
      },
      "outputs": [
        {
          "output_type": "execute_result",
          "data": {
            "text/plain": [
              "array([7, 2, 1, ..., 4, 5, 6], dtype=uint8)"
            ]
          },
          "metadata": {},
          "execution_count": 7
        }
      ],
      "source": [
        "test_labels"
      ]
    },
    {
      "cell_type": "markdown",
      "metadata": {
        "id": "wkHcfFanCiKY"
      },
      "source": [
        "**신경망 구조 지정**\n",
        "\n",
        "아래 신경망의 구조는 다음과 같다.\n",
        "\n",
        "- 층(layer)\n",
        "    - 2개의 Dense 층 사용\n",
        "    - 입력 데이터로부터 __표현__(representation) 추출. 즉 입력 데이터를 새로운 표현으로 변환.\n",
        "    - 일종의 __데이터 정제__를 위한 필터 역할 수행\n",
        "- 층 연결\n",
        "    - `Sequential` 모델 활용\n",
        "    - 완전 연결(fully connected). 조밀(densely)하게 연결되었다고 함.\n",
        "- 첫째 층\n",
        "    - 512개의 유닛(unit) 사용. 즉 512개의 특성값으로 이루어진 표현 추출.\n",
        "    - 활성화 함수(activation function): 렐루(relu) 함수\n",
        "- 둘째 층\n",
        "    - 10개의 유닛 사용. 10개의 범주를 대상으로 해당 범부에 속할 확률 계산.\n",
        "        모든 확률의 합은 1.\n",
        "    - 활성화 함수: 소프트맥스(softmax) 함수"
      ]
    },
    {
      "cell_type": "code",
      "execution_count": 47,
      "metadata": {
        "id": "1gxf3tOwCiKY"
      },
      "outputs": [],
      "source": [
        "from tensorflow import keras\n",
        "from tensorflow.keras import layers\n",
        "model = keras.Sequential([\n",
        "    layers.Dense(512, activation=\"relu\"),\n",
        "    layers.Dense(10, activation=\"softmax\")\n",
        "])"
      ]
    },
    {
      "cell_type": "markdown",
      "metadata": {
        "id": "2FwsbVjbCiKY"
      },
      "source": [
        "**신경망 컴파일**\n",
        "\n",
        "구조가 지정된 신경망을 훈련이 가능한 모델로 만드는 과정이며 \n",
        "아래 세 가지 사항이 지정되어야 한다.\n",
        "\n",
        "- __옵티마이저__(optimizer): 모델의 성능을 향상시키는 방향으로 가중치를 업데이트하는 알고리즘\n",
        "- __손실 함수__(loss function): 훈련 중 성능 측정 기준\n",
        "- __모니터링 지표__: 훈련과 테스트 과정을 모니터링 할 때 사용되는 평가 지표(metric).\n",
        "    손실 함수값을 사용할 수도 있고 아닐 수도 있음. \n",
        "    아래 코드에서는 정확도(accuracy)만 사용."
      ]
    },
    {
      "cell_type": "code",
      "execution_count": 9,
      "metadata": {
        "id": "u7CLev6qCiKY"
      },
      "outputs": [],
      "source": [
        "model.compile(optimizer=\"rmsprop\",\n",
        "              loss=\"sparse_categorical_crossentropy\",\n",
        "              metrics=[\"accuracy\"])"
      ]
    },
    {
      "cell_type": "markdown",
      "metadata": {
        "id": "jRcnAWiOCiKZ"
      },
      "source": [
        "**이미지 데이터 전처리**\n",
        "\n",
        "모델이 사용하기 좋은 방식으로 데이터셋의 표현을 0과 1사이의 값으로 구성된\n",
        "2차원 어레이로 변환한다. \n",
        "즉, 0부터 255 사이의 정수로 이루어진 `(28, 28)` 모양의 2차원 어레이로 표현된 이미지를\n",
        "0부터 1 사이의 부동소수점으로 이루어진 `(28*28, )` 모양의 1차원 어레이로 변환한다.\n",
        "\n",
        "- 훈련 세트 어레이 모양: `(60000, 28*28)`\n",
        "- 테스트 세트 어레이 모양: `(10000, 28*28)`"
      ]
    },
    {
      "cell_type": "markdown",
      "metadata": {
        "id": "ZB6Ft7VvCiKZ"
      },
      "source": [
        "<div align=\"center\"><img src=\"https://lh3.googleusercontent.com/LDpYKmElX5GwHgDwT2x2IyKMgUflP3cQ3ZiHuNCaf04b4AXwk04stNgr0-YymwJRFrxKpW9gxaxbYBnwyKflVVFGQ0kRYgsVDGgHFveaQRaBH5dxs78MgHkQvn5FHsjhZjIbj-WW2NI\" style=\"width:700px;\"></div>\n",
        "\n",
        "그림 출처: [생활코딩: 한 페이지 머신러닝](https://www.opentutorials.org/module/3653/22060)"
      ]
    },
    {
      "cell_type": "code",
      "execution_count": 10,
      "metadata": {
        "id": "zxLCvkvwCiKZ"
      },
      "outputs": [],
      "source": [
        "train_images = train_images.reshape((60000, 28 * 28))\n",
        "train_images = train_images.astype(\"float32\") / 255   # 0과 1사이의 값\n",
        "test_images = test_images.reshape((10000, 28 * 28))\n",
        "test_images = test_images.astype(\"float32\") / 255     # 0과 1사이의 값"
      ]
    },
    {
      "cell_type": "markdown",
      "metadata": {
        "id": "aIWsJ4jBCiKZ"
      },
      "source": [
        "**모델 훈련**\n",
        "\n",
        "컴파일된 객체 모델을 훈련한다. \n",
        "\n",
        "- `fit()` 메서드 호출: 훈련 세트와 레이블을 인자로 사용\n",
        "- `epoths`: 에포크(전체 훈련 세트 대상 반복 훈련 횟수)\n",
        "- `batch_size`: 가중치 업데이트 한 번 실행할 때 사용되는 샘플 수"
      ]
    },
    {
      "cell_type": "code",
      "execution_count": 11,
      "metadata": {
        "id": "FcvOjNS4CiKZ",
        "outputId": "07897870-9713-4ec6-e475-e5fc55e535c3",
        "colab": {
          "base_uri": "https://localhost:8080/"
        }
      },
      "outputs": [
        {
          "output_type": "stream",
          "name": "stdout",
          "text": [
            "Epoch 1/5\n",
            "469/469 [==============================] - 7s 3ms/step - loss: 0.2640 - accuracy: 0.9244\n",
            "Epoch 2/5\n",
            "469/469 [==============================] - 1s 3ms/step - loss: 0.1069 - accuracy: 0.9685\n",
            "Epoch 3/5\n",
            "469/469 [==============================] - 1s 3ms/step - loss: 0.0704 - accuracy: 0.9793\n",
            "Epoch 4/5\n",
            "469/469 [==============================] - 1s 3ms/step - loss: 0.0505 - accuracy: 0.9853\n",
            "Epoch 5/5\n",
            "469/469 [==============================] - 1s 3ms/step - loss: 0.0380 - accuracy: 0.9889\n"
          ]
        },
        {
          "output_type": "execute_result",
          "data": {
            "text/plain": [
              "<keras.callbacks.History at 0x7f0009dd9d30>"
            ]
          },
          "metadata": {},
          "execution_count": 11
        }
      ],
      "source": [
        "model.fit(train_images, train_labels, epochs=5, batch_size=128)"
      ]
    },
    {
      "cell_type": "markdown",
      "metadata": {
        "id": "j15xbLwzCiKZ"
      },
      "source": [
        "훈련 세트 대상으로 최종 98.98%의 정확도 성능을 보인다."
      ]
    },
    {
      "cell_type": "markdown",
      "metadata": {
        "id": "ZUIFviaACiKa"
      },
      "source": [
        "**모델 활용: 예측하기**\n",
        "\n",
        "훈련에 사용되지 않은 손글씨 숫자 이미지 10장에 대한 모델 예측값을 확인하기 위해\n",
        "`predict()` 메서드를 이용한다."
      ]
    },
    {
      "cell_type": "code",
      "execution_count": 12,
      "metadata": {
        "id": "lBz0EZe5CiKa",
        "outputId": "b6fac36a-446a-4d8b-9204-08a8bd74e24b",
        "colab": {
          "base_uri": "https://localhost:8080/"
        }
      },
      "outputs": [
        {
          "output_type": "stream",
          "name": "stdout",
          "text": [
            "1/1 [==============================] - 0s 71ms/step\n"
          ]
        }
      ],
      "source": [
        "test_digits = test_images[0:10]\n",
        "predictions = model.predict(test_digits)"
      ]
    },
    {
      "cell_type": "markdown",
      "metadata": {
        "id": "XqEhLwzACiKa"
      },
      "source": [
        "각 이미지에 대한 예측값은 이미지가 각 범주에 속할 확률을 갖는 \n",
        "길이가 10인 1차원 어레이로 계산된다.\n",
        "첫째 이미지에 대한 예측값은 다음과 같다."
      ]
    },
    {
      "cell_type": "code",
      "execution_count": 14,
      "metadata": {
        "id": "ZpepRs6HCiKa",
        "outputId": "94d6cfc9-94aa-4a28-b27a-08889974056b",
        "colab": {
          "base_uri": "https://localhost:8080/"
        }
      },
      "outputs": [
        {
          "output_type": "execute_result",
          "data": {
            "text/plain": [
              "array([2.6451829e-08, 3.8050256e-08, 2.3550742e-06, 1.4879255e-04,\n",
              "       8.4649912e-11, 5.7817445e-08, 2.3581415e-12, 9.9984765e-01,\n",
              "       4.3712564e-07, 6.1183482e-07], dtype=float32)"
            ]
          },
          "metadata": {},
          "execution_count": 14
        }
      ],
      "source": [
        "predictions[0]"
      ]
    },
    {
      "cell_type": "markdown",
      "metadata": {
        "id": "SENUJiBzCiKa"
      },
      "source": [
        "가장 높은 확률값을 갖는 인덱스는 7이다."
      ]
    },
    {
      "cell_type": "code",
      "execution_count": 15,
      "metadata": {
        "id": "dQGvEYbrCiKa",
        "outputId": "022ba1ec-5abc-4e00-e767-72dbd7723527",
        "colab": {
          "base_uri": "https://localhost:8080/"
        }
      },
      "outputs": [
        {
          "output_type": "execute_result",
          "data": {
            "text/plain": [
              "7"
            ]
          },
          "metadata": {},
          "execution_count": 15
        }
      ],
      "source": [
        "predictions[0].argmax()"
      ]
    },
    {
      "cell_type": "markdown",
      "metadata": {
        "id": "oQCqpX9GCiKa"
      },
      "source": [
        "첫째 이미지가 가리키는 숫자가 7일 확률이 99.99%이다."
      ]
    },
    {
      "cell_type": "code",
      "execution_count": 16,
      "metadata": {
        "id": "UtrSXM_bCiKb",
        "outputId": "2d0dfdd3-30fd-44be-e543-41baaed4c3ca",
        "colab": {
          "base_uri": "https://localhost:8080/"
        }
      },
      "outputs": [
        {
          "output_type": "execute_result",
          "data": {
            "text/plain": [
              "0.99984765"
            ]
          },
          "metadata": {},
          "execution_count": 16
        }
      ],
      "source": [
        "predictions[0][7]"
      ]
    },
    {
      "cell_type": "markdown",
      "metadata": {
        "id": "wOdpKLLtCiKb"
      },
      "source": [
        "실제로 첫째 이미지의 레이블이 7임을 확인할 수 있다."
      ]
    },
    {
      "cell_type": "code",
      "execution_count": null,
      "metadata": {
        "id": "904uXDy_CiKb",
        "outputId": "187726de-1716-4506-b4c4-5264c3900a0d"
      },
      "outputs": [
        {
          "data": {
            "text/plain": [
              "7"
            ]
          },
          "execution_count": 16,
          "metadata": {},
          "output_type": "execute_result"
        }
      ],
      "source": [
        "test_labels[0]"
      ]
    },
    {
      "cell_type": "markdown",
      "metadata": {
        "id": "WbMD7HEVCiKb"
      },
      "source": [
        "**테스트 성능**\n",
        "\n",
        "테스트 세트 전체에 대한 성능 평가는 `evaluate()` 메서드를 활용한다.\n",
        "성능평가에 사용되는 지표는 앞서 모델을 컴파일할 때 지정한 정확도(accuracy)가 사용된다."
      ]
    },
    {
      "cell_type": "code",
      "execution_count": null,
      "metadata": {
        "id": "DeTzcOJECiKb",
        "outputId": "9224034c-5440-40e5-97b2-dabca071e821"
      },
      "outputs": [
        {
          "name": "stdout",
          "output_type": "stream",
          "text": [
            "313/313 [==============================] - 0s 674us/step - loss: 0.0691 - accuracy: 0.9790\n",
            "test_acc: 0.9789999723434448\n"
          ]
        }
      ],
      "source": [
        "test_loss, test_acc = model.evaluate(test_images, test_labels)\n",
        "print(f\"test_acc: {test_acc}\")"
      ]
    },
    {
      "cell_type": "markdown",
      "metadata": {
        "id": "04q-QMM3CiKb"
      },
      "source": [
        "테스트 세트에 대한 정확도는 98% 정도이며 훈련 세트에 대한 정확도 보다 낮다.\n",
        "이는 모델이 훈련 세트에 __과대적합__(overfitting) 되었음을 의미한다. \n",
        "과대적합에 대해서는 나중에 보다 자세히 다룰 것이다."
      ]
    },
    {
      "cell_type": "markdown",
      "metadata": {
        "id": "XHcNjqHCCiKb"
      },
      "source": [
        "## 2.2 신경망에 사용되는 데이터 표현"
      ]
    },
    {
      "cell_type": "markdown",
      "metadata": {
        "id": "6i4FmjYbCiKc"
      },
      "source": [
        "앞서 __텐서__(tensor)라고 불리는 넘파이 어레이(NumPy array)를 이용하여\n",
        "데이터를 표현하였다.\n",
        "\n",
        "텐서는 기본적으로 숫자를 담은 컨테이너(container)이며,\n",
        "행렬의 경우 2 개의 차원으로 구성된 텐서로 표현된다. \n",
        "텐서의 차원은 임의로 많을 수 있으며, 텐서에 사용되는 차원을 __축__(axis)이라 부르기도 한다. \n",
        "차원의 수를 랭크(rank)라 부른다.\n",
        "즉 행렬은 랭크가 2인 텐서이다.\n",
        "\n",
        "__주의사항__: tensorflow 라이브러리가 제공하는 `Tensor` 자료형은 NumPy의 어레이\n",
        "자료형과 매우 비슷하다. 다만 `Tensor`는 GPU를 활용한 연산을 지원하고\n",
        "넘파이 어레이는 그렇지 않다. \n",
        "하지만 두 자료형 사이의 형변환이 존재하여 keras 모델 훈련 등 \n",
        "필요할 때 적절한 형변환이 자동으로 이루어진다. "
      ]
    },
    {
      "cell_type": "markdown",
      "metadata": {
        "id": "KjJZ74dPCiKc"
      },
      "source": [
        "### 스칼라(0D 텐서)\n",
        "\n",
        "숫자 하나로 이루어진 텐서를 __스칼라__(scalar)라고 하며,\n",
        "차원이 없다는 의미에서 0D 텐서로 부른다. \n",
        "넘파이의 경우 `float32`, `float64` 등이 스칼라이다."
      ]
    },
    {
      "cell_type": "code",
      "execution_count": 4,
      "metadata": {
        "id": "r71bK4T2CiKc",
        "outputId": "6d71823c-0672-40ff-df38-60382ed1b2f5",
        "colab": {
          "base_uri": "https://localhost:8080/"
        }
      },
      "outputs": [
        {
          "output_type": "execute_result",
          "data": {
            "text/plain": [
              "array(12)"
            ]
          },
          "metadata": {},
          "execution_count": 4
        }
      ],
      "source": [
        "import numpy as np\n",
        "\n",
        "x = np.array(12)\n",
        "x"
      ]
    },
    {
      "cell_type": "markdown",
      "metadata": {
        "id": "eQO5-KpjCiKc"
      },
      "source": [
        "텐서의 랭크는 `ndim` 속성이 가리킨다."
      ]
    },
    {
      "cell_type": "code",
      "execution_count": 19,
      "metadata": {
        "id": "ZmhiIdzLCiKc",
        "outputId": "d8073e79-7e2a-402a-ab9b-34672305e8a2",
        "colab": {
          "base_uri": "https://localhost:8080/"
        }
      },
      "outputs": [
        {
          "output_type": "execute_result",
          "data": {
            "text/plain": [
              "0"
            ]
          },
          "metadata": {},
          "execution_count": 19
        }
      ],
      "source": [
        "x.ndim"
      ]
    },
    {
      "cell_type": "markdown",
      "metadata": {
        "id": "qfbFJb_GCiKc"
      },
      "source": [
        "### 벡터 (1D 텐서)\n",
        "\n",
        "벡터는 1개의 차원(축)을 갖는다. \n",
        "넘파이의 경우 1차원 어레이가 벡터이다."
      ]
    },
    {
      "cell_type": "code",
      "execution_count": 20,
      "metadata": {
        "id": "rwSreqjICiKc",
        "outputId": "b177df8f-515c-4282-98f7-6d27ee153f1f",
        "colab": {
          "base_uri": "https://localhost:8080/"
        }
      },
      "outputs": [
        {
          "output_type": "execute_result",
          "data": {
            "text/plain": [
              "array([12,  3,  6, 14,  7])"
            ]
          },
          "metadata": {},
          "execution_count": 20
        }
      ],
      "source": [
        "x = np.array([12, 3, 6, 14, 7])\n",
        "x"
      ]
    },
    {
      "cell_type": "code",
      "execution_count": 21,
      "metadata": {
        "id": "9V4tgjnkCiKc",
        "outputId": "0fe7eb53-e0d2-40c5-d31e-3faf02a1e0b8",
        "colab": {
          "base_uri": "https://localhost:8080/"
        }
      },
      "outputs": [
        {
          "output_type": "execute_result",
          "data": {
            "text/plain": [
              "1"
            ]
          },
          "metadata": {},
          "execution_count": 21
        }
      ],
      "source": [
        "x.ndim"
      ]
    },
    {
      "cell_type": "markdown",
      "metadata": {
        "id": "4OYynyomCiKd"
      },
      "source": [
        "__주의사항__: __벡터의 길이__를 __차원__이라 부르기도 하는 점에 주의해야 한다.\n",
        "예를 들어, 위 벡터는 5D 벡터이다. "
      ]
    },
    {
      "cell_type": "markdown",
      "metadata": {
        "id": "PkHCA7WKCiKd"
      },
      "source": [
        "### 행렬(2D 텐서)\n",
        "\n",
        "행렬은 동일한 크기의 벡터로 이루어진 어레이며, \n",
        "행(row)과 열(column) 두 개의 축을 갖는다. \n",
        "넘파이의 2차원 어레이가 2D 텐서이다."
      ]
    },
    {
      "cell_type": "code",
      "execution_count": 4,
      "metadata": {
        "id": "jpZWki9pCiKd"
      },
      "outputs": [],
      "source": [
        "x = np.array([[5, 78, 2, 34, 0],\n",
        "              [6, 79, 3, 35, 1],\n",
        "              [7, 80, 4, 36, 2]])"
      ]
    },
    {
      "cell_type": "code",
      "execution_count": 5,
      "metadata": {
        "id": "lLI6pCUHCiKd",
        "outputId": "78801db3-6733-4062-b6bc-22887ad8d1b6",
        "colab": {
          "base_uri": "https://localhost:8080/"
        }
      },
      "outputs": [
        {
          "output_type": "execute_result",
          "data": {
            "text/plain": [
              "2"
            ]
          },
          "metadata": {},
          "execution_count": 5
        }
      ],
      "source": [
        "x.ndim"
      ]
    },
    {
      "cell_type": "markdown",
      "metadata": {
        "id": "S2x2fhF1CiKd"
      },
      "source": [
        "### 3D 이상의 고차원 텐서\n",
        "\n",
        "2D 텐서로 이루어진 어레이가 3D 텐서이며,\n",
        "이 과정을 반복해서 4D 이상의 고차원 텐서도 생성할 수 있다.\n",
        "딥러닝에서 다루는 텐서는 보통 최대 4D이며,\n",
        "동영상 데이터를 다룰 때 5D 텐서도 사용한다."
      ]
    },
    {
      "cell_type": "code",
      "execution_count": 6,
      "metadata": {
        "id": "ism5CMLjCiKd"
      },
      "outputs": [],
      "source": [
        "x = np.array([[[5, 78, 2, 34, 0],\n",
        "               [6, 79, 3, 35, 1],\n",
        "               [7, 80, 4, 36, 2]],\n",
        "              [[5, 78, 2, 34, 0],\n",
        "               [6, 79, 3, 35, 1],\n",
        "               [7, 80, 4, 36, 2]],\n",
        "              [[5, 78, 2, 34, 0],\n",
        "               [6, 79, 3, 35, 1],\n",
        "               [7, 80, 4, 36, 2]]])"
      ]
    },
    {
      "cell_type": "code",
      "execution_count": 7,
      "metadata": {
        "id": "df2bcJk-CiKd",
        "outputId": "99a3abe4-955f-4594-ba46-7764271b93cc",
        "colab": {
          "base_uri": "https://localhost:8080/"
        }
      },
      "outputs": [
        {
          "output_type": "execute_result",
          "data": {
            "text/plain": [
              "3"
            ]
          },
          "metadata": {},
          "execution_count": 7
        }
      ],
      "source": [
        "x.ndim"
      ]
    },
    {
      "cell_type": "markdown",
      "metadata": {
        "id": "eoP3VkxoCiKd"
      },
      "source": [
        "### 텐서의 주요 속성\n",
        "\n",
        "\n",
        "- 축의 수(랭크, `ndim`)\n",
        "    - 텐서에 사용된 축(차원)의 개수\n",
        "    - 음이 아닌 정수\n",
        "- 모양(`shape`)\n",
        "    - 각각의 축에 사용된 (벡터의) 차원 수\n",
        "    - 정수로 이루어진 튜플\n",
        "- 자료형(`dtype`)\n",
        "    - 텐서에 사용된 항목들의 (통일된) 자료형\n",
        "    - `float16`, `float32`,`float64`, `int8`, `string` 등이 가장 많이 사용됨.\n",
        "    - 8, 16, 32, 64 등의 숫자는 해당 숫자를 다루는 데 필요한 메모리의 비트(bit) 크기를 가리킴.\n",
        "        즉, 텐서에 사용되는 항목들을 일괄된 크기의 메모리로 처리함."
      ]
    },
    {
      "cell_type": "markdown",
      "metadata": {
        "id": "yEqMBr3RCiKe"
      },
      "source": [
        "MNIST 훈련 세트를 대상으로 언급된 속성을 확인해보자.\n",
        "앞서 모양을 변형하였기에 다시 원본 데이터를 불러온다."
      ]
    },
    {
      "cell_type": "code",
      "execution_count": 8,
      "metadata": {
        "id": "Ei3rXOGOCiKe",
        "outputId": "aaac6940-faad-43c3-e462-d640111930a3",
        "colab": {
          "base_uri": "https://localhost:8080/"
        }
      },
      "outputs": [
        {
          "output_type": "stream",
          "name": "stdout",
          "text": [
            "Downloading data from https://storage.googleapis.com/tensorflow/tf-keras-datasets/mnist.npz\n",
            "11490434/11490434 [==============================] - 0s 0us/step\n"
          ]
        }
      ],
      "source": [
        "from tensorflow.keras.datasets import mnist\n",
        "(train_images, train_labels), (test_images, test_labels) = mnist.load_data()"
      ]
    },
    {
      "cell_type": "code",
      "execution_count": 10,
      "metadata": {
        "id": "imqOB_K2CiKe",
        "outputId": "8db0ca25-8964-446f-ced3-25c347f9ede6",
        "colab": {
          "base_uri": "https://localhost:8080/"
        }
      },
      "outputs": [
        {
          "output_type": "execute_result",
          "data": {
            "text/plain": [
              "3"
            ]
          },
          "metadata": {},
          "execution_count": 10
        }
      ],
      "source": [
        "train_images.ndim"
      ]
    },
    {
      "cell_type": "code",
      "execution_count": 11,
      "metadata": {
        "id": "m8ob8DYhCiKe",
        "outputId": "310288e2-93bc-4cdf-8436-5ebc05af9f22",
        "colab": {
          "base_uri": "https://localhost:8080/"
        }
      },
      "outputs": [
        {
          "output_type": "execute_result",
          "data": {
            "text/plain": [
              "(60000, 28, 28)"
            ]
          },
          "metadata": {},
          "execution_count": 11
        }
      ],
      "source": [
        "train_images.shape"
      ]
    },
    {
      "cell_type": "code",
      "execution_count": 12,
      "metadata": {
        "id": "y50qtXMzCiKe",
        "outputId": "cc84d8e1-084b-40c5-819e-e17e6ddb9c59",
        "colab": {
          "base_uri": "https://localhost:8080/"
        }
      },
      "outputs": [
        {
          "output_type": "execute_result",
          "data": {
            "text/plain": [
              "dtype('uint8')"
            ]
          },
          "metadata": {},
          "execution_count": 12
        }
      ],
      "source": [
        "train_images.dtype"
      ]
    },
    {
      "cell_type": "markdown",
      "metadata": {
        "id": "LdbWGGtlCiKe"
      },
      "source": [
        "**다섯 번째 이미지 확인하기**"
      ]
    },
    {
      "cell_type": "markdown",
      "metadata": {
        "id": "Cv6TWoSKCiKe"
      },
      "source": [
        "훈련 세트에 포함된 이미지 중에서 다섯 번째 이미지를 직접 확인해보자.\n",
        "이를 위해 pyplot 모듈의 `imshow()` 함수를 이용한다."
      ]
    },
    {
      "cell_type": "code",
      "execution_count": 13,
      "metadata": {
        "id": "rGxGNkkICiKe",
        "outputId": "d7366143-f090-4f22-9dde-cad406af3c71",
        "colab": {
          "base_uri": "https://localhost:8080/",
          "height": 430
        }
      },
      "outputs": [
        {
          "output_type": "display_data",
          "data": {
            "text/plain": [
              "<Figure size 640x480 with 1 Axes>"
            ],
            "image/png": "[encoded data removed]"
          },
          "metadata": {}
        }
      ],
      "source": [
        "import matplotlib.pyplot as plt\n",
        "\n",
        "digit = train_images[4]\n",
        "plt.imshow(digit, cmap=plt.cm.binary)\n",
        "plt.show()"
      ]
    },
    {
      "cell_type": "markdown",
      "metadata": {
        "id": "jaLDWakbCiKf"
      },
      "source": [
        "다섯 번째(4번 인덱스) 이미지는 실제로 숫자 9를 가리킨다."
      ]
    },
    {
      "cell_type": "code",
      "execution_count": 14,
      "metadata": {
        "id": "36MInnBnCiKf",
        "outputId": "0306e3af-cc53-4ea3-b369-a1c65f01acbf",
        "colab": {
          "base_uri": "https://localhost:8080/"
        }
      },
      "outputs": [
        {
          "output_type": "execute_result",
          "data": {
            "text/plain": [
              "9"
            ]
          },
          "metadata": {},
          "execution_count": 14
        }
      ],
      "source": [
        "train_labels[4]"
      ]
    },
    {
      "cell_type": "markdown",
      "metadata": {
        "id": "Hjm3xLrtCiKf"
      },
      "source": [
        "### 넘파이를 이용한 텐서 조작"
      ]
    },
    {
      "cell_type": "markdown",
      "metadata": {
        "id": "7k_Jk2GcCiKf"
      },
      "source": [
        "#### 인덱싱(indexing)"
      ]
    },
    {
      "cell_type": "markdown",
      "metadata": {
        "id": "nnM91P5HCiKg"
      },
      "source": [
        "텐서에 포함된 특정 인덱스의 항목 선택하려면 인덱싱을 사용한다. "
      ]
    },
    {
      "cell_type": "code",
      "execution_count": 15,
      "metadata": {
        "id": "noehGzw_CiKg",
        "outputId": "cc16c23c-04db-418d-9bb0-bdeee3c95b65",
        "colab": {
          "base_uri": "https://localhost:8080/"
        }
      },
      "outputs": [
        {
          "output_type": "execute_result",
          "data": {
            "text/plain": [
              "9"
            ]
          },
          "metadata": {},
          "execution_count": 15
        }
      ],
      "source": [
        "train_labels[4]"
      ]
    },
    {
      "cell_type": "markdown",
      "metadata": {
        "id": "21NSa2rACiKg"
      },
      "source": [
        "#### 슬라이싱"
      ]
    },
    {
      "cell_type": "markdown",
      "metadata": {
        "id": "Oz5pJEoWCiKg"
      },
      "source": [
        "텐서에 포함된 특정 구간에 포함된 인덱스에 해당하는 항목으로 이루어진 텐서를\n",
        "생성할 때 슬라이싱을 사용한다. "
      ]
    },
    {
      "cell_type": "code",
      "execution_count": 16,
      "metadata": {
        "id": "ha_snh6DCiKg",
        "outputId": "dfa27ce4-ec2c-4acd-e82d-95b1ec009cbb",
        "colab": {
          "base_uri": "https://localhost:8080/"
        }
      },
      "outputs": [
        {
          "output_type": "execute_result",
          "data": {
            "text/plain": [
              "(90, 28, 28)"
            ]
          },
          "metadata": {},
          "execution_count": 16
        }
      ],
      "source": [
        "my_slice = train_images[10:100]\n",
        "my_slice.shape"
      ]
    },
    {
      "cell_type": "markdown",
      "metadata": {
        "id": "3aS5FKPPCiKh"
      },
      "source": [
        "`:`는 지정된 축의 인덱스 전체를 대상으로 한다.\n",
        "따라서 위 코드는 아래 두 코드와 동일한 기능을 수행한다."
      ]
    },
    {
      "cell_type": "code",
      "execution_count": 17,
      "metadata": {
        "id": "M1lBbuBjCiKh",
        "outputId": "c7b2683b-9586-44c6-aa0e-4098ebbc27f7",
        "colab": {
          "base_uri": "https://localhost:8080/"
        }
      },
      "outputs": [
        {
          "output_type": "execute_result",
          "data": {
            "text/plain": [
              "(90, 28, 28)"
            ]
          },
          "metadata": {},
          "execution_count": 17
        }
      ],
      "source": [
        "my_slice = train_images[10:100, :, :]\n",
        "my_slice.shape"
      ]
    },
    {
      "cell_type": "code",
      "execution_count": 18,
      "metadata": {
        "id": "MHhbi2g0CiKh",
        "outputId": "9164b396-b00b-487c-bbe8-65afb0c06705",
        "colab": {
          "base_uri": "https://localhost:8080/"
        }
      },
      "outputs": [
        {
          "output_type": "execute_result",
          "data": {
            "text/plain": [
              "(90, 28, 28)"
            ]
          },
          "metadata": {},
          "execution_count": 18
        }
      ],
      "source": [
        "my_slice = train_images[10:100, 0:28, 0:28]\n",
        "my_slice.shape"
      ]
    },
    {
      "cell_type": "markdown",
      "metadata": {
        "id": "R915iOWrCiKh"
      },
      "source": [
        "이미지 전체를 대상으로 오른편 하단의 `14x14` 픽셀만 추출하려면 다음과 같이\n",
        "슬라이싱을 진행한다."
      ]
    },
    {
      "cell_type": "code",
      "execution_count": 19,
      "metadata": {
        "id": "gAncg4TeCiKi"
      },
      "outputs": [],
      "source": [
        "my_slice = train_images[:, 14:, 14:]"
      ]
    },
    {
      "cell_type": "markdown",
      "metadata": {
        "id": "WXAsNbsbCiKi"
      },
      "source": [
        "이미지 전체를 대상으로 중앙에 위치한 `14x14` 픽셀만 추출하려면 다음과 같이\n",
        "슬라이싱을 진행한다.\n",
        "음의 인덱스는 끝(-1번 인덱스)에서부터 역순으로 세어진 인덱스를 가리킨다."
      ]
    },
    {
      "cell_type": "code",
      "execution_count": 20,
      "metadata": {
        "id": "ueDHQB3gCiKi"
      },
      "outputs": [],
      "source": [
        "my_slice = train_images[:, 7:-7, 7:-7]"
      ]
    },
    {
      "cell_type": "markdown",
      "metadata": {
        "id": "MQ22xaO2CiKi"
      },
      "source": [
        "### 데이터 배치(묶음)\n",
        "\n",
        "케라스를 포함하여 대부분의 딥러닝 모델은 훈련 세트 전체를 한꺼번에 처리하지 않고\n",
        "지정된 크기(`batch_size`)의 배치(batch)로 나주어 처리한다. \n",
        "앞서 살펴본 모델의 배치 크기는 128이었다."
      ]
    },
    {
      "cell_type": "markdown",
      "metadata": {
        "id": "U4FQvA7iCiKi"
      },
      "source": [
        "#### 샘플 축 또는 샘플 차원\n",
        "\n",
        "딥러닝에 사용되는 모든 훈련 세트의 0번 축(axis 0)은 \n",
        "포함된 샘플 각각을 가리키는 __샘플 축__(samples axis)이며, \n",
        "__샘플 차원__(samples dimension)이라고도 불린다.\n",
        "특별히 배치 텐서와 관련해서는 0번 축(axis 0)을\n",
        "__배치 축__(batch axis) 또는 __배치 차원__(batch dimension)이라고 부른다."
      ]
    },
    {
      "cell_type": "markdown",
      "metadata": {
        "id": "4u0ttv9dCiKi"
      },
      "source": [
        "- 첫째 배치"
      ]
    },
    {
      "cell_type": "code",
      "execution_count": 21,
      "metadata": {
        "id": "lf5qtF9TCiKi"
      },
      "outputs": [],
      "source": [
        "batch = train_images[:128]"
      ]
    },
    {
      "cell_type": "markdown",
      "metadata": {
        "id": "C-lfz1JsCiKi"
      },
      "source": [
        "- 둘째 배치"
      ]
    },
    {
      "cell_type": "code",
      "execution_count": 22,
      "metadata": {
        "id": "6EXmc-IiCiKi"
      },
      "outputs": [],
      "source": [
        "batch = train_images[128:256]"
      ]
    },
    {
      "cell_type": "markdown",
      "metadata": {
        "id": "KYMoO-EbCiKj"
      },
      "source": [
        "- n 번째 배치"
      ]
    },
    {
      "cell_type": "code",
      "execution_count": 24,
      "metadata": {
        "id": "OpDQapqgCiKj"
      },
      "outputs": [],
      "source": [
        "n = 3 # 임의의 n이라고 가정해야 함\n",
        "\n",
        "batch = train_images[128 * n:128 * (n + 1)]"
      ]
    },
    {
      "cell_type": "markdown",
      "metadata": {
        "id": "dBOzHAXRCiKj"
      },
      "source": [
        "## 2.3 텐서 연산"
      ]
    },
    {
      "cell_type": "markdown",
      "metadata": {
        "id": "A3EN-AiVCiKj"
      },
      "source": [
        "신경망 모델의 훈련은 기본적으로 텐서와 관련된 몇 가지 연산으로 이루어진다. \n",
        "예를 들어 이전 신경망에 사용된 케라스 레이어를 살펴보자.\n",
        "\n",
        "```python\n",
        "keras.layers.Dense(512, activation=\"relu\")\n",
        "keras.layers.Dense(10, activation=\"softmax\")\n",
        "```\n",
        "\n",
        "위 두 개의 층이 하는 일은 데이터셋의 변환이며 실제로 이루어지는 연산은 다음과 같다.\n",
        "\n",
        "- 1층\n",
        "\n",
        "    ```python\n",
        "    output1 = relu(dot(input1, W1) + b1)\n",
        "    ```\n",
        "- 2층\n",
        "\n",
        "    ```python\n",
        "    output2 = softmax(dot(input2, W2) + b2)\n",
        "    ```\n",
        "\n",
        "- 점곱(`dot(input, W)`): 입력 텐서와 가중치 텐서의 곱\n",
        "- 덧셈(`dot(input, W) + b`): 점곱의 결과 텐서와 벡터 `b`의 합\n",
        "- `relu` 함수: `relu(x) = max(x, 0)`\n",
        "- `softmax` 함수: 10개 범주 각각에 속할 확률 계산"
      ]
    },
    {
      "cell_type": "markdown",
      "metadata": {
        "id": "jM7GcAQ5CiKj"
      },
      "source": [
        "<div align=\"center\"><img src=\"https://s3-ap-northeast-2.amazonaws.com/opentutorials-user-file/module/3653/9363.png\" style=\"width:700px;\"></div>\n",
        "\n",
        "그림 출처: [생활코딩: 한 페이지 머신러닝](https://www.opentutorials.org/module/3653/22060)"
      ]
    },
    {
      "cell_type": "markdown",
      "metadata": {
        "id": "XUPRwwzsCiKj"
      },
      "source": [
        "### 항목별 연산\n",
        "\n",
        "넘파이의 어레이 연산처럼 텐서의 연산도 항목별로 이루어진다. \n",
        "예를 들어, `relu()` 함수도 각 항목에 적용되며,\n",
        "실제로 아래와 같이 구현할 수 있다."
      ]
    },
    {
      "cell_type": "code",
      "execution_count": 1,
      "metadata": {
        "id": "7Ij6bp8JCiKj"
      },
      "outputs": [],
      "source": [
        "def naive_relu(x):\n",
        "    assert len(x.shape) == 2\n",
        "    x = x.copy()\n",
        "    for i in range(x.shape[0]):\n",
        "        for j in range(x.shape[1]):\n",
        "            x[i, j] = max(x[i, j], 0)\n",
        "    return x"
      ]
    },
    {
      "cell_type": "markdown",
      "metadata": {
        "id": "ZuvXTW93CiKk"
      },
      "source": [
        "덧셈도 동일하다."
      ]
    },
    {
      "cell_type": "code",
      "execution_count": 2,
      "metadata": {
        "id": "4y3wOtziCiKk"
      },
      "outputs": [],
      "source": [
        "def naive_add(x, y):\n",
        "    assert len(x.shape) == 2\n",
        "    assert x.shape == y.shape\n",
        "    x = x.copy()\n",
        "    for i in range(x.shape[0]):\n",
        "        for j in range(x.shape[1]):\n",
        "            x[i, j] += y[i, j]\n",
        "    return x"
      ]
    },
    {
      "cell_type": "markdown",
      "metadata": {
        "id": "ZW-ddA2qCiKk"
      },
      "source": [
        "넘파이의 경우 항목별 연산을 병렬처리가 가능하며\n",
        "매우 효율적으로 작동하는 저수준 언어로 구현되어 있다.\n",
        "아래 두 코드는 넘파이를 활용할 때와 그렇지 않을 때의 \n",
        "처리속도의 차이를 잘 보여준다."
      ]
    },
    {
      "cell_type": "code",
      "execution_count": 5,
      "metadata": {
        "id": "J3v8kK90CiKk",
        "outputId": "802e103d-a6cd-47d1-c82c-cfbb4b7187a0",
        "colab": {
          "base_uri": "https://localhost:8080/"
        }
      },
      "outputs": [
        {
          "output_type": "stream",
          "name": "stdout",
          "text": [
            "Took: 0.01초\n"
          ]
        }
      ],
      "source": [
        "import time\n",
        "\n",
        "x = np.random.random((20, 100))\n",
        "y = np.random.random((20, 100))\n",
        "\n",
        "t0 = time.time()\n",
        "for _ in range(1000):\n",
        "    z = x + y\n",
        "    z = np.maximum(z, 0.)\n",
        "print(f\"Took: {time.time() - t0:.2f}초\")"
      ]
    },
    {
      "cell_type": "code",
      "execution_count": 6,
      "metadata": {
        "id": "VAReW3xtCiKk",
        "outputId": "d5da7e6f-a87a-4d1f-c1c8-202778ef1e6e",
        "colab": {
          "base_uri": "https://localhost:8080/"
        }
      },
      "outputs": [
        {
          "output_type": "stream",
          "name": "stdout",
          "text": [
            "Took: 1.89초\n"
          ]
        }
      ],
      "source": [
        "t0 = time.time()\n",
        "for _ in range(1000):\n",
        "    z = naive_add(x, y)\n",
        "    z = naive_relu(z)\n",
        "print(f\"Took: {time.time() - t0:.2f}초\")"
      ]
    },
    {
      "cell_type": "markdown",
      "metadata": {
        "id": "xnv-grE0CiKl"
      },
      "source": [
        "텐서플로우 또한 GPU로 병렬 처리를 효율적으로 수행하는 항목변 연산을 지원한다."
      ]
    },
    {
      "cell_type": "markdown",
      "metadata": {
        "id": "0szgWRS_CiKl"
      },
      "source": [
        "### 브로드캐스팅(Broadcasting)"
      ]
    },
    {
      "cell_type": "markdown",
      "metadata": {
        "id": "ycUQPMy9CiKl"
      },
      "source": [
        "아래 식은 2D 텐서와 벡터(1D 텐서)의 합을 계산한다.\n",
        "\n",
        "```python\n",
        "dot(input, W) + b\n",
        "```\n",
        "\n",
        "차원이 다른 텐서의 합과 차를 계산하려면 모양을 먼저 맞춰주어야 한다. \n",
        "위 표현식의 계산과정에서 `b`를 먼저 `dot(input, W)`의 모양과 일치하도록\n",
        "브로드캐스팅 한다."
      ]
    },
    {
      "cell_type": "markdown",
      "metadata": {
        "id": "zeesLcYFCiKl"
      },
      "source": [
        "아래 코드는 2D 텐서와 1D 텐서의 합이 이루어지는 과정을 보여준다."
      ]
    },
    {
      "cell_type": "code",
      "execution_count": 7,
      "metadata": {
        "id": "ZpqJRzPICiKl"
      },
      "outputs": [],
      "source": [
        "import numpy as np\n",
        "X = np.random.random((32, 10))\n",
        "y = np.random.random((10,))"
      ]
    },
    {
      "cell_type": "code",
      "execution_count": 8,
      "metadata": {
        "id": "XZSxzjpKCiKl",
        "outputId": "64fcd092-0235-4e43-85b8-97ffaacfa0f5",
        "colab": {
          "base_uri": "https://localhost:8080/"
        }
      },
      "outputs": [
        {
          "output_type": "execute_result",
          "data": {
            "text/plain": [
              "array([0.83508157, 0.17825572, 0.2172406 , 0.7004269 , 0.31746879,\n",
              "       0.84577579, 0.32815124, 0.21917693, 0.72583698, 0.79455873])"
            ]
          },
          "metadata": {},
          "execution_count": 8
        }
      ],
      "source": [
        "y"
      ]
    },
    {
      "cell_type": "markdown",
      "metadata": {
        "id": "U38oRBItCiKl"
      },
      "source": [
        "- `y` 텐서 2D로 변환: `(10,)` 모양의 1D 텐서를 `(1, 10)` 모양의 2D 텐서로 변환"
      ]
    },
    {
      "cell_type": "code",
      "execution_count": 9,
      "metadata": {
        "id": "CJGiRn2ICiKl",
        "outputId": "f080e7c7-529b-410b-c220-3a16e9dc5a58",
        "colab": {
          "base_uri": "https://localhost:8080/"
        }
      },
      "outputs": [
        {
          "output_type": "execute_result",
          "data": {
            "text/plain": [
              "array([[0.83508157, 0.17825572, 0.2172406 , 0.7004269 , 0.31746879,\n",
              "        0.84577579, 0.32815124, 0.21917693, 0.72583698, 0.79455873]])"
            ]
          },
          "metadata": {},
          "execution_count": 9
        }
      ],
      "source": [
        "y2 = np.expand_dims(y, axis=0)\n",
        "y2"
      ]
    },
    {
      "cell_type": "markdown",
      "metadata": {
        "id": "c_MOQExPCiKl"
      },
      "source": [
        "- `(32, 10)` 모양의 2D 텐서로 변환: 0번 행을 32번 복사해서 추가"
      ]
    },
    {
      "cell_type": "code",
      "execution_count": 10,
      "metadata": {
        "id": "_tdgzMH6CiKm"
      },
      "outputs": [],
      "source": [
        "Y = np.concatenate([y2] * 32, axis=0)"
      ]
    },
    {
      "cell_type": "code",
      "execution_count": 11,
      "metadata": {
        "id": "4BbgkgnDCiKm",
        "outputId": "d178c501-94c2-4e7f-fa10-05ee84bf6f34",
        "colab": {
          "base_uri": "https://localhost:8080/"
        }
      },
      "outputs": [
        {
          "output_type": "execute_result",
          "data": {
            "text/plain": [
              "(32, 10)"
            ]
          },
          "metadata": {},
          "execution_count": 11
        }
      ],
      "source": [
        "Y.shape"
      ]
    },
    {
      "cell_type": "code",
      "execution_count": 12,
      "metadata": {
        "id": "753hAEeoCiKm",
        "outputId": "45adc724-08ec-48b9-dd23-530f792e9f99",
        "colab": {
          "base_uri": "https://localhost:8080/"
        }
      },
      "outputs": [
        {
          "output_type": "execute_result",
          "data": {
            "text/plain": [
              "True"
            ]
          },
          "metadata": {},
          "execution_count": 12
        }
      ],
      "source": [
        "((X + y) == (X + Y)).all()"
      ]
    },
    {
      "cell_type": "markdown",
      "metadata": {
        "id": "Pfjmm-rBCiKm"
      },
      "source": [
        "이어지는 코드는 아래 형식의 브로드캐스팅을 직접 구현한다."
      ]
    },
    {
      "cell_type": "markdown",
      "metadata": {
        "id": "OPP960QTCiKm"
      },
      "source": [
        "<div align=\"center\"><img src=\"https://raw.githubusercontent.com/codingalzi/pydata/master/notebooks/images/broadcasting10.png\" style=\"width:400px;\"></div>"
      ]
    },
    {
      "cell_type": "code",
      "execution_count": 13,
      "metadata": {
        "id": "U4A1cYKiCiKm"
      },
      "outputs": [],
      "source": [
        "def naive_add_matrix_and_vector(x, y):\n",
        "    assert len(x.shape) == 2\n",
        "    assert len(y.shape) == 1\n",
        "    assert x.shape[1] == y.shape[0]\n",
        "    x = x.copy()\n",
        "    for i in range(x.shape[0]):\n",
        "        for j in range(x.shape[1]):\n",
        "            x[i, j] += y[j]\n",
        "    return x"
      ]
    },
    {
      "cell_type": "markdown",
      "metadata": {
        "id": "VFZBQIjECiKm"
      },
      "source": [
        "아래 코드는 차원이 다른 두 텐서에 대해 \n",
        "항목별 최댓값을 계산하는 것이 \n",
        "브로드캐스팅 덕분에 가능함을 보여준다."
      ]
    },
    {
      "cell_type": "code",
      "execution_count": 14,
      "metadata": {
        "id": "DX8FToMVCiKm"
      },
      "outputs": [],
      "source": [
        "import numpy as np\n",
        "x = np.random.random((64, 3, 32, 10))\n",
        "y = np.random.random((32, 10))\n",
        "z = np.maximum(x, y)"
      ]
    },
    {
      "cell_type": "markdown",
      "metadata": {
        "id": "yGQfGMsDCiKm"
      },
      "source": [
        "### 텐서 점곱\n",
        "\n",
        "텐서의 점곱(dot product)은 차원에 따라 다른 계산을 수행한다. "
      ]
    },
    {
      "cell_type": "markdown",
      "metadata": {
        "id": "FlrWc_CPCiKm"
      },
      "source": [
        "- 두 벡터의 점곱"
      ]
    },
    {
      "cell_type": "code",
      "execution_count": 15,
      "metadata": {
        "id": "ahwbmbKDCiKn",
        "outputId": "3691316f-be4a-49f5-932b-559edadcc2e4",
        "colab": {
          "base_uri": "https://localhost:8080/"
        }
      },
      "outputs": [
        {
          "output_type": "execute_result",
          "data": {
            "text/plain": [
              "10.418547966221482"
            ]
          },
          "metadata": {},
          "execution_count": 15
        }
      ],
      "source": [
        "x = np.random.random((32,))\n",
        "y = np.random.random((32,))\n",
        "z = np.dot(x, y)\n",
        "z"
      ]
    },
    {
      "cell_type": "markdown",
      "metadata": {
        "id": "noWJ7pXmCiKn"
      },
      "source": [
        "직접 구현하면 다음과 같다."
      ]
    },
    {
      "cell_type": "code",
      "execution_count": 16,
      "metadata": {
        "id": "NuC9Pu2MCiKn"
      },
      "outputs": [],
      "source": [
        "def naive_vector_dot(x, y):\n",
        "    assert len(x.shape) == 1\n",
        "    assert len(y.shape) == 1\n",
        "    assert x.shape[0] == y.shape[0]\n",
        "    z = 0.\n",
        "    for i in range(x.shape[0]):\n",
        "        z += x[i] * y[i]\n",
        "    return z"
      ]
    },
    {
      "cell_type": "code",
      "execution_count": 17,
      "metadata": {
        "id": "Y9BCZyAXCiKn",
        "outputId": "dae36c51-a88f-4e98-e924-34e6aa6d5b56",
        "colab": {
          "base_uri": "https://localhost:8080/"
        }
      },
      "outputs": [
        {
          "output_type": "execute_result",
          "data": {
            "text/plain": [
              "10.418547966221483"
            ]
          },
          "metadata": {},
          "execution_count": 17
        }
      ],
      "source": [
        "naive_vector_dot(x, y)"
      ]
    },
    {
      "cell_type": "markdown",
      "metadata": {
        "id": "md67wPv0CiKn"
      },
      "source": [
        "- 2D 텐서와 벡터의 점곱 (방식 1)"
      ]
    },
    {
      "cell_type": "code",
      "execution_count": 18,
      "metadata": {
        "id": "W1-r4VfUCiKn",
        "outputId": "44092cf5-2139-49e7-aa0b-2f3e720d063e",
        "colab": {
          "base_uri": "https://localhost:8080/"
        }
      },
      "outputs": [
        {
          "output_type": "execute_result",
          "data": {
            "text/plain": [
              "array([1.11454562, 1.26484181])"
            ]
          },
          "metadata": {},
          "execution_count": 18
        }
      ],
      "source": [
        "x = np.random.random((2,3))\n",
        "y = np.random.random((3,))\n",
        "z = np.dot(x, y)\n",
        "z"
      ]
    },
    {
      "cell_type": "code",
      "execution_count": 20,
      "metadata": {
        "id": "ra34pqn7CiKn"
      },
      "outputs": [],
      "source": [
        "def naive_matrix_vector_dot(x, y):\n",
        "    assert len(x.shape) == 2\n",
        "    assert len(y.shape) == 1\n",
        "    assert x.shape[1] == y.shape[0]\n",
        "    z = np.zeros(x.shape[0])\n",
        "    for i in range(x.shape[0]):\n",
        "        for j in range(x.shape[1]):\n",
        "            z[i] += x[i, j] * y[j]\n",
        "    return z"
      ]
    },
    {
      "cell_type": "code",
      "execution_count": 21,
      "metadata": {
        "id": "P7JAcliZCiKn",
        "outputId": "5243e337-ab13-4f0f-9d26-3dad5bd8268e",
        "colab": {
          "base_uri": "https://localhost:8080/"
        }
      },
      "outputs": [
        {
          "output_type": "execute_result",
          "data": {
            "text/plain": [
              "array([1.11454562, 1.26484181])"
            ]
          },
          "metadata": {},
          "execution_count": 21
        }
      ],
      "source": [
        "naive_matrix_vector_dot(x, y)"
      ]
    },
    {
      "cell_type": "markdown",
      "metadata": {
        "id": "uFSIaYw4CiKn"
      },
      "source": [
        "- 2D 텐서와 벡터의 점곱 (방식 2)"
      ]
    },
    {
      "cell_type": "code",
      "execution_count": 22,
      "metadata": {
        "id": "GVpDp2pUCiKo"
      },
      "outputs": [],
      "source": [
        "def naive_matrix_vector_dot(x, y):\n",
        "    z = np.zeros(x.shape[0])\n",
        "    for i in range(x.shape[0]):\n",
        "        z[i] = naive_vector_dot(x[i, :], y)\n",
        "    return z"
      ]
    },
    {
      "cell_type": "code",
      "execution_count": 23,
      "metadata": {
        "id": "k8iv46dyCiKo",
        "outputId": "077d3a7f-cba2-4c55-c411-47eaa802bad4",
        "colab": {
          "base_uri": "https://localhost:8080/"
        }
      },
      "outputs": [
        {
          "output_type": "execute_result",
          "data": {
            "text/plain": [
              "array([1.11454562, 1.26484181])"
            ]
          },
          "metadata": {},
          "execution_count": 23
        }
      ],
      "source": [
        "naive_matrix_vector_dot(x, y)"
      ]
    },
    {
      "cell_type": "markdown",
      "metadata": {
        "id": "lByd2SeeCiKo"
      },
      "source": [
        "- 2D 텐서와 2D 텐서의 점곱 (행렬의 곱)"
      ]
    },
    {
      "cell_type": "code",
      "execution_count": 24,
      "metadata": {
        "id": "aWlK8v43CiKo",
        "outputId": "3bcbbae7-a8ad-4d6f-fb9f-d929e314177e",
        "colab": {
          "base_uri": "https://localhost:8080/"
        }
      },
      "outputs": [
        {
          "output_type": "execute_result",
          "data": {
            "text/plain": [
              "array([[1.32338439, 1.79256131, 1.20851592, 1.24166637],\n",
              "       [1.12119701, 1.1512293 , 0.74710812, 0.99752557]])"
            ]
          },
          "metadata": {},
          "execution_count": 24
        }
      ],
      "source": [
        "x = np.random.random((2,3))\n",
        "y = np.random.random((3,4))\n",
        "z = np.dot(x, y)\n",
        "z"
      ]
    },
    {
      "cell_type": "code",
      "execution_count": 25,
      "metadata": {
        "id": "6bGIcQ0QCiKo"
      },
      "outputs": [],
      "source": [
        "def naive_matrix_dot(x, y):\n",
        "    assert len(x.shape) == 2\n",
        "    assert len(y.shape) == 2\n",
        "    assert x.shape[1] == y.shape[0]\n",
        "    z = np.zeros((x.shape[0], y.shape[1]))\n",
        "    for i in range(x.shape[0]):\n",
        "        for j in range(y.shape[1]):\n",
        "            row_x = x[i, :]\n",
        "            column_y = y[:, j]\n",
        "            z[i, j] = naive_vector_dot(row_x, column_y)\n",
        "    return z"
      ]
    },
    {
      "cell_type": "code",
      "execution_count": 26,
      "metadata": {
        "id": "W68NUf47CiKo",
        "outputId": "98c0daf2-af04-4bd1-c337-89aa3976adaf",
        "colab": {
          "base_uri": "https://localhost:8080/"
        }
      },
      "outputs": [
        {
          "output_type": "execute_result",
          "data": {
            "text/plain": [
              "array([[1.32338439, 1.79256131, 1.20851592, 1.24166637],\n",
              "       [1.12119701, 1.1512293 , 0.74710812, 0.99752557]])"
            ]
          },
          "metadata": {},
          "execution_count": 26
        }
      ],
      "source": [
        "naive_matrix_dot(x, y)"
      ]
    },
    {
      "cell_type": "markdown",
      "metadata": {
        "id": "trtVZV8fCiKo"
      },
      "source": [
        "### 텐서 모양 변환\n",
        "\n",
        "앞서 아래 코드에서 텐서의 모양을 변환했다. \n",
        "\n",
        "```python\n",
        "train_images = train_images.reshape((60000, 28 * 28))\n",
        "```\n",
        "\n",
        "즉, MNIST 훈련 세트가 원래 `(60000, 28, 28)` 모양의 3D 텐서로 주어졌는데\n",
        "신경망 모델의 입력값으로 사용하기 위해 `(60000, 28 * 28)` 모양의 2D 텐서로 변환하는\n",
        "전처리 과정을 사용했다. "
      ]
    },
    {
      "cell_type": "code",
      "execution_count": 30,
      "metadata": {
        "id": "aFhzzkv0CiKo"
      },
      "outputs": [],
      "source": [
        "train_images = train_images.reshape((60000, 28 * 28))"
      ]
    },
    {
      "cell_type": "markdown",
      "metadata": {
        "id": "mLpVMV-5CiKo"
      },
      "source": [
        "텐서의 모양 변환은 지정된 모양의 텐서를 생성하기 위해\n",
        "기존 텐서의 행(row)과 열(column)을 새롭게 정렬한다.\n",
        "따라서 항목의 개수는 변하지 않는다.\n",
        "아래 코드는 텐서의 모양 변환을 설명하는 간단한 예제를 보여준다."
      ]
    },
    {
      "cell_type": "code",
      "execution_count": 31,
      "metadata": {
        "id": "6ZcCPl7XCiKp",
        "outputId": "bf903baa-de28-4b3c-80e9-02705a8cea3d",
        "colab": {
          "base_uri": "https://localhost:8080/"
        }
      },
      "outputs": [
        {
          "output_type": "execute_result",
          "data": {
            "text/plain": [
              "(3, 2)"
            ]
          },
          "metadata": {},
          "execution_count": 31
        }
      ],
      "source": [
        "x = np.array([[0., 1.],\n",
        "             [2., 3.],\n",
        "             [4., 5.]])\n",
        "x.shape"
      ]
    },
    {
      "cell_type": "code",
      "execution_count": 32,
      "metadata": {
        "id": "XqNTF6wVCiKp",
        "outputId": "6d5a63e8-7438-46d9-858b-7608fba1caa8",
        "colab": {
          "base_uri": "https://localhost:8080/"
        }
      },
      "outputs": [
        {
          "output_type": "execute_result",
          "data": {
            "text/plain": [
              "array([[0.],\n",
              "       [1.],\n",
              "       [2.],\n",
              "       [3.],\n",
              "       [4.],\n",
              "       [5.]])"
            ]
          },
          "metadata": {},
          "execution_count": 32
        }
      ],
      "source": [
        "x = x.reshape((6, 1))\n",
        "x"
      ]
    },
    {
      "cell_type": "markdown",
      "metadata": {
        "id": "y31wbPVNCiKp"
      },
      "source": [
        "#### 행렬의 전치\n",
        "\n",
        "행렬(2D 텐서)의 행과 열을 바꾸는 __전치__(transposition) 또한 행렬의 모양 변환이다."
      ]
    },
    {
      "cell_type": "code",
      "execution_count": 33,
      "metadata": {
        "id": "E7LkpTZICiKp",
        "outputId": "3eed77e5-1276-4a80-ad59-24552b3fa82f",
        "colab": {
          "base_uri": "https://localhost:8080/"
        }
      },
      "outputs": [
        {
          "output_type": "execute_result",
          "data": {
            "text/plain": [
              "(20, 300)"
            ]
          },
          "metadata": {},
          "execution_count": 33
        }
      ],
      "source": [
        "x = np.zeros((300, 20))\n",
        "x = np.transpose(x)\n",
        "x.shape"
      ]
    },
    {
      "cell_type": "markdown",
      "metadata": {
        "id": "7Sgqbo_rCiKp"
      },
      "source": [
        "## 2.4 신경망의 엔진: 그레이디언트 기반 최적화"
      ]
    },
    {
      "cell_type": "markdown",
      "metadata": {
        "id": "tzkTCnQ1CiKp"
      },
      "source": [
        "### 텐서플로우의 그레이디언트 테이프\n",
        "\n",
        "- 미분 자동화: 역전파에 필요한 그레이디언트 자동 계산\n",
        "- __그레이디언트 테이프__(gradient tape): 임의의 텐서 연산에 대해 지정된 변수에 대한\n",
        "    그레이디언트를 미리 계산해 놓는 독립적인 장치\n",
        "- `tf.Variable` 객체: 그레이디언트 테이프를 사용하려면 변수를 `tf.Variable` 클래스의 \n",
        "    인스턴스로 선언해야 함."
      ]
    },
    {
      "cell_type": "markdown",
      "metadata": {
        "id": "AgdIBN8YCiKp"
      },
      "source": [
        "#### 하나의 변수에 대한 그레이디언트"
      ]
    },
    {
      "cell_type": "code",
      "execution_count": 37,
      "metadata": {
        "id": "A947XYHqCiKp"
      },
      "outputs": [],
      "source": [
        "import tensorflow as tf\n",
        "\n",
        "x = tf.Variable(0.)\n",
        "\n",
        "with tf.GradientTape() as tape:\n",
        "    y = x**2 + 2*x + 3\n",
        "\n",
        "grad_of_y_wrt_x = tape.gradient(y, x)"
      ]
    },
    {
      "cell_type": "code",
      "execution_count": 38,
      "metadata": {
        "id": "mg-AinDMCiKp",
        "outputId": "c15e07a9-5af7-4e0a-9366-b3ffce2d1c8a",
        "colab": {
          "base_uri": "https://localhost:8080/"
        }
      },
      "outputs": [
        {
          "output_type": "execute_result",
          "data": {
            "text/plain": [
              "<tf.Tensor: shape=(), dtype=float32, numpy=2.0>"
            ]
          },
          "metadata": {},
          "execution_count": 38
        }
      ],
      "source": [
        "grad_of_y_wrt_x"
      ]
    },
    {
      "cell_type": "markdown",
      "metadata": {
        "id": "m0ioUfxjCiKp"
      },
      "source": [
        "#### 임의의 텐서 연산에 대한 그레이디언트"
      ]
    },
    {
      "cell_type": "code",
      "execution_count": 39,
      "metadata": {
        "id": "Dzd_pRpvCiKq"
      },
      "outputs": [],
      "source": [
        "x = tf.Variable(tf.random.uniform((2, 2)))\n",
        "\n",
        "with tf.GradientTape() as tape:\n",
        "    y = x**2 + 3\n",
        "\n",
        "grad_of_y_wrt_x = tape.gradient(y, x)"
      ]
    },
    {
      "cell_type": "markdown",
      "metadata": {
        "id": "jbgCypzLCiKq"
      },
      "source": [
        "변수 `x`의 모양은 다음과 같다."
      ]
    },
    {
      "cell_type": "markdown",
      "metadata": {
        "id": "4NdhPrlyCiKq"
      },
      "source": [
        "$$\n",
        "x = \n",
        "\\begin{bmatrix}\n",
        "x_{11} & x_{12} \\\\\n",
        "x_{21} & x_{22}\n",
        "\\end{bmatrix}\n",
        "$$"
      ]
    },
    {
      "cell_type": "markdown",
      "metadata": {
        "id": "2b22fLiwCiKq"
      },
      "source": [
        "`y`를 `x`의 함수로 표현하면 다음과 같다."
      ]
    },
    {
      "cell_type": "markdown",
      "metadata": {
        "id": "9WYtpmqrCiKq"
      },
      "source": [
        "$$\n",
        "y = f(x) = x^2 + 3 = \n",
        "\\begin{bmatrix}\n",
        "x_{11}^2 + 3 & x_{12}^2 + 3 \\\\\n",
        "x_{21}^2 + 3 & x_{22}^2 + 3\n",
        "\\end{bmatrix}\n",
        "$$"
      ]
    },
    {
      "cell_type": "markdown",
      "metadata": {
        "id": "rQRmnK6zCiKq"
      },
      "source": [
        "텐서 `x`에 대한 그레이디언트는 다음과 같다."
      ]
    },
    {
      "cell_type": "markdown",
      "metadata": {
        "id": "hhHRUbTrCiKq"
      },
      "source": [
        "$$\n",
        "\\nabla f(x) = \n",
        "\\begin{bmatrix}\n",
        "2 x_{11} & 2 x_{12} \\\\\n",
        "2 x_{21} & 2 x_{22}\n",
        "\\end{bmatrix}\n",
        "$$"
      ]
    },
    {
      "cell_type": "code",
      "execution_count": 40,
      "metadata": {
        "id": "6FZ-U7-FCiKq",
        "outputId": "3e8c9d0d-84b5-4377-da45-9676ca5b6a57",
        "colab": {
          "base_uri": "https://localhost:8080/"
        }
      },
      "outputs": [
        {
          "output_type": "execute_result",
          "data": {
            "text/plain": [
              "<tf.Tensor: shape=(2, 2), dtype=float32, numpy=\n",
              "array([[0.6819649, 1.871168 ],\n",
              "       [0.8991348, 0.1307466]], dtype=float32)>"
            ]
          },
          "metadata": {},
          "execution_count": 40
        }
      ],
      "source": [
        "grad_of_y_wrt_x"
      ]
    },
    {
      "cell_type": "code",
      "execution_count": 41,
      "metadata": {
        "id": "u6wVpQJqCiKq",
        "outputId": "969cb6cf-447f-4f21-cb55-ec220763ccca",
        "colab": {
          "base_uri": "https://localhost:8080/"
        }
      },
      "outputs": [
        {
          "output_type": "execute_result",
          "data": {
            "text/plain": [
              "<tf.Variable 'Variable:0' shape=(2, 2) dtype=float32, numpy=\n",
              "array([[0.34098244, 0.93558407],\n",
              "       [0.44956744, 0.0653733 ]], dtype=float32)>"
            ]
          },
          "metadata": {},
          "execution_count": 41
        }
      ],
      "source": [
        "x"
      ]
    },
    {
      "cell_type": "markdown",
      "metadata": {
        "id": "6rIWAR0SCiKr"
      },
      "source": [
        "#### 변수들의 리스트에 대한 그레이언트"
      ]
    },
    {
      "cell_type": "code",
      "execution_count": 42,
      "metadata": {
        "id": "X89fTvfoCiKr"
      },
      "outputs": [],
      "source": [
        "W = tf.Variable(tf.random.uniform((2, 2)))\n",
        "b = tf.Variable(tf.zeros((2,)))\n",
        "x = tf.random.uniform((2, 2))\n",
        "\n",
        "with tf.GradientTape() as tape:\n",
        "    y = tf.matmul(x, W) + b\n",
        "\n",
        "grad_of_y_wrt_W_and_b = tape.gradient(y, [W, b])"
      ]
    },
    {
      "cell_type": "markdown",
      "metadata": {
        "id": "4enrOb90CiKr"
      },
      "source": [
        "텐서 `x`와 변수 `W`, `b`의 모양은 다음과 같다."
      ]
    },
    {
      "cell_type": "markdown",
      "metadata": {
        "id": "FNwSL6qDCiKr"
      },
      "source": [
        "$$\n",
        "x = \n",
        "\\begin{bmatrix}\n",
        "x_{11} & x_{12} \\\\\n",
        "x_{21} & x_{22}\n",
        "\\end{bmatrix},\n",
        "\\qquad\n",
        "W = \n",
        "\\begin{bmatrix}\n",
        "w_{11} & w_{12} \\\\\n",
        "w_{21} & w_{22}\n",
        "\\end{bmatrix},\n",
        "\\qquad\n",
        "b = \n",
        "\\begin{bmatrix}\n",
        "b_{1} & b_{2}\n",
        "\\end{bmatrix}\n",
        "$$"
      ]
    },
    {
      "cell_type": "markdown",
      "metadata": {
        "id": "d_8wkexwCiKr"
      },
      "source": [
        "`y`를 `W`와 `b`의 함수로 표현하면 다음과 같다."
      ]
    },
    {
      "cell_type": "markdown",
      "metadata": {
        "id": "0DLe0A_KCiKr"
      },
      "source": [
        "$$\n",
        "y = f(W, b) = x\\cdot W + b = \n",
        "\\begin{bmatrix}\n",
        "x_{11}\\cdot w_{11} + x_{12}\\cdot w_{21} + b_1 & x_{11}\\cdot w_{12} + x_{12}\\cdot w_{22} + b_2 \\\\\n",
        "x_{21}\\cdot w_{11} + x_{22}\\cdot w_{21} + b_1 & x_{21}\\cdot w_{12} + x_{22}\\cdot w_{22} + b_2 \\\\\n",
        "\\end{bmatrix}\n",
        "$$"
      ]
    },
    {
      "cell_type": "markdown",
      "metadata": {
        "id": "XtxQ7i2ZCiKr"
      },
      "source": [
        "텐서 `x`에 대한 그레이디언트는 다음과 같다."
      ]
    },
    {
      "cell_type": "markdown",
      "metadata": {
        "id": "wNWfgHElCiKr"
      },
      "source": [
        "$$\n",
        "\\nabla f(W, b) = \n",
        "\\begin{bmatrix}\n",
        "    \\begin{bmatrix}\n",
        "    x_{11} + x_{21} & x_{11} + x_{21} \\\\\n",
        "    x_{21} + x_{22} & x_{21} + x_{22}\n",
        "    \\end{bmatrix}, \n",
        "    \\begin{bmatrix}\n",
        "    2 & 2\n",
        "    \\end{bmatrix}    \n",
        "\\end{bmatrix}\n",
        "$$"
      ]
    },
    {
      "cell_type": "code",
      "execution_count": 43,
      "metadata": {
        "id": "RmywzhdBCiKs",
        "outputId": "31eca6d2-ff2c-4843-a67b-0dc7bc60437c",
        "colab": {
          "base_uri": "https://localhost:8080/"
        }
      },
      "outputs": [
        {
          "output_type": "execute_result",
          "data": {
            "text/plain": [
              "[<tf.Tensor: shape=(2, 2), dtype=float32, numpy=\n",
              " array([[0.6609924, 0.6609924],\n",
              "        [1.1506139, 1.1506139]], dtype=float32)>,\n",
              " <tf.Tensor: shape=(2,), dtype=float32, numpy=array([2., 2.], dtype=float32)>]"
            ]
          },
          "metadata": {},
          "execution_count": 43
        }
      ],
      "source": [
        "grad_of_y_wrt_W_and_b"
      ]
    },
    {
      "cell_type": "code",
      "execution_count": 44,
      "metadata": {
        "id": "l58vh_D2CiKs",
        "outputId": "94d638b3-7a5f-43e3-ea96-19617323aecd",
        "colab": {
          "base_uri": "https://localhost:8080/"
        }
      },
      "outputs": [
        {
          "output_type": "execute_result",
          "data": {
            "text/plain": [
              "<tf.Tensor: shape=(2, 2), dtype=float32, numpy=\n",
              "array([[0.56302905, 0.35039532],\n",
              "       [0.09796333, 0.8002186 ]], dtype=float32)>"
            ]
          },
          "metadata": {},
          "execution_count": 44
        }
      ],
      "source": [
        "x"
      ]
    },
    {
      "cell_type": "markdown",
      "metadata": {
        "id": "Yzgl8LtzCiKs"
      },
      "source": [
        "## 2.5 신경망 구현: 밑바닥부터"
      ]
    },
    {
      "cell_type": "markdown",
      "metadata": {
        "id": "aIvQefnQCiKs"
      },
      "source": [
        "케라스가 아닌 순수 텐서플로우 API 만을 이용해서\n",
        "앞서 사용한 MINST 분류 신경망 모델에\n",
        "사용된 클래스를 직접 구현한다. "
      ]
    },
    {
      "cell_type": "markdown",
      "metadata": {
        "id": "bKoqEBusCiKs"
      },
      "source": [
        "### MNIST 케라스 모델\n",
        "\n",
        "앞서 사용한 케라스 모델과 훈련 과정은 다음과 같다."
      ]
    },
    {
      "cell_type": "markdown",
      "metadata": {
        "id": "Bwx2_L2QCiKs"
      },
      "source": [
        "- MNIST 데이터 불러오기와 모양 및 형 변환"
      ]
    },
    {
      "cell_type": "code",
      "execution_count": 45,
      "metadata": {
        "id": "C_Af7iBHCiKs"
      },
      "outputs": [],
      "source": [
        "(train_images, train_labels), (test_images, test_labels) = mnist.load_data()\n",
        "train_images = train_images.reshape((60000, 28 * 28))\n",
        "train_images = train_images.astype(\"float32\") / 255\n",
        "test_images = test_images.reshape((10000, 28 * 28))\n",
        "test_images = test_images.astype(\"float32\") / 255"
      ]
    },
    {
      "cell_type": "markdown",
      "metadata": {
        "id": "_RCUOOCxCiKs"
      },
      "source": [
        "- 케라스 모델 선언"
      ]
    },
    {
      "cell_type": "code",
      "execution_count": 48,
      "metadata": {
        "id": "juu5Kh_vCiKs"
      },
      "outputs": [],
      "source": [
        "model = keras.Sequential([\n",
        "    layers.Dense(512, activation=\"relu\"),\n",
        "    layers.Dense(10, activation=\"softmax\")\n",
        "])"
      ]
    },
    {
      "cell_type": "markdown",
      "metadata": {
        "id": "UstWKfuxCiKt"
      },
      "source": [
        "- 케라스 모델 컴파일"
      ]
    },
    {
      "cell_type": "code",
      "execution_count": 49,
      "metadata": {
        "id": "eH9BaCgbCiKt"
      },
      "outputs": [],
      "source": [
        "model.compile(optimizer=\"rmsprop\",\n",
        "              loss=\"sparse_categorical_crossentropy\",\n",
        "              metrics=[\"accuracy\"])"
      ]
    },
    {
      "cell_type": "markdown",
      "metadata": {
        "id": "Zm3BJFbuCiKt"
      },
      "source": [
        "- 케라스 모델 훈련"
      ]
    },
    {
      "cell_type": "code",
      "execution_count": 50,
      "metadata": {
        "id": "jxydsmpVCiKt",
        "outputId": "f3e26dea-c14c-4811-da72-23684a1681cf",
        "colab": {
          "base_uri": "https://localhost:8080/"
        }
      },
      "outputs": [
        {
          "output_type": "stream",
          "name": "stdout",
          "text": [
            "Epoch 1/5\n",
            "469/469 [==============================] - 4s 3ms/step - loss: 0.2636 - accuracy: 0.9250\n",
            "Epoch 2/5\n",
            "469/469 [==============================] - 1s 3ms/step - loss: 0.1091 - accuracy: 0.9679\n",
            "Epoch 3/5\n",
            "469/469 [==============================] - 1s 3ms/step - loss: 0.0714 - accuracy: 0.9780\n",
            "Epoch 4/5\n",
            "469/469 [==============================] - 1s 3ms/step - loss: 0.0513 - accuracy: 0.9847\n",
            "Epoch 5/5\n",
            "469/469 [==============================] - 1s 3ms/step - loss: 0.0385 - accuracy: 0.9884\n"
          ]
        },
        {
          "output_type": "execute_result",
          "data": {
            "text/plain": [
              "<keras.callbacks.History at 0x7f8d3e293e80>"
            ]
          },
          "metadata": {},
          "execution_count": 50
        }
      ],
      "source": [
        "model.fit(train_images, train_labels, epochs=5, batch_size=128)"
      ]
    },
    {
      "cell_type": "markdown",
      "metadata": {
        "id": "1nZu7uu6CiKt"
      },
      "source": [
        "### 텐서플로우만을 사용한 MNIST 모델 구현"
      ]
    },
    {
      "cell_type": "markdown",
      "metadata": {
        "id": "ol2CmNpYCiKt"
      },
      "source": [
        "#### 단순한 `Dense` 클래스\n",
        "\n",
        "- 입력 크기(`input_size`)와 출력 크기(`output_size`) 함께 지정. \n",
        "- `__call__()` 메서드: 클래스를 함수처럼 호출할 때 사용되는 매직 메서드\n",
        "- `@property`: 메서드를 속성 변수처럼 작동하도록 하는 데코레이터\n",
        "- `weights`: 가중치 텐서들의 리스트"
      ]
    },
    {
      "cell_type": "code",
      "execution_count": 51,
      "metadata": {
        "id": "-Dnu5XvDCiKt"
      },
      "outputs": [],
      "source": [
        "import tensorflow as tf\n",
        "\n",
        "class NaiveDense:\n",
        "    def __init__(self, input_size, output_size, activation):\n",
        "        self.activation = activation\n",
        "        \n",
        "        # 가중치 행렬 선언 및 초기화\n",
        "        w_shape = (input_size, output_size)\n",
        "        w_initial_value = tf.random.uniform(w_shape, minval=0, maxval=1e-1)\n",
        "        self.W = tf.Variable(w_initial_value)    # 가중치를 tf.Variable로 선언\n",
        "\n",
        "        b_shape = (output_size,)\n",
        "        b_initial_value = tf.zeros(b_shape)\n",
        "        self.b = tf.Variable(b_initial_value)    # 편향을 tf.Variable로 선언\n",
        "\n",
        "    def __call__(self, inputs):\n",
        "        return self.activation(tf.matmul(inputs, self.W) + self.b)\n",
        "\n",
        "    @property\n",
        "    def weights(self):\n",
        "        return [self.W, self.b]"
      ]
    },
    {
      "cell_type": "markdown",
      "metadata": {
        "id": "clSGA_b7CiKt"
      },
      "source": [
        "#### 단순한 `Sequential` 클래스\n",
        "\n",
        "- `__call__()` 메서드: 포함된 층의 `__call_()` 메서드 연속 적용\n",
        "- `weights`: 포함된 모든 층의 가중치 텐서를 항목으로 갖는 리스트"
      ]
    },
    {
      "cell_type": "code",
      "execution_count": 52,
      "metadata": {
        "id": "6s64ChlsCiKt"
      },
      "outputs": [],
      "source": [
        "class NaiveSequential:\n",
        "    def __init__(self, layers):\n",
        "        self.layers = layers\n",
        "\n",
        "    def __call__(self, inputs):\n",
        "        x = inputs\n",
        "        for layer in self.layers:\n",
        "            x = layer(x)\n",
        "        return x\n",
        "\n",
        "    @property\n",
        "    def weights(self):\n",
        "        weights = []\n",
        "        for layer in self.layers:\n",
        "            weights += layer.weights\n",
        "        return weights"
      ]
    },
    {
      "cell_type": "markdown",
      "metadata": {
        "id": "XZfXbCyzCiKu"
      },
      "source": [
        "#### MNIST 훈련 모델 선언"
      ]
    },
    {
      "cell_type": "code",
      "execution_count": 53,
      "metadata": {
        "id": "Wok7QUfSCiKu"
      },
      "outputs": [],
      "source": [
        "model = NaiveSequential([\n",
        "    NaiveDense(input_size=28 * 28, output_size=512, activation=tf.nn.relu),\n",
        "    NaiveDense(input_size=512, output_size=10, activation=tf.nn.softmax)\n",
        "])"
      ]
    },
    {
      "cell_type": "markdown",
      "metadata": {
        "id": "GupnEHbXCiKu"
      },
      "source": [
        "`weights` 리스트의 길이가 4로 확인된다.\n",
        "이유는 각 층에서 두 개씩 추가되었기 때문이다."
      ]
    },
    {
      "cell_type": "code",
      "execution_count": 54,
      "metadata": {
        "id": "Hgo0gmCSCiKu"
      },
      "outputs": [],
      "source": [
        "assert len(model.weights) == 4"
      ]
    },
    {
      "cell_type": "markdown",
      "metadata": {
        "id": "Rngji4F5CiKu"
      },
      "source": [
        "#### 배치(묶음) 생성 클래스"
      ]
    },
    {
      "cell_type": "markdown",
      "metadata": {
        "id": "pKzR1VG5CiKu"
      },
      "source": [
        "지정된 크기의 배치를 차례대로 생성하는 클래스이며,\n",
        "일종의 제너레이터(generator) 역할을 수행한다."
      ]
    },
    {
      "cell_type": "code",
      "execution_count": 55,
      "metadata": {
        "id": "fJI40cT4CiKu"
      },
      "outputs": [],
      "source": [
        "import math\n",
        "\n",
        "class BatchGenerator:\n",
        "    def __init__(self, images, labels, batch_size=128):\n",
        "        assert len(images) == len(labels)\n",
        "        self.index = 0\n",
        "        self.images = images\n",
        "        self.labels = labels\n",
        "        self.batch_size = batch_size\n",
        "        self.num_batches = math.ceil(len(images) / batch_size)    # 배치 개수\n",
        "\n",
        "    # 다음 배치 생성 메서드\n",
        "    def next(self):\n",
        "        images = self.images[self.index : self.index + self.batch_size]\n",
        "        labels = self.labels[self.index : self.index + self.batch_size]\n",
        "        self.index += self.batch_size\n",
        "        return images, labels"
      ]
    },
    {
      "cell_type": "markdown",
      "metadata": {
        "id": "-YKMMMnOCiKu"
      },
      "source": [
        "### 훈련 단계\n",
        "\n",
        "하나의 데이터 배치를 학습한 후에 가중치를 업데이트하는 기능을 수행하는 함수를 정의한다."
      ]
    },
    {
      "cell_type": "code",
      "execution_count": 56,
      "metadata": {
        "id": "bpFmSNfKCiKu"
      },
      "outputs": [],
      "source": [
        "def one_training_step(model, images_batch, labels_batch):\n",
        "    # 그레이디언트 테이프 활용\n",
        "    with tf.GradientTape() as tape:\n",
        "        predictions = model(images_batch)\n",
        "        per_sample_losses = tf.keras.losses.sparse_categorical_crossentropy(\n",
        "            labels_batch, predictions)\n",
        "        average_loss = tf.reduce_mean(per_sample_losses)\n",
        "    \n",
        "    # 그레이디언트 계산\n",
        "    gradients = tape.gradient(average_loss, model.weights)\n",
        "    # 가중치 업데이트\n",
        "    update_weights(gradients, model.weights)   # 가중치 업데이트 함수\n",
        "    \n",
        "    return average_loss"
      ]
    },
    {
      "cell_type": "markdown",
      "metadata": {
        "id": "jDxXGxFvCiKv"
      },
      "source": [
        "가중치 업데이트 함수는 다음과 같다.\n",
        "\n",
        "- `assign_sub()` 메서드: `tf.Variable()` 자료형의 메서드. 항목별 뺄셈 실행."
      ]
    },
    {
      "cell_type": "code",
      "execution_count": 57,
      "metadata": {
        "id": "b10Hf4fSCiKv"
      },
      "outputs": [],
      "source": [
        "learning_rate = 1e-3\n",
        "\n",
        "def update_weights(gradients, weights):\n",
        "    for g, w in zip(gradients, model.weights):\n",
        "        w.assign_sub(g * learning_rate)"
      ]
    },
    {
      "cell_type": "markdown",
      "metadata": {
        "id": "sTBl5upDCiKv"
      },
      "source": [
        "__주의사항__: 가중치 업데이트 함수를 직접 구현하는 일은 매우 드물 것이다.\n",
        "대신에 케라스의 `Optimizer` 인스턴스를 사용할 것을 권장한다.\n",
        "예를 들어 아래 코드는 `SGD` 옵티마이저를 사용한다."
      ]
    },
    {
      "cell_type": "code",
      "execution_count": 58,
      "metadata": {
        "id": "5syHqZ3hCiKv"
      },
      "outputs": [],
      "source": [
        "from tensorflow.keras import optimizers\n",
        "\n",
        "optimizer = optimizers.SGD(learning_rate=1e-3)\n",
        "\n",
        "def update_weights(gradients, weights):\n",
        "    optimizer.apply_gradients(zip(gradients, weights))"
      ]
    },
    {
      "cell_type": "markdown",
      "metadata": {
        "id": "bzYS_x3OCiKv"
      },
      "source": [
        "### 훈련 반복: 모델 학습"
      ]
    },
    {
      "cell_type": "markdown",
      "metadata": {
        "id": "rf8H7oTJCiKw"
      },
      "source": [
        "`fit()` 메서드의 역할을 수행하는 함수는 다음과 같다. "
      ]
    },
    {
      "cell_type": "code",
      "execution_count": 59,
      "metadata": {
        "id": "yCqezVUSCiKw"
      },
      "outputs": [],
      "source": [
        "def fit(model, images, labels, epochs, batch_size=128):\n",
        "    for epoch_counter in range(epochs):\n",
        "        print(f\"Epoch {epoch_counter}\")\n",
        "        batch_generator = BatchGenerator(images, labels)\n",
        "        for batch_counter in range(batch_generator.num_batches):\n",
        "            images_batch, labels_batch = batch_generator.next()\n",
        "            loss = one_training_step(model, images_batch, labels_batch)\n",
        "            \n",
        "            # 100개의 배치를 검사할 때 마다 손실값 출력\n",
        "            if batch_counter % 100 == 0:\n",
        "                print(f\"loss at batch {batch_counter}: {loss:.2f}\")"
      ]
    },
    {
      "cell_type": "markdown",
      "metadata": {
        "id": "QniXLubnCiKw"
      },
      "source": [
        "#### MNIST 데이터셋 훈련"
      ]
    },
    {
      "cell_type": "code",
      "execution_count": 60,
      "metadata": {
        "id": "n23wGl5LCiKw",
        "outputId": "19ee4609-03c5-4e74-83b3-aae5710a4a65",
        "colab": {
          "base_uri": "https://localhost:8080/"
        }
      },
      "outputs": [
        {
          "output_type": "stream",
          "name": "stdout",
          "text": [
            "Epoch 0\n",
            "loss at batch 0: 4.70\n",
            "loss at batch 100: 2.25\n",
            "loss at batch 200: 2.22\n",
            "loss at batch 300: 2.10\n",
            "loss at batch 400: 2.26\n",
            "Epoch 1\n",
            "loss at batch 0: 1.92\n",
            "loss at batch 100: 1.89\n",
            "loss at batch 200: 1.84\n",
            "loss at batch 300: 1.73\n",
            "loss at batch 400: 1.86\n",
            "Epoch 2\n",
            "loss at batch 0: 1.59\n",
            "loss at batch 100: 1.59\n",
            "loss at batch 200: 1.51\n",
            "loss at batch 300: 1.43\n",
            "loss at batch 400: 1.53\n",
            "Epoch 3\n",
            "loss at batch 0: 1.33\n",
            "loss at batch 100: 1.35\n",
            "loss at batch 200: 1.24\n",
            "loss at batch 300: 1.22\n",
            "loss at batch 400: 1.29\n",
            "Epoch 4\n",
            "loss at batch 0: 1.13\n",
            "loss at batch 100: 1.16\n",
            "loss at batch 200: 1.05\n",
            "loss at batch 300: 1.05\n",
            "loss at batch 400: 1.12\n",
            "Epoch 5\n",
            "loss at batch 0: 0.99\n",
            "loss at batch 100: 1.02\n",
            "loss at batch 200: 0.91\n",
            "loss at batch 300: 0.93\n",
            "loss at batch 400: 1.00\n",
            "Epoch 6\n",
            "loss at batch 0: 0.88\n",
            "loss at batch 100: 0.92\n",
            "loss at batch 200: 0.81\n",
            "loss at batch 300: 0.84\n",
            "loss at batch 400: 0.91\n",
            "Epoch 7\n",
            "loss at batch 0: 0.80\n",
            "loss at batch 100: 0.83\n",
            "loss at batch 200: 0.73\n",
            "loss at batch 300: 0.77\n",
            "loss at batch 400: 0.84\n",
            "Epoch 8\n",
            "loss at batch 0: 0.74\n",
            "loss at batch 100: 0.77\n",
            "loss at batch 200: 0.67\n",
            "loss at batch 300: 0.72\n",
            "loss at batch 400: 0.78\n",
            "Epoch 9\n",
            "loss at batch 0: 0.69\n",
            "loss at batch 100: 0.71\n",
            "loss at batch 200: 0.62\n",
            "loss at batch 300: 0.67\n",
            "loss at batch 400: 0.74\n"
          ]
        }
      ],
      "source": [
        "from tensorflow.keras.datasets import mnist\n",
        "(train_images, train_labels), (test_images, test_labels) = mnist.load_data()\n",
        "\n",
        "train_images = train_images.reshape((60000, 28 * 28))\n",
        "train_images = train_images.astype(\"float32\") / 255\n",
        "test_images = test_images.reshape((10000, 28 * 28))\n",
        "test_images = test_images.astype(\"float32\") / 255\n",
        "\n",
        "fit(model, train_images, train_labels, epochs=10, batch_size=128)"
      ]
    },
    {
      "cell_type": "markdown",
      "metadata": {
        "id": "ixrLW_kOCiKw"
      },
      "source": [
        "### 모델 평가"
      ]
    },
    {
      "cell_type": "markdown",
      "metadata": {
        "id": "N0Nv_ziJCiKw"
      },
      "source": [
        "테스트 세트에 대해 81% 정도의 정확도 성능을 보여준다."
      ]
    },
    {
      "cell_type": "code",
      "execution_count": 61,
      "metadata": {
        "id": "oXmrSuv3CiKw",
        "outputId": "fa3be655-25df-46c5-b972-585ad1ae832c",
        "colab": {
          "base_uri": "https://localhost:8080/"
        }
      },
      "outputs": [
        {
          "output_type": "stream",
          "name": "stdout",
          "text": [
            "accuracy: 0.81\n"
          ]
        }
      ],
      "source": [
        "predictions = model(test_images)    # 텐서플로우 자료형\n",
        "predictions = predictions.numpy()\n",
        "predicted_labels = np.argmax(predictions, axis=1)\n",
        "matches = predicted_labels == test_labels\n",
        "print(f\"accuracy: {matches.mean():.2f}\")"
      ]
    }
  ],
  "metadata": {
    "colab": {
      "name": "dlp02_mathematical_building_blocks",
      "provenance": [],
      "toc_visible": true
    },
    "kernelspec": {
      "display_name": "Python 3",
      "language": "python",
      "name": "python3"
    },
    "language_info": {
      "codemirror_mode": {
        "name": "ipython",
        "version": 3
      },
      "file_extension": ".py",
      "mimetype": "text/x-python",
      "name": "python",
      "nbconvert_exporter": "python",
      "pygments_lexer": "ipython3",
      "version": "3.8.5"
    },
    "accelerator": "GPU",
    "gpuClass": "standard"
  },
  "nbformat": 4,
  "nbformat_minor": 0
}